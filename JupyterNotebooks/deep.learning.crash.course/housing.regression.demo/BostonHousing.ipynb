{
 "cells": [
  {
   "cell_type": "markdown",
   "metadata": {},
   "source": [
    "## Boston Housing Price prediction\n",
    "Regression sample"
   ]
  },
  {
   "cell_type": "code",
   "execution_count": 1,
   "metadata": {},
   "outputs": [
    {
     "name": "stderr",
     "output_type": "stream",
     "text": [
      "Using TensorFlow backend.\n"
     ]
    }
   ],
   "source": [
    "from keras.datasets import boston_housing  # Doc at https://keras.io/datasets/. Downloaded archive in ~/.keras/datasets/boston_housing.npz"
   ]
  },
  {
   "cell_type": "markdown",
   "metadata": {},
   "source": [
    "### Loading the data\n",
    "Summary of the data, found [here](http://rstudio-pubs-static.s3.amazonaws.com/368819_35c07fc9852a47389a2d64685f88fec4.html)\n",
    "```\n",
    "##       crim                zn             indus            chas        \n",
    "##  Min.   : 0.00632   Min.   :  0.00   Min.   : 0.46   Min.   :0.00000  \n",
    "##  1st Qu.: 0.08354   1st Qu.:  0.00   1st Qu.: 5.19   1st Qu.:0.00000  \n",
    "##  Median : 0.25372   Median :  0.00   Median : 8.56   Median :0.00000  \n",
    "##  Mean   : 3.68856   Mean   : 11.38   Mean   :11.14   Mean   :0.06931  \n",
    "##  3rd Qu.: 3.54343   3rd Qu.: 12.50   3rd Qu.:18.10   3rd Qu.:0.00000  \n",
    "##  Max.   :88.97620   Max.   :100.00   Max.   :27.74   Max.   :1.00000  \n",
    "##       nox              rm             age              dis        \n",
    "##  Min.   :0.385   Min.   :3.561   Min.   :  2.90   Min.   : 1.130  \n",
    "##  1st Qu.:0.449   1st Qu.:5.883   1st Qu.: 43.62   1st Qu.: 2.106  \n",
    "##  Median :0.532   Median :6.189   Median : 79.05   Median : 3.158  \n",
    "##  Mean   :0.554   Mean   :6.273   Mean   : 68.74   Mean   : 3.819  \n",
    "##  3rd Qu.:0.624   3rd Qu.:6.597   3rd Qu.: 94.35   3rd Qu.: 5.287  \n",
    "##  Max.   :0.871   Max.   :8.725   Max.   :100.00   Max.   :12.127  \n",
    "##       rad              tax           ptratio          black       \n",
    "##  Min.   : 1.000   Min.   :187.0   Min.   :12.60   Min.   :  0.32  \n",
    "##  1st Qu.: 4.000   1st Qu.:280.5   1st Qu.:17.23   1st Qu.:376.09  \n",
    "##  Median : 5.000   Median :330.0   Median :19.10   Median :391.44  \n",
    "##  Mean   : 9.483   Mean   :406.7   Mean   :18.46   Mean   :358.84  \n",
    "##  3rd Qu.:24.000   3rd Qu.:666.0   3rd Qu.:20.20   3rd Qu.:396.25  \n",
    "##  Max.   :24.000   Max.   :711.0   Max.   :22.00   Max.   :396.90  \n",
    "##      lstat             medv      \n",
    "##  Min.   : 1.730   Min.   : 5.00  \n",
    "##  1st Qu.: 7.135   1st Qu.:17.10  \n",
    "##  Median :11.570   Median :21.20  \n",
    "##  Mean   :12.820   Mean   :22.63  \n",
    "##  3rd Qu.:17.225   3rd Qu.:25.02  \n",
    "##  Max.   :37.970   Max.   :50.00\n",
    "```"
   ]
  },
  {
   "cell_type": "code",
   "execution_count": 2,
   "metadata": {},
   "outputs": [],
   "source": [
    "data_labels = [\"crim\", \"zn\", \"indus\", \"chas\", \"nox\", \"rm\", \"age\", \n",
    "               \"dis\", \"rad\", \"tax\", \"ptratio\", \"black\", \"lstat\", \"medv\"]"
   ]
  },
  {
   "cell_type": "code",
   "execution_count": 3,
   "metadata": {},
   "outputs": [],
   "source": [
    "(train_data, train_targets), (test_data, test_targets) = boston_housing.load_data()"
   ]
  },
  {
   "cell_type": "code",
   "execution_count": 4,
   "metadata": {},
   "outputs": [
    {
     "name": "stdout",
     "output_type": "stream",
     "text": [
      "len(train_data): 404\n",
      "len(train_data[0]): 13\n",
      "Index 0, crim => 1.23247\n",
      "Index 1, zn => 0.0\n",
      "Index 2, indus => 8.14\n",
      "Index 3, chas => 0.0\n",
      "Index 4, nox => 0.538\n",
      "Index 5, rm => 6.142\n",
      "Index 6, age => 91.7\n",
      "Index 7, dis => 3.9769\n",
      "Index 8, rad => 4.0\n",
      "Index 9, tax => 307.0\n",
      "Index 10, ptratio => 21.0\n",
      "Index 11, black => 396.9\n",
      "Index 12, lstat => 18.72\n",
      "\n",
      "\tFor the input (train) data above, the target was 15.2.\n",
      "\n",
      "Sample:\n",
      "Acc=9047.6, Avg:22.395049504950496\n"
     ]
    }
   ],
   "source": [
    "train_data.shape\n",
    "train_targets.shape\n",
    "print(\"len(train_data): {}\".format(len(train_data)))\n",
    "print(\"len(train_data[0]): {}\".format(len(train_data[0])))\n",
    "for i in range(len(train_data[0])):\n",
    "    print(\"Index {}, {} => {}\".format(i, data_labels[i], train_data[0][i]))\n",
    "    \n",
    "print(\"\\n\\tFor the input (train) data above, the target was {}.\\n\".format(train_targets[0]))    \n",
    "print(\"Sample:\")\n",
    "train_data[0:]\n",
    "# train_data[0:0].median()\n",
    "# TODO What does each column mean???\n",
    "\n",
    "# For info, calculate avg target\n",
    "acc = 0\n",
    "for i in range(len(train_targets)):\n",
    "    acc += train_targets[i]\n",
    "print(\"Acc={}, Avg:{}\".format(acc, acc / len(train_targets)))"
   ]
  },
  {
   "cell_type": "code",
   "execution_count": 5,
   "metadata": {},
   "outputs": [
    {
     "data": {
      "text/plain": [
       "(102, 13)"
      ]
     },
     "execution_count": 5,
     "metadata": {},
     "output_type": "execute_result"
    }
   ],
   "source": [
    "test_data.shape"
   ]
  },
  {
   "cell_type": "code",
   "execution_count": 6,
   "metadata": {},
   "outputs": [
    {
     "data": {
      "text/plain": [
       "array([15.2, 42.3, 50. , 21.1, 17.7, 18.5, 11.3, 15.6, 15.6, 14.4, 12.1,\n",
       "       17.9, 23.1, 19.9, 15.7,  8.8, 50. , 22.5, 24.1, 27.5, 10.9, 30.8,\n",
       "       32.9, 24. , 18.5, 13.3, 22.9, 34.7, 16.6, 17.5, 22.3, 16.1, 14.9,\n",
       "       23.1, 34.9, 25. , 13.9, 13.1, 20.4, 20. , 15.2, 24.7, 22.2, 16.7,\n",
       "       12.7, 15.6, 18.4, 21. , 30.1, 15.1, 18.7,  9.6, 31.5, 24.8, 19.1,\n",
       "       22. , 14.5, 11. , 32. , 29.4, 20.3, 24.4, 14.6, 19.5, 14.1, 14.3,\n",
       "       15.6, 10.5,  6.3, 19.3, 19.3, 13.4, 36.4, 17.8, 13.5, 16.5,  8.3,\n",
       "       14.3, 16. , 13.4, 28.6, 43.5, 20.2, 22. , 23. , 20.7, 12.5, 48.5,\n",
       "       14.6, 13.4, 23.7, 50. , 21.7, 39.8, 38.7, 22.2, 34.9, 22.5, 31.1,\n",
       "       28.7, 46. , 41.7, 21. , 26.6, 15. , 24.4, 13.3, 21.2, 11.7, 21.7,\n",
       "       19.4, 50. , 22.8, 19.7, 24.7, 36.2, 14.2, 18.9, 18.3, 20.6, 24.6,\n",
       "       18.2,  8.7, 44. , 10.4, 13.2, 21.2, 37. , 30.7, 22.9, 20. , 19.3,\n",
       "       31.7, 32. , 23.1, 18.8, 10.9, 50. , 19.6,  5. , 14.4, 19.8, 13.8,\n",
       "       19.6, 23.9, 24.5, 25. , 19.9, 17.2, 24.6, 13.5, 26.6, 21.4, 11.9,\n",
       "       22.6, 19.6,  8.5, 23.7, 23.1, 22.4, 20.5, 23.6, 18.4, 35.2, 23.1,\n",
       "       27.9, 20.6, 23.7, 28. , 13.6, 27.1, 23.6, 20.6, 18.2, 21.7, 17.1,\n",
       "        8.4, 25.3, 13.8, 22.2, 18.4, 20.7, 31.6, 30.5, 20.3,  8.8, 19.2,\n",
       "       19.4, 23.1, 23. , 14.8, 48.8, 22.6, 33.4, 21.1, 13.6, 32.2, 13.1,\n",
       "       23.4, 18.9, 23.9, 11.8, 23.3, 22.8, 19.6, 16.7, 13.4, 22.2, 20.4,\n",
       "       21.8, 26.4, 14.9, 24.1, 23.8, 12.3, 29.1, 21. , 19.5, 23.3, 23.8,\n",
       "       17.8, 11.5, 21.7, 19.9, 25. , 33.4, 28.5, 21.4, 24.3, 27.5, 33.1,\n",
       "       16.2, 23.3, 48.3, 22.9, 22.8, 13.1, 12.7, 22.6, 15. , 15.3, 10.5,\n",
       "       24. , 18.5, 21.7, 19.5, 33.2, 23.2,  5. , 19.1, 12.7, 22.3, 10.2,\n",
       "       13.9, 16.3, 17. , 20.1, 29.9, 17.2, 37.3, 45.4, 17.8, 23.2, 29. ,\n",
       "       22. , 18. , 17.4, 34.6, 20.1, 25. , 15.6, 24.8, 28.2, 21.2, 21.4,\n",
       "       23.8, 31. , 26.2, 17.4, 37.9, 17.5, 20. ,  8.3, 23.9,  8.4, 13.8,\n",
       "        7.2, 11.7, 17.1, 21.6, 50. , 16.1, 20.4, 20.6, 21.4, 20.6, 36.5,\n",
       "        8.5, 24.8, 10.8, 21.9, 17.3, 18.9, 36.2, 14.9, 18.2, 33.3, 21.8,\n",
       "       19.7, 31.6, 24.8, 19.4, 22.8,  7.5, 44.8, 16.8, 18.7, 50. , 50. ,\n",
       "       19.5, 20.1, 50. , 17.2, 20.8, 19.3, 41.3, 20.4, 20.5, 13.8, 16.5,\n",
       "       23.9, 20.6, 31.5, 23.3, 16.8, 14. , 33.8, 36.1, 12.8, 18.3, 18.7,\n",
       "       19.1, 29. , 30.1, 50. , 50. , 22. , 11.9, 37.6, 50. , 22.7, 20.8,\n",
       "       23.5, 27.9, 50. , 19.3, 23.9, 22.6, 15.2, 21.7, 19.2, 43.8, 20.3,\n",
       "       33.2, 19.9, 22.5, 32.7, 22. , 17.1, 19. , 15. , 16.1, 25.1, 23.7,\n",
       "       28.7, 37.2, 22.6, 16.4, 25. , 29.8, 22.1, 17.4, 18.1, 30.3, 17.5,\n",
       "       24.7, 12.6, 26.5, 28.7, 13.3, 10.4, 24.4, 23. , 20. , 17.8,  7. ,\n",
       "       11.8, 24.4, 13.8, 19.4, 25.2, 19.4, 19.4, 29.1])"
      ]
     },
     "execution_count": 6,
     "metadata": {},
     "output_type": "execute_result"
    }
   ],
   "source": [
    "train_targets"
   ]
  },
  {
   "cell_type": "markdown",
   "metadata": {},
   "source": [
    "### Preparing the data"
   ]
  },
  {
   "cell_type": "code",
   "execution_count": 7,
   "metadata": {},
   "outputs": [],
   "source": [
    "mean = train_data.mean(axis=0)\n",
    "train_data -= mean\n",
    "std = train_data.std(axis=0)\n",
    "train_data /= std\n",
    "\n",
    "test_data -= mean\n",
    "test_data /= std"
   ]
  },
  {
   "cell_type": "markdown",
   "metadata": {},
   "source": [
    "#### Building the network"
   ]
  },
  {
   "cell_type": "code",
   "execution_count": 8,
   "metadata": {},
   "outputs": [],
   "source": [
    "from keras import models\n",
    "from keras import layers\n",
    "\n",
    "# Because we'll need to instanciate the same model multiple times\n",
    "# we use here a function to build it\n",
    "def build_model():\n",
    "    model = models.Sequential()\n",
    "    model.add(layers.Dense(64, activation='relu',\n",
    "                           input_shape=(train_data.shape[1],)))\n",
    "    model.add(layers.Dense(64, activation='relu'))\n",
    "    model.add(layers.Dense(1))\n",
    "    model.compile(optimizer='rmsprop', loss='mse', metrics=['mae']) # Mean Absolute Error\n",
    "    return model"
   ]
  },
  {
   "cell_type": "markdown",
   "metadata": {},
   "source": [
    "### K-fold validation"
   ]
  },
  {
   "cell_type": "code",
   "execution_count": 11,
   "metadata": {},
   "outputs": [
    {
     "name": "stdout",
     "output_type": "stream",
     "text": [
      "processing fold #0\n",
      "\tFold #0 completed\n",
      "processing fold #1\n",
      "\tFold #1 completed\n",
      "processing fold #2\n",
      "\tFold #2 completed\n",
      "processing fold #3\n",
      "\tFold #3 completed\n",
      "K-Fold validation (4 folds) completed.\n"
     ]
    }
   ],
   "source": [
    "import numpy as np\n",
    "\n",
    "k = 4\n",
    "num_val_samples = len(train_data) // k  # // is floor\n",
    "num_epochs = 100\n",
    "all_scores = []\n",
    "\n",
    "for i in range(k):\n",
    "    print('processing fold #{}'.format(i))\n",
    "    val_data = train_data[i * num_val_samples: (i + 1) * num_val_samples]\n",
    "    val_targets = train_targets[i * num_val_samples: (i + 1) * num_val_samples]\n",
    "    \n",
    "    partial_train_data = np.concatenate(\n",
    "        [train_data[:i * num_val_samples],\n",
    "         train_data[(i + 1) * num_val_samples:]], \n",
    "        axis=0)\n",
    "\n",
    "    partial_train_targets = np.concatenate(\n",
    "        [train_targets[:i * num_val_samples],\n",
    "         train_targets[(i + 1) * num_val_samples:]], \n",
    "        axis=0)\n",
    "        \n",
    "    model = build_model()  # Then invoke above\n",
    "    model.fit(partial_train_data, partial_train_targets,\n",
    "             epochs=num_epochs, batch_size=1, verbose=0)\n",
    "    val_mse, val_mae = model.evaluate(val_data, val_targets, verbose=0)\n",
    "    all_scores.append(val_mae)\n",
    "    print('\\tFold #{} completed'.format(i))\n",
    "\n",
    "print(\"K-Fold validation ({} folds) completed.\".format(k))"
   ]
  },
  {
   "cell_type": "code",
   "execution_count": 12,
   "metadata": {},
   "outputs": [
    {
     "data": {
      "text/plain": [
       "[2.089223623275757, 2.802062749862671, 2.8712351322174072, 2.4326043128967285]"
      ]
     },
     "execution_count": 12,
     "metadata": {},
     "output_type": "execute_result"
    }
   ],
   "source": [
    "all_scores"
   ]
  },
  {
   "cell_type": "code",
   "execution_count": 13,
   "metadata": {},
   "outputs": [
    {
     "data": {
      "text/plain": [
       "2.548781454563141"
      ]
     },
     "execution_count": 13,
     "metadata": {},
     "output_type": "execute_result"
    }
   ],
   "source": [
    "np.mean(all_scores)"
   ]
  },
  {
   "cell_type": "markdown",
   "metadata": {},
   "source": [
    "#### Saving validation at each fold"
   ]
  },
  {
   "cell_type": "code",
   "execution_count": 18,
   "metadata": {},
   "outputs": [
    {
     "name": "stdout",
     "output_type": "stream",
     "text": [
      "processing fold #0\n",
      "\tFold #0 completed\n",
      "processing fold #1\n",
      "\tFold #1 completed\n",
      "processing fold #2\n",
      "\tFold #2 completed\n",
      "processing fold #3\n",
      "\tFold #3 completed\n",
      "K-Fold validation (4 folds) completed.\n"
     ]
    }
   ],
   "source": [
    "num_epochs = 500\n",
    "all_mae_histories = []\n",
    "for i in range(k):\n",
    "    print('processing fold #{}'.format(i))\n",
    "    val_data = train_data[i * num_val_samples: (i + 1) * num_val_samples]\n",
    "    val_targets = train_targets[i * num_val_samples: (i + 1) * num_val_samples]\n",
    "    \n",
    "    partial_train_data = np.concatenate(\n",
    "        [train_data[:i * num_val_samples],\n",
    "         train_data[(i + 1) * num_val_samples:]], \n",
    "        axis=0)\n",
    "\n",
    "    partial_train_targets = np.concatenate(\n",
    "        [train_targets[:i * num_val_samples],\n",
    "         train_targets[(i + 1) * num_val_samples:]], \n",
    "        axis=0)\n",
    "        \n",
    "    model = build_model()  # Invoke then above\n",
    "    history = model.fit(partial_train_data, partial_train_targets,\n",
    "                        validation_data=(val_data, val_targets),\n",
    "                        epochs=num_epochs, batch_size=1, verbose=0)\n",
    "    # val_mse, val_mae = model.evaluate(val_data, val_targets, verbose=0)\n",
    "    # print(\"history.history: {}\".format(history.history))\n",
    "    if 'val_mean_absolute_error' in history.history:\n",
    "        mae_history = history.history['val_mean_absolute_error']  # Gone is the last version?\n",
    "    else:\n",
    "        print(\"Using val_loss...\")\n",
    "        mae_history = history.history['val_loss']\n",
    "    all_mae_histories.append(mae_history)\n",
    "    print('\\tFold #{} completed'.format(i))\n",
    "\n",
    "print(\"K-Fold validation ({} folds) completed.\".format(k))"
   ]
  },
  {
   "cell_type": "code",
   "execution_count": 19,
   "metadata": {},
   "outputs": [],
   "source": [
    "average_mae_history = [\n",
    "    np.mean([x[i] for x in all_mae_histories]) for i in range(num_epochs)]\n",
    "\n",
    "# average_mae_history"
   ]
  },
  {
   "cell_type": "markdown",
   "metadata": {},
   "source": [
    "### Now plot"
   ]
  },
  {
   "cell_type": "code",
   "execution_count": 21,
   "metadata": {},
   "outputs": [
    {
     "data": {
      "image/png": "[encoded data removed]",
      "text/plain": [
       "<Figure size 432x288 with 1 Axes>"
      ]
     },
     "metadata": {
      "needs_background": "light"
     },
     "output_type": "display_data"
    }
   ],
   "source": [
    "import matplotlib.pyplot as plt\n",
    "\n",
    "plt.plot(range(1, len(average_mae_history) + 1), average_mae_history)\n",
    "plt.xlabel('Epochs')\n",
    "plt.ylabel('Validation MAE')\n",
    "plt.title('MAE vs epochs')\n",
    "# plt.legend()\n",
    "plt.show()"
   ]
  },
  {
   "cell_type": "markdown",
   "metadata": {},
   "source": [
    "### Excluding 10 first points"
   ]
  },
  {
   "cell_type": "code",
   "execution_count": 22,
   "metadata": {},
   "outputs": [
    {
     "data": {
      "image/png": "[encoded data removed]",
      "text/plain": [
       "<Figure size 432x288 with 1 Axes>"
      ]
     },
     "metadata": {
      "needs_background": "light"
     },
     "output_type": "display_data"
    }
   ],
   "source": [
    "def smooth_curve(points, factor=0.9):\n",
    "    smoothed_points = []\n",
    "    for point in points:\n",
    "        if smoothed_points:\n",
    "            previous = smoothed_points[-1]\n",
    "            smoothed_points.append(previous * factor + point * (1 - factor))\n",
    "        else:\n",
    "            smoothed_points.append(point)\n",
    "    return smoothed_points\n",
    "\n",
    "smooth_mae_history = smooth_curve(average_mae_history[10:])\n",
    "\n",
    "plt.plot(range(1, len(smooth_mae_history) + 1), smooth_mae_history)\n",
    "plt.xlabel('Epochs')\n",
    "plt.ylabel('Validation MAE')\n",
    "# plt.legend()\n",
    "plt.show()"
   ]
  },
  {
   "cell_type": "markdown",
   "metadata": {},
   "source": [
    "### Training then final model, epochs=80"
   ]
  },
  {
   "cell_type": "code",
   "execution_count": 23,
   "metadata": {},
   "outputs": [
    {
     "name": "stdout",
     "output_type": "stream",
     "text": [
      "Model: \"sequential_19\"\n",
      "_________________________________________________________________\n",
      "Layer (type)                 Output Shape              Param #   \n",
      "=================================================================\n",
      "dense_55 (Dense)             (None, 64)                896       \n",
      "_________________________________________________________________\n",
      "dense_56 (Dense)             (None, 64)                4160      \n",
      "_________________________________________________________________\n",
      "dense_57 (Dense)             (None, 1)                 65        \n",
      "=================================================================\n",
      "Total params: 5,121\n",
      "Trainable params: 5,121\n",
      "Non-trainable params: 0\n",
      "_________________________________________________________________\n",
      "102/102 [==============================] - 0s 221us/step\n",
      "\n",
      ">> TEST Mean Absolute Error: $2638.66\n",
      "Model was saved\n"
     ]
    }
   ],
   "source": [
    "model = build_model()\n",
    "model.summary()\n",
    "model.fit(train_data, train_targets,\n",
    "          epochs=80, batch_size=16, verbose=0)\n",
    "test_mse_score, test_mae_score = model.evaluate(test_data, test_targets)\n",
    "\n",
    "print(\"\\n>> TEST Mean Absolute Error: ${:0.2f}\".format(test_mae_score * 1000))\n",
    "\n",
    "model.save('housing.h5')\n",
    "print(\"Model was saved\")"
   ]
  },
  {
   "cell_type": "markdown",
   "metadata": {},
   "source": [
    "#### Other resources\n",
    "- [Allen Reyes](http://allan.reyes.sh/mlnd-boston-housing/)\n",
    "- [olegleyz](https://olegleyz.github.io/boston_housing.html)\n",
    "- [RStudio](http://rstudio-pubs-static.s3.amazonaws.com/368819_35c07fc9852a47389a2d64685f88fec4.html), this one explains what the data are\n"
   ]
  },
  {
   "cell_type": "markdown",
   "metadata": {},
   "source": [
    "#### Try a prediction\n",
    "On first train_data, expecting first train_target."
   ]
  },
  {
   "cell_type": "code",
   "execution_count": 24,
   "metadata": {},
   "outputs": [
    {
     "name": "stdout",
     "output_type": "stream",
     "text": [
      "Input data shape: (1, 13)\n",
      "[[-0.27224633 -0.48361547 -0.43576161 -0.25683275 -0.1652266  -0.1764426\n",
      "   0.81306188  0.1166983  -0.62624905 -0.59517003  1.14850044  0.44807713\n",
      "   0.8252202 ]]\n",
      "Prediction: shape:(1, 1), [[16.13109]]\n",
      "Predicted: 16.13\n",
      "Expected: 15.20, error -6.13%\n"
     ]
    }
   ],
   "source": [
    "# input_data = np.array([[1.23247, 0.0, 8.14, 0.0, 0.538, 6.142, 91.7, 3.9769, 4.0, 307.0, 21.0, 396.9, 18.72]])\n",
    "input_data = np.array([train_data[0]])\n",
    "print(\"Input data shape: {}\\n{}\".format(input_data.shape, input_data))\n",
    "prediction = model.predict(input_data)\n",
    "print(\"Prediction: shape:{}, {}\".format(prediction.shape, prediction))\n",
    "print(\"Predicted: {:0.2f}\".format(prediction[0][0]))\n",
    "diff = train_targets[0] - prediction[0][0]\n",
    "print(\"Expected: {:0.2f}, error {:0.2f}%\".format(train_targets[0], 100 * (diff / train_targets[0])))"
   ]
  },
  {
   "cell_type": "code",
   "execution_count": null,
   "metadata": {},
   "outputs": [],
   "source": []
  }
 ],
 "metadata": {
  "kernelspec": {
   "display_name": "Python 3",
   "language": "python",
   "name": "python3"
  },
  "language_info": {
   "codemirror_mode": {
    "name": "ipython",
    "version": 3
   },
   "file_extension": ".py",
   "mimetype": "text/x-python",
   "name": "python",
   "nbconvert_exporter": "python",
   "pygments_lexer": "ipython3",
   "version": "3.7.0"
  }
 },
 "nbformat": 4,
 "nbformat_minor": 2
}
