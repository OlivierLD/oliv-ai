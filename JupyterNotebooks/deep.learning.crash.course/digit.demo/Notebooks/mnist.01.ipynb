{
 "cells": [
  {
   "cell_type": "markdown",
   "metadata": {},
   "source": [
    "## MNIST Data Set (Modified National Institute of Standards and Technology)"
   ]
  },
  {
   "cell_type": "code",
   "execution_count": 3,
   "metadata": {},
   "outputs": [
    {
     "name": "stdout",
     "output_type": "stream",
     "text": [
      "3.7.9 (default, Sep  9 2020, 00:09:07) \n",
      "[Clang 11.0.3 (clang-1103.0.32.62)]\n",
      "Requirement already satisfied: tensorflow in /Users/olivierlediouris/repos/oliv-ai/JupyterNotebooks/py_37_env/lib/python3.7/site-packages (2.3.1)\n",
      "Requirement already satisfied: absl-py>=0.7.0 in /Users/olivierlediouris/repos/oliv-ai/JupyterNotebooks/py_37_env/lib/python3.7/site-packages (from tensorflow) (0.11.0)\n",
      "Requirement already satisfied: google-pasta>=0.1.8 in /Users/olivierlediouris/repos/oliv-ai/JupyterNotebooks/py_37_env/lib/python3.7/site-packages (from tensorflow) (0.2.0)\n",
      "Requirement already satisfied: tensorboard<3,>=2.3.0 in /Users/olivierlediouris/repos/oliv-ai/JupyterNotebooks/py_37_env/lib/python3.7/site-packages (from tensorflow) (2.3.0)\n",
      "Requirement already satisfied: tensorflow-estimator<2.4.0,>=2.3.0 in /Users/olivierlediouris/repos/oliv-ai/JupyterNotebooks/py_37_env/lib/python3.7/site-packages (from tensorflow) (2.3.0)\n",
      "Requirement already satisfied: wheel>=0.26 in /Users/olivierlediouris/repos/oliv-ai/JupyterNotebooks/py_37_env/lib/python3.7/site-packages (from tensorflow) (0.35.1)\n",
      "Requirement already satisfied: numpy<1.19.0,>=1.16.0 in /Users/olivierlediouris/repos/oliv-ai/JupyterNotebooks/py_37_env/lib/python3.7/site-packages (from tensorflow) (1.18.5)\n",
      "Requirement already satisfied: protobuf>=3.9.2 in /Users/olivierlediouris/repos/oliv-ai/JupyterNotebooks/py_37_env/lib/python3.7/site-packages (from tensorflow) (3.13.0)\n",
      "Requirement already satisfied: opt-einsum>=2.3.2 in /Users/olivierlediouris/repos/oliv-ai/JupyterNotebooks/py_37_env/lib/python3.7/site-packages (from tensorflow) (3.3.0)\n",
      "Requirement already satisfied: termcolor>=1.1.0 in /Users/olivierlediouris/repos/oliv-ai/JupyterNotebooks/py_37_env/lib/python3.7/site-packages (from tensorflow) (1.1.0)\n",
      "Requirement already satisfied: six>=1.12.0 in /Users/olivierlediouris/repos/oliv-ai/JupyterNotebooks/py_37_env/lib/python3.7/site-packages (from tensorflow) (1.15.0)\n",
      "Requirement already satisfied: h5py<2.11.0,>=2.10.0 in /Users/olivierlediouris/repos/oliv-ai/JupyterNotebooks/py_37_env/lib/python3.7/site-packages (from tensorflow) (2.10.0)\n",
      "Requirement already satisfied: astunparse==1.6.3 in /Users/olivierlediouris/repos/oliv-ai/JupyterNotebooks/py_37_env/lib/python3.7/site-packages (from tensorflow) (1.6.3)\n",
      "Requirement already satisfied: keras-preprocessing<1.2,>=1.1.1 in /Users/olivierlediouris/repos/oliv-ai/JupyterNotebooks/py_37_env/lib/python3.7/site-packages (from tensorflow) (1.1.2)\n",
      "Requirement already satisfied: gast==0.3.3 in /Users/olivierlediouris/repos/oliv-ai/JupyterNotebooks/py_37_env/lib/python3.7/site-packages (from tensorflow) (0.3.3)\n",
      "Requirement already satisfied: grpcio>=1.8.6 in /Users/olivierlediouris/repos/oliv-ai/JupyterNotebooks/py_37_env/lib/python3.7/site-packages (from tensorflow) (1.33.2)\n",
      "Requirement already satisfied: wrapt>=1.11.1 in /Users/olivierlediouris/repos/oliv-ai/JupyterNotebooks/py_37_env/lib/python3.7/site-packages (from tensorflow) (1.12.1)\n",
      "Requirement already satisfied: setuptools>=41.0.0 in /Users/olivierlediouris/repos/oliv-ai/JupyterNotebooks/py_37_env/lib/python3.7/site-packages (from tensorboard<3,>=2.3.0->tensorflow) (50.3.2)\n",
      "Requirement already satisfied: requests<3,>=2.21.0 in /Users/olivierlediouris/repos/oliv-ai/JupyterNotebooks/py_37_env/lib/python3.7/site-packages (from tensorboard<3,>=2.3.0->tensorflow) (2.24.0)\n",
      "Requirement already satisfied: google-auth-oauthlib<0.5,>=0.4.1 in /Users/olivierlediouris/repos/oliv-ai/JupyterNotebooks/py_37_env/lib/python3.7/site-packages (from tensorboard<3,>=2.3.0->tensorflow) (0.4.2)\n",
      "Requirement already satisfied: tensorboard-plugin-wit>=1.6.0 in /Users/olivierlediouris/repos/oliv-ai/JupyterNotebooks/py_37_env/lib/python3.7/site-packages (from tensorboard<3,>=2.3.0->tensorflow) (1.7.0)\n",
      "Requirement already satisfied: markdown>=2.6.8 in /Users/olivierlediouris/repos/oliv-ai/JupyterNotebooks/py_37_env/lib/python3.7/site-packages (from tensorboard<3,>=2.3.0->tensorflow) (3.3.3)\n",
      "Requirement already satisfied: google-auth<2,>=1.6.3 in /Users/olivierlediouris/repos/oliv-ai/JupyterNotebooks/py_37_env/lib/python3.7/site-packages (from tensorboard<3,>=2.3.0->tensorflow) (1.23.0)\n",
      "Requirement already satisfied: werkzeug>=0.11.15 in /Users/olivierlediouris/repos/oliv-ai/JupyterNotebooks/py_37_env/lib/python3.7/site-packages (from tensorboard<3,>=2.3.0->tensorflow) (1.0.1)\n",
      "Requirement already satisfied: certifi>=2017.4.17 in /Users/olivierlediouris/repos/oliv-ai/JupyterNotebooks/py_37_env/lib/python3.7/site-packages (from requests<3,>=2.21.0->tensorboard<3,>=2.3.0->tensorflow) (2020.6.20)\n",
      "Requirement already satisfied: urllib3!=1.25.0,!=1.25.1,<1.26,>=1.21.1 in /Users/olivierlediouris/repos/oliv-ai/JupyterNotebooks/py_37_env/lib/python3.7/site-packages (from requests<3,>=2.21.0->tensorboard<3,>=2.3.0->tensorflow) (1.25.11)\n",
      "Requirement already satisfied: chardet<4,>=3.0.2 in /Users/olivierlediouris/repos/oliv-ai/JupyterNotebooks/py_37_env/lib/python3.7/site-packages (from requests<3,>=2.21.0->tensorboard<3,>=2.3.0->tensorflow) (3.0.4)\n",
      "Requirement already satisfied: idna<3,>=2.5 in /Users/olivierlediouris/repos/oliv-ai/JupyterNotebooks/py_37_env/lib/python3.7/site-packages (from requests<3,>=2.21.0->tensorboard<3,>=2.3.0->tensorflow) (2.10)\n",
      "Requirement already satisfied: requests-oauthlib>=0.7.0 in /Users/olivierlediouris/repos/oliv-ai/JupyterNotebooks/py_37_env/lib/python3.7/site-packages (from google-auth-oauthlib<0.5,>=0.4.1->tensorboard<3,>=2.3.0->tensorflow) (1.3.0)\n",
      "Requirement already satisfied: importlib-metadata; python_version < \"3.8\" in /Users/olivierlediouris/repos/oliv-ai/JupyterNotebooks/py_37_env/lib/python3.7/site-packages (from markdown>=2.6.8->tensorboard<3,>=2.3.0->tensorflow) (2.0.0)\n",
      "Requirement already satisfied: pyasn1-modules>=0.2.1 in /Users/olivierlediouris/repos/oliv-ai/JupyterNotebooks/py_37_env/lib/python3.7/site-packages (from google-auth<2,>=1.6.3->tensorboard<3,>=2.3.0->tensorflow) (0.2.8)\n",
      "Requirement already satisfied: cachetools<5.0,>=2.0.0 in /Users/olivierlediouris/repos/oliv-ai/JupyterNotebooks/py_37_env/lib/python3.7/site-packages (from google-auth<2,>=1.6.3->tensorboard<3,>=2.3.0->tensorflow) (4.1.1)\n",
      "Requirement already satisfied: rsa<5,>=3.1.4; python_version >= \"3.5\" in /Users/olivierlediouris/repos/oliv-ai/JupyterNotebooks/py_37_env/lib/python3.7/site-packages (from google-auth<2,>=1.6.3->tensorboard<3,>=2.3.0->tensorflow) (4.6)\n",
      "Requirement already satisfied: oauthlib>=3.0.0 in /Users/olivierlediouris/repos/oliv-ai/JupyterNotebooks/py_37_env/lib/python3.7/site-packages (from requests-oauthlib>=0.7.0->google-auth-oauthlib<0.5,>=0.4.1->tensorboard<3,>=2.3.0->tensorflow) (3.1.0)\n",
      "Requirement already satisfied: zipp>=0.5 in /Users/olivierlediouris/repos/oliv-ai/JupyterNotebooks/py_37_env/lib/python3.7/site-packages (from importlib-metadata; python_version < \"3.8\"->markdown>=2.6.8->tensorboard<3,>=2.3.0->tensorflow) (3.4.0)\n",
      "Requirement already satisfied: pyasn1<0.5.0,>=0.4.6 in /Users/olivierlediouris/repos/oliv-ai/JupyterNotebooks/py_37_env/lib/python3.7/site-packages (from pyasn1-modules>=0.2.1->google-auth<2,>=1.6.3->tensorboard<3,>=2.3.0->tensorflow) (0.4.8)\n"
     ]
    }
   ],
   "source": [
    "import sys\n",
    "print(sys.version)\n",
    "\n",
    "!{sys.executable} -m pip install tensorflow"
   ]
  },
  {
   "cell_type": "code",
   "execution_count": 5,
   "metadata": {},
   "outputs": [
    {
     "name": "stdout",
     "output_type": "stream",
     "text": [
      "2.4.0\n"
     ]
    }
   ],
   "source": [
    "from tensorflow import keras\n",
    "print(keras.__version__)\n",
    "#\n",
    "from tensorflow.keras.datasets import mnist"
   ]
  },
  {
   "cell_type": "markdown",
   "metadata": {},
   "source": [
    "Load the model"
   ]
  },
  {
   "cell_type": "code",
   "execution_count": 6,
   "metadata": {},
   "outputs": [],
   "source": [
    "(train_images, train_labels), (test_images, test_labels) = mnist.load_data()"
   ]
  },
  {
   "cell_type": "code",
   "execution_count": 7,
   "metadata": {},
   "outputs": [
    {
     "name": "stdout",
     "output_type": "stream",
     "text": [
      "Train Images shape: (60000, 28, 28), uint8\n",
      "60000 train labels\n",
      "Train labels: [5 0 4 ... 5 6 8]\n"
     ]
    }
   ],
   "source": [
    "print(\"Train Images shape: {}, {}\".format(train_images.shape, train_images.dtype))\n",
    "print(\"{} train labels\".format(len(train_labels)))\n",
    "print(\"Train labels: {}\".format(train_labels))"
   ]
  },
  {
   "cell_type": "code",
   "execution_count": 8,
   "metadata": {},
   "outputs": [
    {
     "name": "stdout",
     "output_type": "stream",
     "text": [
      "Test Iages shape: (10000, 28, 28), uint8\n",
      "10000 test labels\n",
      "Test labels: [7 2 1 ... 4 5 6]\n"
     ]
    }
   ],
   "source": [
    "print(\"Test Iages shape: {}, {}\".format(test_images.shape, test_images.dtype))\n",
    "print(\"{} test labels\".format(len(test_labels)))\n",
    "print(\"Test labels: {}\".format(test_labels))"
   ]
  },
  {
   "cell_type": "markdown",
   "metadata": {},
   "source": [
    "### Network Architecture"
   ]
  },
  {
   "cell_type": "code",
   "execution_count": 10,
   "metadata": {},
   "outputs": [],
   "source": [
    "from tensorflow.keras import models\n",
    "from tensorflow.keras import layers\n",
    "\n",
    "network = models.Sequential()\n",
    "network.add(layers.Dense(512, activation='relu', input_shape=(28 * 28,)))\n",
    "network.add(layers.Dense(10, activation='softmax'))"
   ]
  },
  {
   "cell_type": "code",
   "execution_count": 11,
   "metadata": {},
   "outputs": [],
   "source": [
    "network.compile(optimizer='rmsprop',\n",
    "                loss='categorical_crossentropy',\n",
    "                metrics=['accuracy'])"
   ]
  },
  {
   "cell_type": "code",
   "execution_count": 12,
   "metadata": {},
   "outputs": [
    {
     "name": "stdout",
     "output_type": "stream",
     "text": [
      "Model: \"sequential\"\n",
      "_________________________________________________________________\n",
      "Layer (type)                 Output Shape              Param #   \n",
      "=================================================================\n",
      "dense (Dense)                (None, 512)               401920    \n",
      "_________________________________________________________________\n",
      "dense_1 (Dense)              (None, 10)                5130      \n",
      "=================================================================\n",
      "Total params: 407,050\n",
      "Trainable params: 407,050\n",
      "Non-trainable params: 0\n",
      "_________________________________________________________________\n"
     ]
    }
   ],
   "source": [
    "network.summary()"
   ]
  },
  {
   "cell_type": "markdown",
   "metadata": {},
   "source": [
    "### Now, we reshape the data\n",
    "- Images are `(28 * 28, uint8)`, we need `(28 * 28, float32)`\n",
    "- Images' pixels are in `[0, 255]`, we need them in `[0, 1]`"
   ]
  },
  {
   "cell_type": "code",
   "execution_count": 13,
   "metadata": {},
   "outputs": [],
   "source": [
    "train_images = train_images.reshape((60000, 28 * 28))\n",
    "train_images = train_images.astype('float32') / 255\n",
    "\n",
    "test_images = test_images.reshape((10000, 28 * 28))\n",
    "test_images = test_images.astype('float32') / 255\n"
   ]
  },
  {
   "cell_type": "code",
   "execution_count": 15,
   "metadata": {},
   "outputs": [],
   "source": [
    "from tensorflow.keras.utils import to_categorical\n",
    "\n",
    "train_labels = to_categorical(train_labels)\n",
    "test_labels = to_categorical(test_labels)"
   ]
  },
  {
   "cell_type": "markdown",
   "metadata": {},
   "source": [
    "### A look at the new shapes"
   ]
  },
  {
   "cell_type": "code",
   "execution_count": 16,
   "metadata": {},
   "outputs": [
    {
     "name": "stdout",
     "output_type": "stream",
     "text": [
      "Train Images shape: (60000, 784), float32\n",
      "60000 train labels\n",
      "Train labels: [[0. 0. 0. ... 0. 0. 0.]\n",
      " [1. 0. 0. ... 0. 0. 0.]\n",
      " [0. 0. 0. ... 0. 0. 0.]\n",
      " ...\n",
      " [0. 0. 0. ... 0. 0. 0.]\n",
      " [0. 0. 0. ... 0. 0. 0.]\n",
      " [0. 0. 0. ... 0. 1. 0.]]\n",
      "Test Iages shape: (10000, 784), float32\n",
      "10000 test labels\n",
      "Test labels: [[0. 0. 0. ... 1. 0. 0.]\n",
      " [0. 0. 1. ... 0. 0. 0.]\n",
      " [0. 1. 0. ... 0. 0. 0.]\n",
      " ...\n",
      " [0. 0. 0. ... 0. 0. 0.]\n",
      " [0. 0. 0. ... 0. 0. 0.]\n",
      " [0. 0. 0. ... 0. 0. 0.]]\n"
     ]
    }
   ],
   "source": [
    "print(\"Train Images shape: {}, {}\".format(train_images.shape, train_images.dtype))\n",
    "print(\"{} train labels\".format(len(train_labels)))\n",
    "print(\"Train labels: {}\".format(train_labels))\n",
    "\n",
    "print(\"Test Iages shape: {}, {}\".format(test_images.shape, test_images.dtype))\n",
    "print(\"{} test labels\".format(len(test_labels)))\n",
    "print(\"Test labels: {}\".format(test_labels))"
   ]
  },
  {
   "cell_type": "markdown",
   "metadata": {},
   "source": [
    "### Now we train the model for real"
   ]
  },
  {
   "cell_type": "code",
   "execution_count": 17,
   "metadata": {},
   "outputs": [
    {
     "name": "stdout",
     "output_type": "stream",
     "text": [
      "Epoch 1/5\n",
      "469/469 [==============================] - 2s 4ms/step - loss: 0.2558 - accuracy: 0.9264\n",
      "Epoch 2/5\n",
      "469/469 [==============================] - 2s 4ms/step - loss: 0.1041 - accuracy: 0.9693\n",
      "Epoch 3/5\n",
      "469/469 [==============================] - 2s 4ms/step - loss: 0.0674 - accuracy: 0.9801\n",
      "Epoch 4/5\n",
      "469/469 [==============================] - 2s 4ms/step - loss: 0.0499 - accuracy: 0.9854\n",
      "Epoch 5/5\n",
      "469/469 [==============================] - 2s 5ms/step - loss: 0.0368 - accuracy: 0.9888\n"
     ]
    },
    {
     "data": {
      "text/plain": [
       "<tensorflow.python.keras.callbacks.History at 0x136558cd0>"
      ]
     },
     "execution_count": 17,
     "metadata": {},
     "output_type": "execute_result"
    }
   ],
   "source": [
    "network.fit(train_images, train_labels, epochs=5, batch_size=128)"
   ]
  },
  {
   "cell_type": "markdown",
   "metadata": {},
   "source": [
    "### Get an idea of how good the model is\n",
    "Using the _test_ data"
   ]
  },
  {
   "cell_type": "code",
   "execution_count": 18,
   "metadata": {},
   "outputs": [
    {
     "name": "stdout",
     "output_type": "stream",
     "text": [
      "313/313 [==============================] - 0s 625us/step - loss: 0.0673 - accuracy: 0.9807\n",
      "Test Accuracy: 0.9807000160217285\n"
     ]
    }
   ],
   "source": [
    "test_loss, test_acc = network.evaluate(test_images, test_labels)\n",
    "print(\"Test Accuracy: {}\".format(test_acc))"
   ]
  },
  {
   "cell_type": "markdown",
   "metadata": {},
   "source": [
    "### Put it at work\n",
    "We put the model (`network`) at work on random test data"
   ]
  },
  {
   "cell_type": "code",
   "execution_count": 19,
   "metadata": {},
   "outputs": [
    {
     "name": "stdout",
     "output_type": "stream",
     "text": [
      "Test Data: 10000 elements\n"
     ]
    }
   ],
   "source": [
    "print(\"Test Data: {} elements\".format(len(test_images)))"
   ]
  },
  {
   "cell_type": "code",
   "execution_count": 21,
   "metadata": {},
   "outputs": [
    {
     "name": "stdout",
     "output_type": "stream",
     "text": [
      "Will test indexes [8346, 6223, 2554, 1012, 1294]\n"
     ]
    }
   ],
   "source": [
    "import random\n",
    "import numpy as np\n",
    "\n",
    "sample_idx = []\n",
    "for i in range(5):\n",
    "    sample_idx.append(random.randint(0, len(test_images)) - 1)\n",
    "\n",
    "print(\"Will test indexes {}\".format(sample_idx))"
   ]
  },
  {
   "cell_type": "code",
   "execution_count": 29,
   "metadata": {},
   "outputs": [
    {
     "name": "stdout",
     "output_type": "stream",
     "text": [
      "Requirement already satisfied: matplotlib in /Users/olivierlediouris/repos/oliv-ai/JupyterNotebooks/py_37_env/lib/python3.7/site-packages (3.3.2)\n",
      "Requirement already satisfied: cycler>=0.10 in /Users/olivierlediouris/repos/oliv-ai/JupyterNotebooks/py_37_env/lib/python3.7/site-packages (from matplotlib) (0.10.0)\n",
      "Requirement already satisfied: numpy>=1.15 in /Users/olivierlediouris/repos/oliv-ai/JupyterNotebooks/py_37_env/lib/python3.7/site-packages (from matplotlib) (1.18.5)\n",
      "Requirement already satisfied: certifi>=2020.06.20 in /Users/olivierlediouris/repos/oliv-ai/JupyterNotebooks/py_37_env/lib/python3.7/site-packages (from matplotlib) (2020.6.20)\n",
      "Requirement already satisfied: python-dateutil>=2.1 in /Users/olivierlediouris/repos/oliv-ai/JupyterNotebooks/py_37_env/lib/python3.7/site-packages (from matplotlib) (2.8.1)\n",
      "Requirement already satisfied: pyparsing!=2.0.4,!=2.1.2,!=2.1.6,>=2.0.3 in /Users/olivierlediouris/repos/oliv-ai/JupyterNotebooks/py_37_env/lib/python3.7/site-packages (from matplotlib) (2.4.7)\n",
      "Requirement already satisfied: pillow>=6.2.0 in /Users/olivierlediouris/repos/oliv-ai/JupyterNotebooks/py_37_env/lib/python3.7/site-packages (from matplotlib) (8.0.1)\n",
      "Requirement already satisfied: kiwisolver>=1.0.1 in /Users/olivierlediouris/repos/oliv-ai/JupyterNotebooks/py_37_env/lib/python3.7/site-packages (from matplotlib) (1.2.0)\n",
      "Requirement already satisfied: six in /Users/olivierlediouris/repos/oliv-ai/JupyterNotebooks/py_37_env/lib/python3.7/site-packages (from cycler>=0.10->matplotlib) (1.15.0)\n",
      "10000 elements, of 10 values\n",
      "Predictions [[3.58167584e-09 2.21706778e-10 1.04973315e-05 ... 9.99906898e-01\n",
      "  2.19377458e-08 6.84982453e-08]\n",
      " [1.94260545e-11 1.21885208e-07 9.99999881e-01 ... 2.51206873e-18\n",
      "  4.52190418e-09 6.85623044e-18]\n",
      " [5.10468254e-08 9.99068797e-01 8.97577265e-05 ... 3.35162389e-04\n",
      "  4.54058871e-04 4.03771878e-07]\n",
      " ...\n",
      " [7.28605883e-14 1.94662800e-10 5.59036741e-11 ... 1.33124349e-05\n",
      "  4.40430404e-06 4.78470838e-06]\n",
      " [3.58984953e-09 2.06417508e-10 6.59702154e-11 ... 6.38063047e-10\n",
      "  2.05516742e-04 2.96602088e-12]\n",
      " [1.71304437e-09 4.51938565e-17 3.43697959e-10 ... 1.88026449e-15\n",
      "  2.05977596e-11 1.39615519e-13]]\n",
      "Index 8346 => (784,)\n"
     ]
    },
    {
     "data": {
      "image/png": "[encoded data removed]",
      "text/plain": [
       "<Figure size 432x288 with 1 Axes>"
      ]
     },
     "metadata": {
      "needs_background": "light"
     },
     "output_type": "display_data"
    },
    {
     "name": "stdout",
     "output_type": "stream",
     "text": [
      "I say it's a 3 (100.00 % sure)\n",
      "\n",
      "Index 6223 => (784,)\n"
     ]
    },
    {
     "data": {
      "image/png": "[encoded data removed]",
      "text/plain": [
       "<Figure size 432x288 with 1 Axes>"
      ]
     },
     "metadata": {
      "needs_background": "light"
     },
     "output_type": "display_data"
    },
    {
     "name": "stdout",
     "output_type": "stream",
     "text": [
      "I say it's a 7 (99.99 % sure)\n",
      "\n",
      "Index 2554 => (784,)\n"
     ]
    },
    {
     "data": {
      "image/png": "[encoded data removed]",
      "text/plain": [
       "<Figure size 432x288 with 1 Axes>"
      ]
     },
     "metadata": {
      "needs_background": "light"
     },
     "output_type": "display_data"
    },
    {
     "name": "stdout",
     "output_type": "stream",
     "text": [
      "I say it's a 5 (100.00 % sure)\n",
      "\n",
      "Index 1012 => (784,)\n"
     ]
    },
    {
     "data": {
      "image/png": "[encoded data removed]",
      "text/plain": [
       "<Figure size 432x288 with 1 Axes>"
      ]
     },
     "metadata": {
      "needs_background": "light"
     },
     "output_type": "display_data"
    },
    {
     "name": "stdout",
     "output_type": "stream",
     "text": [
      "I say it's a 7 (97.11 % sure)\n",
      "\n",
      "Index 1294 => (784,)\n"
     ]
    },
    {
     "data": {
      "image/png": "[encoded data removed]",
      "text/plain": [
       "<Figure size 432x288 with 1 Axes>"
      ]
     },
     "metadata": {
      "needs_background": "light"
     },
     "output_type": "display_data"
    },
    {
     "name": "stdout",
     "output_type": "stream",
     "text": [
      "I say it's a 0 (100.00 % sure)\n",
      "\n"
     ]
    }
   ],
   "source": [
    "!{sys.executable} -m pip install matplotlib\n",
    "# %matplotlib inline\n",
    "# %pylab inline\n",
    "import matplotlib.pyplot as plt\n",
    "\n",
    "predictions = network.predict(test_images)\n",
    "print(\"{} elements, of {} values\".format(len(predictions), len(predictions[0])))\n",
    "print(\"Predictions {}\".format(predictions))\n",
    "      \n",
    "for idx in sample_idx:\n",
    "    print(\"Index {} => {}\".format(idx, test_images[idx].shape))\n",
    "    pixels = test_images[idx].reshape((28, 28))\n",
    "    plt.imshow(pixels, cmap='gray')\n",
    "    plt.show()\n",
    "    print(\"I say it's a {} ({:0.2f} % sure)\\n\".format(np.argmax(predictions[idx]), float(100 * predictions[idx][np.argmax(predictions[idx])]) ))\n"
   ]
  },
  {
   "cell_type": "markdown",
   "metadata": {},
   "source": [
    "And this is it."
   ]
  },
  {
   "cell_type": "code",
   "execution_count": null,
   "metadata": {},
   "outputs": [],
   "source": []
  }
 ],
 "metadata": {
  "kernelspec": {
   "display_name": "py_37_env",
   "language": "python",
   "name": "py_37_env"
  },
  "language_info": {
   "codemirror_mode": {
    "name": "ipython",
    "version": 3
   },
   "file_extension": ".py",
   "mimetype": "text/x-python",
   "name": "python",
   "nbconvert_exporter": "python",
   "pygments_lexer": "ipython3",
   "version": "3.7.9"
  }
 },
 "nbformat": 4,
 "nbformat_minor": 2
}
