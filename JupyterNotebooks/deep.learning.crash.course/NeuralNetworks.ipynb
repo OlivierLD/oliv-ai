{
 "cells": [
  {
   "cell_type": "markdown",
   "metadata": {},
   "source": [
    "## Artificial Neurons, rules, etc.\n",
    "---\n",
    "This will be in Java, I like programming languages better than Python.\n",
    "\n",
    "We will explain here several asoects of a neural network:\n",
    "- [Rules](#A-\"Classical\"-way-to-program-a-rule)\n",
    "- [Neurons](#Neurons!)\n",
    "- [With activation function](#With-an-Activation-Function)\n",
    "\n",
    "> Note: Press Shift + Enter to execute a cell and navigate to the next one.\n",
    "\n",
    "Enjoy!"
   ]
  },
  {
   "cell_type": "markdown",
   "metadata": {},
   "source": [
    "### A \"Classical\" way to program a rule\n",
    "We can define a `static` method, remember we are in a REPL."
   ]
  },
  {
   "cell_type": "code",
   "execution_count": 1,
   "metadata": {},
   "outputs": [
    {
     "name": "stdout",
     "output_type": "stream",
     "text": [
      "- 30 years old driver\n",
      "- driving 10 Kmiles a year\n",
      "- in a car that goes up to 100 mph\n",
      "=> Rate: GREEN\n"
     ]
    }
   ],
   "source": [
    "enum RiskLevel {\n",
    "    RED,\n",
    "    YELLOW,\n",
    "    GREEN\n",
    "}\n",
    "\n",
    "static RiskLevel rule(int age, int speed, int mpy) {\n",
    "    if (age < 25) {\n",
    "        if (speed > 140) {\n",
    "            return RiskLevel.RED;\n",
    "        } else {\n",
    "            return RiskLevel.YELLOW;\n",
    "        }\n",
    "    }\n",
    "    \n",
    "    if (age > 75) {\n",
    "        return RiskLevel.RED;\n",
    "    }\n",
    "    if (mpy >30) { \n",
    "        return RiskLevel.RED;\n",
    "    }\n",
    "    if (mpy > 20) {\n",
    "        return RiskLevel.YELLOW;\n",
    "    }\n",
    "    return RiskLevel.GREEN;\n",
    "}\n",
    "\n",
    "int age = 30;\n",
    "int speed = 100;\n",
    "int mpy = 10;\n",
    "RiskLevel rate = rule(age, speed, mpy);\n",
    "System.out.println(String.format(\"- %d years old driver\\n- driving %d Kmiles a year\\n- in a car that goes up to %d mph\\n=> Rate: %s\", age, mpy, speed, rate.toString()));\n",
    "\n"
   ]
  },
  {
   "cell_type": "markdown",
   "metadata": {},
   "source": [
    "## Neurons!"
   ]
  },
  {
   "cell_type": "markdown",
   "metadata": {},
   "source": [
    "![Neuron at work](./img/neuron.example.png)\n",
    "\n",
    "Above is the example we've seen in the transcript.\n",
    "We have 3 dimensions:\n",
    "- X<sub><small>1</small></sub> with weight `1.5`\n",
    "- X<sub><small>2</small></sub> with weight `-2`\n",
    "- X<sub><small>3</small></sub> with weight `1`\n",
    "\n",
    "The bias is `+6`\n",
    "\n",
    "Below is a Java implementation.\n",
    "If we set X<sub><small>1</small></sub> to `10`, X<sub><small>2</small></sub> to `6` and X<sub><small>3</small></sub> to `8`, we find y = `17`."
   ]
  },
  {
   "cell_type": "code",
   "execution_count": 2,
   "metadata": {},
   "outputs": [
    {
     "name": "stdout",
     "output_type": "stream",
     "text": [
      "=> y = 17.000000\n",
      "=> y = -2.500000\n"
     ]
    }
   ],
   "source": [
    "import java.util.Arrays;\n",
    "import java.util.List;\n",
    "/**\n",
    " * Basic example of a Java Artificial Neuron\n",
    " */\n",
    "public class ArtificialNeuron {\n",
    "  private double bias = 0;\n",
    "  private List<Double> weights;\n",
    "  \n",
    "  public ArtificialNeuron(List<Double> weights, double bias) {\n",
    "    this.weights = weights;\n",
    "    this.bias = bias;\n",
    "  }\n",
    "  \n",
    "  public double compute(List<Double> xValues) {\n",
    "\n",
    "    if (xValues.size() != this.weights.size()) {\n",
    "      throw new RuntimeException(\"Size mismatch\");\n",
    "    }\n",
    "    double yValue = 0;\n",
    "    for (int i=0; i<xValues.size(); i++) {\n",
    "      yValue += (xValues.get(i) * this.weights.get(i));\n",
    "    }\n",
    "    yValue += this.bias;\n",
    "    return yValue;\n",
    "  }\n",
    "}\n",
    "\n",
    "ArtificialNeuron neuron = new ArtificialNeuron(\n",
    "    Arrays.asList(new Double[] { 1.5, -2d, 1d }), // Weights\n",
    "    6d);                                          // Bias\n",
    "\n",
    "try {\n",
    "  double y = neuron.compute(Arrays.asList(new Double[]{ 10d, 6d, 8d }));\n",
    "  System.out.println(String.format(\"=> y = %f\", y));\n",
    "  // An  other try, with different values\n",
    "  y = neuron.compute(Arrays.asList(new Double[]{ 1d, 6d, 2d }));\n",
    "  System.out.println(String.format(\"=> y = %f\", y));  \n",
    "} catch (Exception ex) {\n",
    "  ex.printStackTrace();\n",
    "}\n"
   ]
  },
  {
   "cell_type": "markdown",
   "metadata": {},
   "source": [
    "### With an Activation Function\n",
    "We will use the `Function<>` object, available since Java 8, to process the Activation. Look where the `compute` method is invoked, the Activation Function is one of the parameters.\n",
    "\n",
    "Here we use Java's standard `Math::tanh`. We can use any Function, standard or custom. All it need is to comply with the signature `Function<Double, Double>`."
   ]
  },
  {
   "cell_type": "code",
   "execution_count": 3,
   "metadata": {},
   "outputs": [
    {
     "name": "stdout",
     "output_type": "stream",
     "text": [
      "=> y = 1.000000\n",
      "=> y = -0.986614\n"
     ]
    }
   ],
   "source": [
    "import java.util.Arrays;\n",
    "import java.util.List;\n",
    "import java.util.function.Function;\n",
    "/**\n",
    " * With an Activation Function (Hyperbolic Tangent)\n",
    " */\n",
    "public class NeuronWithActivationFunction extends ArtificialNeuron {\n",
    "   \n",
    "  public NeuronWithActivationFunction(List<Double> weights, double bias) {\n",
    "    super(weights, bias);\n",
    "  }\n",
    "\n",
    "  // We add a compute method, with a different signature\n",
    "  public double compute(List<Double> xValues, Function<Double, Double> activation) // Activation is the second parameter\n",
    "      throws Exception {\n",
    "    double y = super.compute(xValues);\n",
    "    // Activation function here\n",
    "    return activation.apply(y);\n",
    "  }\n",
    "}\n",
    "\n",
    "// Invoking the new class\n",
    "NeuronWithActivationFunction neuron = new NeuronWithActivationFunction(\n",
    "    Arrays.asList(new Double[] { 1.5, -2d, 1d }), \n",
    "    6d);\n",
    "\n",
    "try {\n",
    "  // See how we pass the Activation Function to the compute method of the neuron\n",
    "  System.out.println(String.format(\"=> y = %f\", neuron.compute(Arrays.asList(new Double[]{ 10d, 6d, 8d }), Math::tanh)));\n",
    "  // An other try, with different values\n",
    "  System.out.println(String.format(\"=> y = %f\", neuron.compute(Arrays.asList(new Double[]{ 1d, 6d, 2d }), Math::tanh)));\n",
    "\n",
    "} catch (Exception ex) {\n",
    "  ex.printStackTrace();\n",
    "}"
   ]
  },
  {
   "cell_type": "markdown",
   "metadata": {},
   "source": [
    "### 4 Types of Activation Function\n",
    "#### Hyperbolic Tangent"
   ]
  },
  {
   "cell_type": "code",
   "execution_count": 4,
   "metadata": {
    "scrolled": true
   },
   "outputs": [
    {
     "data": {
      "image/png": "[encoded data removed]",
      "text/plain": [
       "BufferedImage@267eb5a6: type = 1 DirectColorModel: rmask=ff0000 gmask=ff00 bmask=ff amask=0 IntegerInterleavedRaster: width = 600 height = 400 #Bands = 3 xOff = 0 yOff = 0 dataOffset[0] 0"
      ]
     },
     "execution_count": 4,
     "metadata": {},
     "output_type": "execute_result"
    }
   ],
   "source": [
    "%maven org.knowm.xchart:xchart:3.5.4\n",
    "import org.knowm.xchart.*;\n",
    "import java.util.stream.DoubleStream;\n",
    "import java.util.stream.Collectors;\n",
    "\n",
    "// Hyperbolic Tangent\n",
    "List<Double> xList = DoubleStream.iterate(-10, n -> n + 0.1)\n",
    "    .limit(201)\n",
    "    .boxed()\n",
    "    .collect(Collectors.toList());\n",
    "double[] xData = xList.stream()\n",
    "    .mapToDouble(Double::doubleValue)\n",
    "    .toArray();\n",
    "double[] yData = xList.stream()\n",
    "    .mapToDouble(Math::tanh)         // It's here!\n",
    "    .toArray();\n",
    "\n",
    "XYChart tanh = QuickChart.getChart(\n",
    "    \"Hyperbolic Tangent\", // Chart title\n",
    "    \"X\",                  // x axis label\n",
    "    \"Y\",                  // y axis label\n",
    "    \"tanh\",               // Legend\n",
    "    xData,                // x axis data \n",
    "    yData);               // y axis data\n",
    "// Render the chart\n",
    "BitmapEncoder.getBufferedImage(tanh);\n"
   ]
  },
  {
   "cell_type": "markdown",
   "metadata": {},
   "source": [
    "#### Step Function"
   ]
  },
  {
   "cell_type": "code",
   "execution_count": 5,
   "metadata": {
    "scrolled": true
   },
   "outputs": [
    {
     "data": {
      "image/png": "[encoded data removed]",
      "text/plain": [
       "BufferedImage@1f200138: type = 1 DirectColorModel: rmask=ff0000 gmask=ff00 bmask=ff amask=0 IntegerInterleavedRaster: width = 600 height = 400 #Bands = 3 xOff = 0 yOff = 0 dataOffset[0] 0"
      ]
     },
     "execution_count": 5,
     "metadata": {},
     "output_type": "execute_result"
    }
   ],
   "source": [
    "double[] yData = xList.stream()\n",
    "    .mapToDouble(Double::doubleValue)\n",
    "    .map(x -> x < 0 ? 0 : 1)          // This is the Step\n",
    "    .toArray();\n",
    "\n",
    "// Step Function\n",
    "XYChart step = QuickChart.getChart(\n",
    "    \"Step Function\",      // Chart title\n",
    "    \"X\",                  // x axis label\n",
    "    \"Y\",                  // y axis label\n",
    "    \"step\",               // Legend\n",
    "    xData,                // x axis data \n",
    "    yData);               // y axis data\n",
    "// Render the chart\n",
    "BitmapEncoder.getBufferedImage(step);"
   ]
  },
  {
   "cell_type": "markdown",
   "metadata": {},
   "source": [
    "##### Rectified Linear Unit"
   ]
  },
  {
   "cell_type": "code",
   "execution_count": 6,
   "metadata": {
    "scrolled": true
   },
   "outputs": [
    {
     "data": {
      "image/png": "[encoded data removed]",
      "text/plain": [
       "BufferedImage@401fa554: type = 1 DirectColorModel: rmask=ff0000 gmask=ff00 bmask=ff amask=0 IntegerInterleavedRaster: width = 600 height = 400 #Bands = 3 xOff = 0 yOff = 0 dataOffset[0] 0"
      ]
     },
     "execution_count": 6,
     "metadata": {},
     "output_type": "execute_result"
    }
   ],
   "source": [
    "double[] yData = xList.stream()\n",
    "    .mapToDouble(Double::doubleValue)\n",
    "    .map(x -> x < 0 ? 0 : x)          // ReLU skill here\n",
    "    .toArray();\n",
    "\n",
    "// Rectified Linear Unit\n",
    "XYChart relu = QuickChart.getChart(\n",
    "    \"Rectified Linear Unit\", // Chart title\n",
    "    \"X\",                     // x axis label\n",
    "    \"Y\",                     // y axis label\n",
    "    \"ReLU\",                  // Legend\n",
    "    xData,                   // x axis data \n",
    "    yData);                  // y axis data\n",
    "// Render the chart\n",
    "BitmapEncoder.getBufferedImage(relu);"
   ]
  },
  {
   "cell_type": "markdown",
   "metadata": {},
   "source": [
    "##### Sigmoid"
   ]
  },
  {
   "cell_type": "code",
   "execution_count": 7,
   "metadata": {},
   "outputs": [
    {
     "data": {
      "image/png": "[encoded data removed]",
      "text/plain": [
       "BufferedImage@1034d668: type = 1 DirectColorModel: rmask=ff0000 gmask=ff00 bmask=ff amask=0 IntegerInterleavedRaster: width = 600 height = 400 #Bands = 3 xOff = 0 yOff = 0 dataOffset[0] 0"
      ]
     },
     "execution_count": 7,
     "metadata": {},
     "output_type": "execute_result"
    }
   ],
   "source": [
    "double[] yData = xList.stream()\n",
    "    .mapToDouble(Double::doubleValue)\n",
    "    .map(x -> (1 / (1 + Math.exp(-x))))  // Sigmoid Formula\n",
    "    .toArray();\n",
    "\n",
    "// Sigmoid\n",
    "XYChart sigmoid = QuickChart.getChart(\n",
    "    \"Sigmoid\",            // Chart title\n",
    "    \"X\",                  // x axis label\n",
    "    \"Y\",                  // y axis label\n",
    "    \"sigmoid\",            // Legend\n",
    "    xData,                // x axis data \n",
    "    yData);               // y axis data\n",
    "// Render the chart\n",
    "BitmapEncoder.getBufferedImage(sigmoid);"
   ]
  },
  {
   "cell_type": "markdown",
   "metadata": {},
   "source": [
    "#### Same neuron as above, activated by a Sigmoid, or something else"
   ]
  },
  {
   "cell_type": "code",
   "execution_count": 8,
   "metadata": {},
   "outputs": [
    {
     "name": "stdout",
     "output_type": "stream",
     "text": [
      "SIGMOID(10.0, 6.0, 8.0) \t=> y = 1.000000\n",
      "SIGMOID(1.0, 6.0, 2.0) \t=> y = 0.075858\n",
      "STEP_FUNC(10.0, 6.0, 8.0) \t=> y = 1.000000\n",
      "STEP_FUNC(1.0, 6.0, 2.0) \t=> y = 0.000000\n",
      "RELU(10.0, 6.0, 8.0) \t=> y = 17.000000\n",
      "RELU(1.0, 6.0, 2.0) \t=> y = 0.000000\n",
      "TANH(10.0, 6.0, 8.0) \t=> y = 1.000000\n",
      "TANH(1.0, 6.0, 2.0) \t=> y = -0.986614\n"
     ]
    }
   ],
   "source": [
    "NeuronWithActivationFunction neuron = new NeuronWithActivationFunction(\n",
    "    Arrays.asList(new Double[] { 1.5, -2d, 1d }),  // Weights\n",
    "    6d);                                           // Bias\n",
    "\n",
    "// Here we define the activation functions, as static members of a class\n",
    "public class ActivationFunctions {\n",
    "  public static Double sigmoid(Double input) {\n",
    "        return (1 / (1 + Math.exp(-input)));\n",
    "  }\n",
    "  public static Double step(Double input) {\n",
    "      return input < 0d ? 0d : 1d;\n",
    "  }\n",
    "  public static Double relu(Double input) {\n",
    "      return input < 0d ? 0d : input;\n",
    "  }\n",
    "  public static Double tanh(Double input) {\n",
    "      return Math.tanh(input);\n",
    "  }\n",
    "}\n",
    "\n",
    "// We define an enumeration, to make sure we do not refer to a non-exiting function\n",
    "enum AF {\n",
    "    SIGMOID(ActivationFunctions::sigmoid),\n",
    "    STEP_FUNC(ActivationFunctions::step),\n",
    "    RELU(ActivationFunctions::relu),\n",
    "    TANH(ActivationFunctions::tanh);\n",
    "    \n",
    "    private Function<Double, Double> af;\n",
    "    \n",
    "    AF(Function<Double, Double> af) {\n",
    "        this.af = af;\n",
    "    }\n",
    "    \n",
    "    public Function<Double, Double> af() {\n",
    "        return this.af;\n",
    "    }\n",
    "} \n",
    "\n",
    "Double[][] testValues = new Double[][] {\n",
    "  new Double[]{ 10d, 6d, 8d },\n",
    "  new Double[]{ 1d, 6d, 2d }\n",
    "}; \n",
    "        \n",
    "// We loop on the values of the enum\n",
    "for (AF af : AF.values()) {    \n",
    "    try {\n",
    "      // See how we pass the Activation Function to the compute method of the neuron, af.af()\n",
    "      for (Double[] array : testValues) {  \n",
    "        List<Double> values = Arrays.asList(array);\n",
    "        System.out.println(String.format(\"%s(%s) \\t=> y = %f\", \n",
    "            af.toString(), \n",
    "            values.stream()\n",
    "                .map(String::valueOf)\n",
    "                .collect(Collectors.joining(\", \")),\n",
    "            neuron.compute(values, af.af())));\n",
    "      }\n",
    "    } catch (Exception ex) {\n",
    "      ex.printStackTrace();\n",
    "    }\n",
    "}"
   ]
  },
  {
   "cell_type": "code",
   "execution_count": null,
   "metadata": {},
   "outputs": [],
   "source": []
  }
 ],
 "metadata": {
  "kernelspec": {
   "display_name": "Java",
   "language": "java",
   "name": "java"
  },
  "language_info": {
   "codemirror_mode": "java",
   "file_extension": ".jshell",
   "mimetype": "text/x-java-source",
   "name": "Java",
   "pygments_lexer": "java",
   "version": "15+36-1562"
  }
 },
 "nbformat": 4,
 "nbformat_minor": 2
}
