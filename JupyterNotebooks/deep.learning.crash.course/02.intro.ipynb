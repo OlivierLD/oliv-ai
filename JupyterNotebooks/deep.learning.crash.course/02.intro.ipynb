{
 "cells": [
  {
   "cell_type": "markdown",
   "metadata": {
    "colab_type": "text",
    "id": "XdfXfXK2-CiG"
   },
   "source": [
    "# Introduction to Neural Networks with TensorFlow and Keras layers"
   ]
  },
  {
   "cell_type": "code",
   "execution_count": 1,
   "metadata": {
    "colab": {},
    "colab_type": "code",
    "id": "hJR5Gb0X-CiJ"
   },
   "outputs": [],
   "source": [
    "import warnings\n",
    "warnings.filterwarnings('ignore')"
   ]
  },
  {
   "cell_type": "code",
   "execution_count": 2,
   "metadata": {
    "colab": {
     "base_uri": "https://localhost:8080/",
     "height": 34
    },
    "colab_type": "code",
    "id": "H6-QKhzW-CiN",
    "outputId": "3f148945-2718-4559-ca49-bba6dd51695d"
   },
   "outputs": [
    {
     "name": "stdout",
     "output_type": "stream",
     "text": [
      "Populating the interactive namespace from numpy and matplotlib\n"
     ]
    }
   ],
   "source": [
    "%matplotlib inline\n",
    "%pylab inline\n",
    "import matplotlib.pyplot as plt"
   ]
  },
  {
   "cell_type": "code",
   "execution_count": 3,
   "metadata": {
    "colab": {
     "base_uri": "https://localhost:8080/",
     "height": 34
    },
    "colab_type": "code",
    "id": "ezwqxSlf-CiS",
    "outputId": "832339c3-c09b-4d0a-8642-769bde73bc7a"
   },
   "outputs": [
    {
     "name": "stdout",
     "output_type": "stream",
     "text": [
      "1.1.3\n"
     ]
    }
   ],
   "source": [
    "import pandas as pd\n",
    "print(pd.__version__)"
   ]
  },
  {
   "cell_type": "code",
   "execution_count": 4,
   "metadata": {
    "colab": {
     "base_uri": "https://localhost:8080/",
     "height": 34
    },
    "colab_type": "code",
    "id": "0rEa6M11-CiY",
    "outputId": "2fde9c4a-5dfc-42f1-aa06-b8d596b55413"
   },
   "outputs": [
    {
     "name": "stdout",
     "output_type": "stream",
     "text": [
      "Requirement already satisfied: tensorflow in /usr/local/Cellar/jupyterlab/2.1.5/libexec/lib/python3.8/site-packages (2.3.1)\n",
      "Requirement already satisfied: astunparse==1.6.3 in /usr/local/Cellar/jupyterlab/2.1.5/libexec/lib/python3.8/site-packages (from tensorflow) (1.6.3)\n",
      "Requirement already satisfied: google-pasta>=0.1.8 in /usr/local/Cellar/jupyterlab/2.1.5/libexec/lib/python3.8/site-packages (from tensorflow) (0.2.0)\n",
      "Requirement already satisfied: protobuf>=3.9.2 in /usr/local/Cellar/jupyterlab/2.1.5/libexec/lib/python3.8/site-packages (from tensorflow) (3.13.0)\n",
      "Requirement already satisfied: tensorflow-estimator<2.4.0,>=2.3.0 in /usr/local/Cellar/jupyterlab/2.1.5/libexec/lib/python3.8/site-packages (from tensorflow) (2.3.0)\n",
      "Requirement already satisfied: wheel>=0.26 in /usr/local/Cellar/jupyterlab/2.1.5/libexec/lib/python3.8/site-packages (from tensorflow) (0.34.2)\n",
      "Requirement already satisfied: grpcio>=1.8.6 in /usr/local/Cellar/jupyterlab/2.1.5/libexec/lib/python3.8/site-packages (from tensorflow) (1.33.2)\n",
      "Requirement already satisfied: six>=1.12.0 in /usr/local/Cellar/jupyterlab/2.1.5/libexec/lib/python3.8/site-packages (from tensorflow) (1.15.0)\n",
      "Requirement already satisfied: gast==0.3.3 in /usr/local/Cellar/jupyterlab/2.1.5/libexec/lib/python3.8/site-packages (from tensorflow) (0.3.3)\n",
      "Requirement already satisfied: h5py<2.11.0,>=2.10.0 in /usr/local/Cellar/jupyterlab/2.1.5/libexec/lib/python3.8/site-packages (from tensorflow) (2.10.0)\n",
      "Requirement already satisfied: absl-py>=0.7.0 in /usr/local/Cellar/jupyterlab/2.1.5/libexec/lib/python3.8/site-packages (from tensorflow) (0.11.0)\n",
      "Requirement already satisfied: termcolor>=1.1.0 in /usr/local/Cellar/jupyterlab/2.1.5/libexec/lib/python3.8/site-packages (from tensorflow) (1.1.0)\n",
      "Requirement already satisfied: wrapt>=1.11.1 in /usr/local/Cellar/jupyterlab/2.1.5/libexec/lib/python3.8/site-packages (from tensorflow) (1.12.1)\n",
      "Requirement already satisfied: keras-preprocessing<1.2,>=1.1.1 in /usr/local/Cellar/jupyterlab/2.1.5/libexec/lib/python3.8/site-packages (from tensorflow) (1.1.2)\n",
      "Requirement already satisfied: opt-einsum>=2.3.2 in /usr/local/Cellar/jupyterlab/2.1.5/libexec/lib/python3.8/site-packages (from tensorflow) (3.3.0)\n",
      "Requirement already satisfied: numpy<1.19.0,>=1.16.0 in /usr/local/Cellar/jupyterlab/2.1.5/libexec/lib/python3.8/site-packages (from tensorflow) (1.18.5)\n",
      "Requirement already satisfied: tensorboard<3,>=2.3.0 in /usr/local/Cellar/jupyterlab/2.1.5/libexec/lib/python3.8/site-packages (from tensorflow) (2.3.0)\n",
      "Requirement already satisfied: setuptools in /usr/local/Cellar/jupyterlab/2.1.5/libexec/lib/python3.8/site-packages (from protobuf>=3.9.2->tensorflow) (47.3.1)\n",
      "Requirement already satisfied: google-auth<2,>=1.6.3 in /usr/local/Cellar/jupyterlab/2.1.5/libexec/lib/python3.8/site-packages (from tensorboard<3,>=2.3.0->tensorflow) (1.23.0)\n",
      "Requirement already satisfied: requests<3,>=2.21.0 in /usr/local/Cellar/jupyterlab/2.1.5/libexec/lib/python3.8/site-packages (from tensorboard<3,>=2.3.0->tensorflow) (2.24.0)\n",
      "Requirement already satisfied: tensorboard-plugin-wit>=1.6.0 in /usr/local/Cellar/jupyterlab/2.1.5/libexec/lib/python3.8/site-packages (from tensorboard<3,>=2.3.0->tensorflow) (1.7.0)\n",
      "Requirement already satisfied: google-auth-oauthlib<0.5,>=0.4.1 in /usr/local/Cellar/jupyterlab/2.1.5/libexec/lib/python3.8/site-packages (from tensorboard<3,>=2.3.0->tensorflow) (0.4.2)\n",
      "Requirement already satisfied: markdown>=2.6.8 in /usr/local/Cellar/jupyterlab/2.1.5/libexec/lib/python3.8/site-packages (from tensorboard<3,>=2.3.0->tensorflow) (3.3.3)\n",
      "Requirement already satisfied: werkzeug>=0.11.15 in /usr/local/Cellar/jupyterlab/2.1.5/libexec/lib/python3.8/site-packages (from tensorboard<3,>=2.3.0->tensorflow) (1.0.1)\n",
      "Requirement already satisfied: rsa<5,>=3.1.4; python_version >= \"3.5\" in /usr/local/Cellar/jupyterlab/2.1.5/libexec/lib/python3.8/site-packages (from google-auth<2,>=1.6.3->tensorboard<3,>=2.3.0->tensorflow) (4.6)\n",
      "Requirement already satisfied: pyasn1-modules>=0.2.1 in /usr/local/Cellar/jupyterlab/2.1.5/libexec/lib/python3.8/site-packages (from google-auth<2,>=1.6.3->tensorboard<3,>=2.3.0->tensorflow) (0.2.8)\n",
      "Requirement already satisfied: cachetools<5.0,>=2.0.0 in /usr/local/Cellar/jupyterlab/2.1.5/libexec/lib/python3.8/site-packages (from google-auth<2,>=1.6.3->tensorboard<3,>=2.3.0->tensorflow) (4.1.1)\n",
      "Requirement already satisfied: chardet<4,>=3.0.2 in /usr/local/Cellar/jupyterlab/2.1.5/libexec/lib/python3.8/site-packages (from requests<3,>=2.21.0->tensorboard<3,>=2.3.0->tensorflow) (3.0.4)\n",
      "Requirement already satisfied: idna<3,>=2.5 in /usr/local/Cellar/jupyterlab/2.1.5/libexec/lib/python3.8/site-packages (from requests<3,>=2.21.0->tensorboard<3,>=2.3.0->tensorflow) (2.9)\n",
      "Requirement already satisfied: urllib3!=1.25.0,!=1.25.1,<1.26,>=1.21.1 in /usr/local/Cellar/jupyterlab/2.1.5/libexec/lib/python3.8/site-packages (from requests<3,>=2.21.0->tensorboard<3,>=2.3.0->tensorflow) (1.25.9)\n",
      "Requirement already satisfied: certifi>=2017.4.17 in /usr/local/Cellar/jupyterlab/2.1.5/libexec/lib/python3.8/site-packages (from requests<3,>=2.21.0->tensorboard<3,>=2.3.0->tensorflow) (2020.6.20)\n",
      "Requirement already satisfied: requests-oauthlib>=0.7.0 in /usr/local/Cellar/jupyterlab/2.1.5/libexec/lib/python3.8/site-packages (from google-auth-oauthlib<0.5,>=0.4.1->tensorboard<3,>=2.3.0->tensorflow) (1.3.0)\n",
      "Requirement already satisfied: pyasn1>=0.1.3 in /usr/local/Cellar/jupyterlab/2.1.5/libexec/lib/python3.8/site-packages (from rsa<5,>=3.1.4; python_version >= \"3.5\"->google-auth<2,>=1.6.3->tensorboard<3,>=2.3.0->tensorflow) (0.4.8)\n",
      "Requirement already satisfied: oauthlib>=3.0.0 in /usr/local/Cellar/jupyterlab/2.1.5/libexec/lib/python3.8/site-packages (from requests-oauthlib>=0.7.0->google-auth-oauthlib<0.5,>=0.4.1->tensorboard<3,>=2.3.0->tensorflow) (3.1.0)\n",
      "\u001b[33mWARNING: You are using pip version 20.1.1; however, version 20.2.4 is available.\n",
      "You should consider upgrading via the '/usr/local/Cellar/jupyterlab/2.1.5/libexec/bin/python3.8 -m pip install --upgrade pip' command.\u001b[0m\n",
      "2.3.1\n"
     ]
    }
   ],
   "source": [
    "import sys\n",
    "!{sys.executable} -m pip install tensorflow    # ==1.15\n",
    "#\n",
    "import tensorflow as tf\n",
    "# tf.compat.v1.logging.set_verbosity(tf.compat.v1.logging.ERROR)\n",
    "print(tf.__version__)"
   ]
  },
  {
   "cell_type": "code",
   "execution_count": 5,
   "metadata": {
    "colab": {
     "base_uri": "https://localhost:8080/",
     "height": 51
    },
    "colab_type": "code",
    "id": "SiHGGkyv-Cic",
    "outputId": "f41a7966-7371-4da8-abed-61f70d78f6d4"
   },
   "outputs": [],
   "source": [
    "# let's see what compute devices we have available, hopefully a GPU \n",
    "if False:\n",
    "    sess = tf.Session()\n",
    "    #\n",
    "    devices = sess.list_devices()\n",
    "    for d in devices:\n",
    "        print(d.name)\n",
    "        "
   ]
  },
  {
   "cell_type": "code",
   "execution_count": 6,
   "metadata": {},
   "outputs": [
    {
     "name": "stdout",
     "output_type": "stream",
     "text": [
      "Devices: 2\n",
      "/physical_device:CPU:0\n",
      "/physical_device:XLA_CPU:0\n"
     ]
    }
   ],
   "source": [
    "physical_devices = tf.config.list_physical_devices()\n",
    "print(\"Devices:\", len(physical_devices))\n",
    "for dev in physical_devices:\n",
    "    print(dev.name)"
   ]
  },
  {
   "cell_type": "code",
   "execution_count": 7,
   "metadata": {
    "colab": {
     "base_uri": "https://localhost:8080/",
     "height": 34
    },
    "colab_type": "code",
    "id": "INqnlwV7-Cif",
    "outputId": "597fa146-b793-4ea8-b14f-a70140099471"
   },
   "outputs": [
    {
     "name": "stdout",
     "output_type": "stream",
     "text": [
      "tf.Tensor(b'Hi there!', shape=(), dtype=string)\n"
     ]
    }
   ],
   "source": [
    "# a small sanity check, does tf seem to work ok?\n",
    "# hello = tf.compat.v1.constant('Hello TF!')\n",
    "hello = tf.constant('Hi there!')\n",
    "# sess = tf.compat.v1.Session()\n",
    "#\n",
    "# print(sess.run(hello))\n",
    "print(hello)"
   ]
  },
  {
   "cell_type": "code",
   "execution_count": 8,
   "metadata": {
    "colab": {
     "base_uri": "https://localhost:8080/",
     "height": 34
    },
    "colab_type": "code",
    "id": "IxMwM-z--Cik",
    "outputId": "46b0d1bc-13ac-44e7-8ad4-c5d59f23ce78"
   },
   "outputs": [
    {
     "name": "stdout",
     "output_type": "stream",
     "text": [
      "2.4.0\n"
     ]
    }
   ],
   "source": [
    "from tensorflow import keras\n",
    "print(keras.__version__)"
   ]
  },
  {
   "cell_type": "markdown",
   "metadata": {
    "colab_type": "text",
    "id": "TcNRk70X-Cio"
   },
   "source": [
    "## Loading and preparing our data set for classification"
   ]
  },
  {
   "cell_type": "code",
   "execution_count": 9,
   "metadata": {
    "colab": {
     "base_uri": "https://localhost:8080/",
     "height": 89
    },
    "colab_type": "code",
    "id": "p-opqU1j-Cir",
    "outputId": "2e440b2f-dfcd-4f56-b9c1-e702123b7ba3"
   },
   "outputs": [
    {
     "name": "stdout",
     "output_type": "stream",
     "text": [
      "  % Total    % Received % Xferd  Average Speed   Time    Time     Time  Current\n",
      "                                 Dload  Upload   Total   Spent    Left  Speed\n",
      "100 26783  100 26783    0     0  64074      0 --:--:-- --:--:-- --:--:--     0-:--:-- 64074\n"
     ]
    }
   ],
   "source": [
    "!curl -O https://raw.githubusercontent.com/DJCordhose/deep-learning-crash-course-notebooks/master/data/insurance-customers-1500.csv"
   ]
  },
  {
   "cell_type": "code",
   "execution_count": 10,
   "metadata": {
    "colab": {},
    "colab_type": "code",
    "id": "aHeWRyn4-Civ"
   },
   "outputs": [],
   "source": [
    "df = pd.read_csv('./insurance-customers-1500.csv', sep=';')"
   ]
  },
  {
   "cell_type": "code",
   "execution_count": 11,
   "metadata": {
    "colab": {
     "base_uri": "https://localhost:8080/",
     "height": 206
    },
    "colab_type": "code",
    "id": "AfSNEY1E-Ciy",
    "outputId": "fd7e9471-ccaf-4eb1-eb2c-5a8e8106fa14"
   },
   "outputs": [
    {
     "data": {
      "text/html": [
       "<div>\n",
       "<style scoped>\n",
       "    .dataframe tbody tr th:only-of-type {\n",
       "        vertical-align: middle;\n",
       "    }\n",
       "\n",
       "    .dataframe tbody tr th {\n",
       "        vertical-align: top;\n",
       "    }\n",
       "\n",
       "    .dataframe thead th {\n",
       "        text-align: right;\n",
       "    }\n",
       "</style>\n",
       "<table border=\"1\" class=\"dataframe\">\n",
       "  <thead>\n",
       "    <tr style=\"text-align: right;\">\n",
       "      <th></th>\n",
       "      <th>speed</th>\n",
       "      <th>age</th>\n",
       "      <th>miles</th>\n",
       "      <th>group</th>\n",
       "    </tr>\n",
       "  </thead>\n",
       "  <tbody>\n",
       "    <tr>\n",
       "      <th>0</th>\n",
       "      <td>98.0</td>\n",
       "      <td>44.0</td>\n",
       "      <td>25.0</td>\n",
       "      <td>1</td>\n",
       "    </tr>\n",
       "    <tr>\n",
       "      <th>1</th>\n",
       "      <td>118.0</td>\n",
       "      <td>54.0</td>\n",
       "      <td>24.0</td>\n",
       "      <td>1</td>\n",
       "    </tr>\n",
       "    <tr>\n",
       "      <th>2</th>\n",
       "      <td>111.0</td>\n",
       "      <td>26.0</td>\n",
       "      <td>34.0</td>\n",
       "      <td>0</td>\n",
       "    </tr>\n",
       "    <tr>\n",
       "      <th>3</th>\n",
       "      <td>97.0</td>\n",
       "      <td>25.0</td>\n",
       "      <td>10.0</td>\n",
       "      <td>2</td>\n",
       "    </tr>\n",
       "    <tr>\n",
       "      <th>4</th>\n",
       "      <td>114.0</td>\n",
       "      <td>38.0</td>\n",
       "      <td>22.0</td>\n",
       "      <td>1</td>\n",
       "    </tr>\n",
       "  </tbody>\n",
       "</table>\n",
       "</div>"
      ],
      "text/plain": [
       "   speed   age  miles  group\n",
       "0   98.0  44.0   25.0      1\n",
       "1  118.0  54.0   24.0      1\n",
       "2  111.0  26.0   34.0      0\n",
       "3   97.0  25.0   10.0      2\n",
       "4  114.0  38.0   22.0      1"
      ]
     },
     "execution_count": 11,
     "metadata": {},
     "output_type": "execute_result"
    }
   ],
   "source": [
    "df.head()"
   ]
  },
  {
   "cell_type": "code",
   "execution_count": 12,
   "metadata": {
    "colab": {
     "base_uri": "https://localhost:8080/",
     "height": 300
    },
    "colab_type": "code",
    "id": "sws5BYF4-Ci4",
    "outputId": "5e7aaccb-dc8b-4054-b18a-d7104b1b0490"
   },
   "outputs": [
    {
     "data": {
      "text/html": [
       "<div>\n",
       "<style scoped>\n",
       "    .dataframe tbody tr th:only-of-type {\n",
       "        vertical-align: middle;\n",
       "    }\n",
       "\n",
       "    .dataframe tbody tr th {\n",
       "        vertical-align: top;\n",
       "    }\n",
       "\n",
       "    .dataframe thead th {\n",
       "        text-align: right;\n",
       "    }\n",
       "</style>\n",
       "<table border=\"1\" class=\"dataframe\">\n",
       "  <thead>\n",
       "    <tr style=\"text-align: right;\">\n",
       "      <th></th>\n",
       "      <th>speed</th>\n",
       "      <th>age</th>\n",
       "      <th>miles</th>\n",
       "      <th>group</th>\n",
       "    </tr>\n",
       "  </thead>\n",
       "  <tbody>\n",
       "    <tr>\n",
       "      <th>count</th>\n",
       "      <td>1500.000000</td>\n",
       "      <td>1500.000000</td>\n",
       "      <td>1500.000000</td>\n",
       "      <td>1500.000000</td>\n",
       "    </tr>\n",
       "    <tr>\n",
       "      <th>mean</th>\n",
       "      <td>122.492667</td>\n",
       "      <td>44.980667</td>\n",
       "      <td>30.434000</td>\n",
       "      <td>0.998667</td>\n",
       "    </tr>\n",
       "    <tr>\n",
       "      <th>std</th>\n",
       "      <td>17.604333</td>\n",
       "      <td>17.130400</td>\n",
       "      <td>15.250815</td>\n",
       "      <td>0.816768</td>\n",
       "    </tr>\n",
       "    <tr>\n",
       "      <th>min</th>\n",
       "      <td>68.000000</td>\n",
       "      <td>16.000000</td>\n",
       "      <td>1.000000</td>\n",
       "      <td>0.000000</td>\n",
       "    </tr>\n",
       "    <tr>\n",
       "      <th>25%</th>\n",
       "      <td>108.000000</td>\n",
       "      <td>32.000000</td>\n",
       "      <td>18.000000</td>\n",
       "      <td>0.000000</td>\n",
       "    </tr>\n",
       "    <tr>\n",
       "      <th>50%</th>\n",
       "      <td>120.000000</td>\n",
       "      <td>42.000000</td>\n",
       "      <td>29.000000</td>\n",
       "      <td>1.000000</td>\n",
       "    </tr>\n",
       "    <tr>\n",
       "      <th>75%</th>\n",
       "      <td>137.000000</td>\n",
       "      <td>55.000000</td>\n",
       "      <td>42.000000</td>\n",
       "      <td>2.000000</td>\n",
       "    </tr>\n",
       "    <tr>\n",
       "      <th>max</th>\n",
       "      <td>166.000000</td>\n",
       "      <td>100.000000</td>\n",
       "      <td>84.000000</td>\n",
       "      <td>2.000000</td>\n",
       "    </tr>\n",
       "  </tbody>\n",
       "</table>\n",
       "</div>"
      ],
      "text/plain": [
       "             speed          age        miles        group\n",
       "count  1500.000000  1500.000000  1500.000000  1500.000000\n",
       "mean    122.492667    44.980667    30.434000     0.998667\n",
       "std      17.604333    17.130400    15.250815     0.816768\n",
       "min      68.000000    16.000000     1.000000     0.000000\n",
       "25%     108.000000    32.000000    18.000000     0.000000\n",
       "50%     120.000000    42.000000    29.000000     1.000000\n",
       "75%     137.000000    55.000000    42.000000     2.000000\n",
       "max     166.000000   100.000000    84.000000     2.000000"
      ]
     },
     "execution_count": 12,
     "metadata": {},
     "output_type": "execute_result"
    }
   ],
   "source": [
    "df.describe()"
   ]
  },
  {
   "cell_type": "markdown",
   "metadata": {
    "colab_type": "text",
    "id": "sYiqzG7Y-Ci9"
   },
   "source": [
    "## First important concept: You train a machine with your data to make it learn the relationship between some input data and a certain label - this is called supervised learning"
   ]
  },
  {
   "cell_type": "markdown",
   "metadata": {
    "colab_type": "text",
    "id": "7UuM67h--Ci-"
   },
   "source": [
    "<img src='https://raw.githubusercontent.com/DJCordhose/deep-learning-crash-course-notebooks/master/img/encoding3.jpg'>"
   ]
  },
  {
   "cell_type": "code",
   "execution_count": 14,
   "metadata": {
    "colab": {},
    "colab_type": "code",
    "id": "PKnruLEO-Ci_"
   },
   "outputs": [],
   "source": [
    "# we deliberately decide \"group\" is going to be our label, \n",
    "# it is often named lower case y (or ordinate)\n",
    "y = df['group']"
   ]
  },
  {
   "cell_type": "code",
   "execution_count": 15,
   "metadata": {
    "colab": {},
    "colab_type": "code",
    "id": "C22IkDWt-CjB"
   },
   "outputs": [],
   "source": [
    "# since 'group' is now the label we want to predict, \n",
    "# we need to remove it from the training data \n",
    "df.drop('group', axis='columns', inplace=True)"
   ]
  },
  {
   "cell_type": "code",
   "execution_count": 16,
   "metadata": {
    "colab": {},
    "colab_type": "code",
    "id": "JBSDw0v7-CjE"
   },
   "outputs": [],
   "source": [
    "# input data often is named upper case X, \n",
    "# the upper case indicates, that each row is a vector\n",
    "# X = df.as_matrix()   # Removed from pandas 1.1.x\n",
    "X = df.to_numpy()"
   ]
  },
  {
   "cell_type": "markdown",
   "metadata": {
    "colab_type": "text",
    "id": "aaG2cF5X-CjI"
   },
   "source": [
    "## Neural Networks using TensorFlow and Keras layers\n",
    "* Neural Networks consist of artificial neurons you organize in layers\n",
    "* each neuron is very simple, but, theoretically, having enough of them in a single layer can approximate any funtion\n",
    "* practically, we use 2 or 3 layers, as this has turned out to work well\n",
    "* the more neurons and the more layers you use the longer the network takes to train\n",
    "* neural networks often are no longer approachable using cross validation and grid search to find suitable hyper parameters"
   ]
  },
  {
   "cell_type": "markdown",
   "metadata": {
    "colab_type": "text",
    "id": "hLpFL8Az-CjI"
   },
   "source": [
    "## Neuron (aka node or unit)\n",
    "\n",
    "A neuron takes a number of numerical inputs, multiplies each with a weight, sums up all weighted input and adds bias (constant) to that sum. From this it creates a single numerical output. For one input (one dimension) this would be a description of a line. For more dimensions this describes a hyper plane that can serve as a decision boundary. Typically, this output is transformed using an activation function which compresses the output to a value between 0 and 1 (sigmoid), or between -1 and 1 (tanh) or sets all negative values to zero (relu).\n",
    "\n",
    "It is not really important to understand the details of a neural network. Practically how you configure them to form something more powerful is much more important. This, however, is still a very experimental domain, so there really is no conscise explanation and understanding how they work.\n",
    "\n",
    "<img src='https://raw.githubusercontent.com/DJCordhose/deep-learning-crash-course-notebooks/master/img/neuron.jpg'>"
   ]
  },
  {
   "cell_type": "markdown",
   "metadata": {
    "colab_type": "text",
    "id": "wqxVRG2H-CjJ"
   },
   "source": [
    "### We use a sequential mode, that means data flows without junctions from in to out"
   ]
  },
  {
   "cell_type": "code",
   "execution_count": 17,
   "metadata": {
    "colab": {},
    "colab_type": "code",
    "id": "dFHfRNI2-CjK"
   },
   "outputs": [],
   "source": [
    "model = keras.Sequential()"
   ]
  },
  {
   "cell_type": "markdown",
   "metadata": {
    "colab_type": "text",
    "id": "YI3EeBRv-CjO"
   },
   "source": [
    "### We start with a single fully connected layer having 50 neurons\n",
    "* we have three inputs\n",
    "  * age \n",
    "  * speed\n",
    "  * miles\n",
    "* activation function is tanh\n",
    "* why these parameters: random for now"
   ]
  },
  {
   "cell_type": "code",
   "execution_count": 18,
   "metadata": {
    "colab": {},
    "colab_type": "code",
    "id": "klm54Eiw-CjO"
   },
   "outputs": [],
   "source": [
    "from tensorflow.keras.layers import Dense\n",
    "\n",
    "model.add(Dense(50, name='hidden1', activation='tanh', input_dim=3))"
   ]
  },
  {
   "cell_type": "markdown",
   "metadata": {
    "colab_type": "text",
    "id": "OGwiKJh4-CjR"
   },
   "source": [
    "### The final layer just transforms to likelyhood for each of our 3 classes"
   ]
  },
  {
   "cell_type": "code",
   "execution_count": 19,
   "metadata": {
    "colab": {},
    "colab_type": "code",
    "id": "ZixW-75K-CjS"
   },
   "outputs": [],
   "source": [
    "num_categories = 3\n",
    "model.add(Dense(num_categories, name='softmax', activation='softmax'))"
   ]
  },
  {
   "cell_type": "markdown",
   "metadata": {
    "colab_type": "text",
    "id": "MH_gda8M-CjU"
   },
   "source": [
    "### First, let us have a look at how the input and output from this model would look like\n",
    "\n",
    "* this model has not been trainined, so do not expect the outputs to be reasonable\n",
    "* we are only interested in the format of input and output\n",
    "* note that there is a mismatch between prediction and our known truths in format\n",
    "* we will fix this in the next step"
   ]
  },
  {
   "cell_type": "code",
   "execution_count": 20,
   "metadata": {
    "colab": {},
    "colab_type": "code",
    "id": "M0JQ_Wm_-CjU"
   },
   "outputs": [],
   "source": [
    "input = X[0:10]"
   ]
  },
  {
   "cell_type": "code",
   "execution_count": 21,
   "metadata": {
    "colab": {
     "base_uri": "https://localhost:8080/",
     "height": 190
    },
    "colab_type": "code",
    "id": "UYYe3Uzw-CjX",
    "outputId": "8573ff8d-bc87-4a54-abb2-a3fd420adae7"
   },
   "outputs": [
    {
     "data": {
      "text/plain": [
       "array([[ 98.,  44.,  25.],\n",
       "       [118.,  54.,  24.],\n",
       "       [111.,  26.,  34.],\n",
       "       [ 97.,  25.,  10.],\n",
       "       [114.,  38.,  22.],\n",
       "       [130.,  55.,  34.],\n",
       "       [118.,  40.,  51.],\n",
       "       [143.,  42.,  34.],\n",
       "       [120.,  41.,  42.],\n",
       "       [148.,  33.,  53.]])"
      ]
     },
     "execution_count": 21,
     "metadata": {},
     "output_type": "execute_result"
    }
   ],
   "source": [
    "# combinations of customer data\n",
    "input"
   ]
  },
  {
   "cell_type": "code",
   "execution_count": 22,
   "metadata": {
    "colab": {
     "base_uri": "https://localhost:8080/",
     "height": 190
    },
    "colab_type": "code",
    "id": "3pSqeszs-Cjc",
    "outputId": "51f9bcb6-8b03-4b25-b5df-145ecb9188f3"
   },
   "outputs": [
    {
     "data": {
      "text/plain": [
       "array([[0.05204791, 0.21763855, 0.7303135 ],\n",
       "       [0.05584538, 0.16135797, 0.7827967 ],\n",
       "       [0.02877889, 0.17047876, 0.8007423 ],\n",
       "       [0.05008142, 0.23259573, 0.7173228 ],\n",
       "       [0.04908125, 0.24614482, 0.7047739 ],\n",
       "       [0.0493986 , 0.24666113, 0.7039402 ],\n",
       "       [0.05960433, 0.15291464, 0.78748095],\n",
       "       [0.04820875, 0.25942487, 0.6923663 ],\n",
       "       [0.06183838, 0.22208914, 0.71607256],\n",
       "       [0.02674145, 0.13844317, 0.8348154 ]], dtype=float32)"
      ]
     },
     "execution_count": 22,
     "metadata": {},
     "output_type": "execute_result"
    }
   ],
   "source": [
    "# predicted output: likeliyhoods for groups\n",
    "model.predict(input)"
   ]
  },
  {
   "cell_type": "code",
   "execution_count": 23,
   "metadata": {
    "colab": {
     "base_uri": "https://localhost:8080/",
     "height": 207
    },
    "colab_type": "code",
    "id": "staTVEsp-Cjf",
    "outputId": "f0020da2-ae01-450f-e780-def5d5d0fb19"
   },
   "outputs": [
    {
     "data": {
      "text/plain": [
       "0    1\n",
       "1    1\n",
       "2    0\n",
       "3    2\n",
       "4    1\n",
       "5    0\n",
       "6    0\n",
       "7    1\n",
       "8    2\n",
       "9    0\n",
       "Name: group, dtype: int64"
      ]
     },
     "execution_count": 23,
     "metadata": {},
     "output_type": "execute_result"
    }
   ],
   "source": [
    "# true, known output\n",
    "y[0:10]"
   ]
  },
  {
   "cell_type": "markdown",
   "metadata": {
    "colab_type": "text",
    "id": "60QFCfa_-Cji"
   },
   "source": [
    "### These are the parameters of the model that need to be learned"
   ]
  },
  {
   "cell_type": "code",
   "execution_count": 24,
   "metadata": {
    "colab": {
     "base_uri": "https://localhost:8080/",
     "height": 207
    },
    "colab_type": "code",
    "id": "lqt6PpWM-Cjj",
    "outputId": "1a7c5469-b4e9-44ff-87cb-8c0b3a2d024e"
   },
   "outputs": [
    {
     "name": "stdout",
     "output_type": "stream",
     "text": [
      "Model: \"sequential\"\n",
      "_________________________________________________________________\n",
      "Layer (type)                 Output Shape              Param #   \n",
      "=================================================================\n",
      "hidden1 (Dense)              (None, 50)                200       \n",
      "_________________________________________________________________\n",
      "softmax (Dense)              (None, 3)                 153       \n",
      "=================================================================\n",
      "Total params: 353\n",
      "Trainable params: 353\n",
      "Non-trainable params: 0\n",
      "_________________________________________________________________\n"
     ]
    }
   ],
   "source": [
    "model.summary()"
   ]
  },
  {
   "cell_type": "markdown",
   "metadata": {
    "colab_type": "text",
    "id": "CSI3mK9y-Cjm"
   },
   "source": [
    "### Bringing it all together\n",
    "* _sparse_categorical_crossentropy_\n",
    "  * _crossentropy_: Loss is defined by https://en.wikipedia.org/wiki/Cross_entropy\n",
    "  * _categorical_: we are comparing categorical data\n",
    "  * _sparse_: allows us to leave our labels as they are without explicitly turning them into a one-hot encoding \n",
    "* _adam_: is the least tedious algorithm to minimize loss (http://cs231n.github.io/neural-networks-3/#ada)\n",
    "  * auto-tunes most important parameters including learning rate   "
   ]
  },
  {
   "cell_type": "code",
   "execution_count": 25,
   "metadata": {
    "colab": {},
    "colab_type": "code",
    "id": "s2EaOaxL-Cjn"
   },
   "outputs": [],
   "source": [
    "model.compile(loss='sparse_categorical_crossentropy',\n",
    "             optimizer='adam')"
   ]
  },
  {
   "cell_type": "markdown",
   "metadata": {
    "colab_type": "text",
    "id": "B-OpSEsA-Cjr"
   },
   "source": [
    "# Caution: we have not trained our model, yet, the parameters are still initinialized randomly"
   ]
  },
  {
   "cell_type": "code",
   "execution_count": 0,
   "metadata": {
    "colab": {},
    "colab_type": "code",
    "id": "R-yVJfKD-Cjs"
   },
   "outputs": [],
   "source": []
  }
 ],
 "metadata": {
  "accelerator": "GPU",
  "colab": {
   "include_colab_link": true,
   "name": "U3-M5-nn-intro.ipynb",
   "provenance": [],
   "version": "0.3.2"
  },
  "kernelspec": {
   "display_name": "Python 3",
   "language": "python",
   "name": "python3"
  },
  "language_info": {
   "codemirror_mode": {
    "name": "ipython",
    "version": 3
   },
   "file_extension": ".py",
   "mimetype": "text/x-python",
   "name": "python",
   "nbconvert_exporter": "python",
   "pygments_lexer": "ipython3",
   "version": "3.8.3"
  }
 },
 "nbformat": 4,
 "nbformat_minor": 1
}
