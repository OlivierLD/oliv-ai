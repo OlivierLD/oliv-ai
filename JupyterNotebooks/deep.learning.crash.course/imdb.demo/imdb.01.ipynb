{
 "cells": [
  {
   "cell_type": "markdown",
   "metadata": {},
   "source": [
    "## IMDB, binary classification example\n",
    "- Page 68 and after\n",
    "- More about the data used here at [this post](https://towardsdatascience.com/machine-learning-word-embedding-sentiment-classification-using-keras-b83c28087456).\n",
    "- Evaluate the comments made on a movie to see if it was good or bad (positive:1, or negative:0)"
   ]
  },
  {
   "cell_type": "code",
   "execution_count": 52,
   "metadata": {},
   "outputs": [],
   "source": [
    "from keras.datasets import imdb"
   ]
  },
  {
   "cell_type": "code",
   "execution_count": 53,
   "metadata": {},
   "outputs": [],
   "source": [
    "INDEX_FROM = 0\n",
    "(train_data, train_labels), (test_data, test_labels) = imdb.load_data(num_words=10000, index_from=INDEX_FROM)"
   ]
  },
  {
   "cell_type": "code",
   "execution_count": 54,
   "metadata": {},
   "outputs": [
    {
     "name": "stdout",
     "output_type": "stream",
     "text": [
      "First set of train data:\n",
      "[1, 11, 19, 13, 40, 527, 970, 1619, 1382, 62, 455, 4465, 63, 3938, 1, 170, 33, 253, 2, 22, 97, 40, 835, 109, 47, 667, 2, 6, 32, 477, 281, 2, 147, 1, 169, 109, 164, 2, 333, 382, 36, 1, 169, 4533, 1108, 14, 543, 35, 10, 444, 1, 189, 47, 13, 3, 144, 2022, 16, 11, 19, 1, 1917, 4610, 466, 1, 19, 68, 84, 9, 13, 40, 527, 35, 73, 12, 10, 1244, 1, 19, 14, 512, 14, 9, 13, 623, 15, 2, 2, 59, 383, 9, 5, 313, 5, 103, 2, 1, 2220, 5241, 13, 477, 63, 3782, 30, 1, 127, 9, 13, 35, 616, 2, 22, 121, 48, 33, 132, 45, 22, 1412, 30, 3, 19, 9, 212, 25, 74, 49, 2, 11, 404, 13, 79, 2, 5, 1, 104, 114, 5949, 12, 253, 1, 2, 4, 3763, 2, 720, 33, 68, 40, 527, 473, 23, 397, 314, 43, 4, 1, 2, 1026, 10, 101, 85, 1, 378, 12, 294, 95, 29, 2068, 53, 23, 138, 3, 191, 7483, 15, 1, 223, 19, 18, 131, 473, 23, 477, 2, 141, 27, 5532, 15, 48, 33, 25, 221, 89, 22, 101, 1, 223, 62, 13, 35, 1331, 85, 9, 13, 280, 2, 13, 4469, 110, 100, 29, 12, 13, 5342, 16, 175, 29]\n",
      "(218 elements)\n"
     ]
    }
   ],
   "source": [
    "print(\"First set of train data:\\n{}\\n({} elements)\".format(train_data[0], len(train_data[0])))"
   ]
  },
  {
   "cell_type": "code",
   "execution_count": 55,
   "metadata": {},
   "outputs": [
    {
     "name": "stdout",
     "output_type": "stream",
     "text": [
      "First 10 train labels:\n",
      "[1 0 0 1 0 0 1 0 1 0]\n"
     ]
    }
   ],
   "source": [
    "print(\"First 10 train labels:\\n{}\".format(train_labels[0:10]))"
   ]
  },
  {
   "cell_type": "code",
   "execution_count": 56,
   "metadata": {},
   "outputs": [
    {
     "data": {
      "text/plain": [
       "9999"
      ]
     },
     "execution_count": 56,
     "metadata": {},
     "output_type": "execute_result"
    }
   ],
   "source": [
    "max([max(sequence) for sequence in train_data])  # should be 9999, 10000 - 1."
   ]
  },
  {
   "cell_type": "code",
   "execution_count": 88,
   "metadata": {},
   "outputs": [
    {
     "name": "stdout",
     "output_type": "stream",
     "text": [
      "decoded_review:\n",
      "? in with i like horrible business chinese charm would killer waited which explosion ? going at fun ? film make like lame character has novel ? a all final sense ? real ? find character nothing ? second perhaps they ? find valuable cover this city an br overall ? horror has i ? should shop was in with ? delightful 00 despite ? with their people is i like horrible an well it br garbage ? with this genre this is i taken that ? ? she sex is and house and after ? ? product bud i final which returned be ? does is i an annoying ? film where if at man it's film sent be ? with is comedy you than some ? in perfect i get ? and ? think plot windows it fun ? ? the lou ? sequence at their like horrible wanted on getting night just the ? ? rich br any other ? couple it someone then he decade more on why ? can't ajay that ? family with for still wanted on final ? such his lindsay that if at you interesting how film any ? family would i an g other is i once ? i boot seen could he it i pitiful was every he\n",
      "=============================\n",
      "<START> this film was just brilliant casting location scenery story direction everyone's really suited <START> part they played <UNK> you could just imagine being there robert <UNK> is an amazing actor <UNK> now <START> same being director <UNK> father came from <START> same scottish island as myself so i loved <START> fact there was a real connection with this film <START> witty remarks throughout <START> film were great it was just brilliant so much that i bought <START> film as soon as it was released for <UNK> <UNK> would recommend it to everyone to watch <UNK> <START> fly fishing was amazing really cried at <START> end it was so sad <UNK> you know what they say if you cry at a film it must have been good <UNK> this definitely was also <UNK> to <START> two little boy's that played <START> <UNK> of norman <UNK> paul they were just brilliant children are often left out of <START> <UNK> list i think because <START> stars that play them all grown up are such a big profile for <START> whole film but these children are amazing <UNK> should be praised for what they have done don't you think <START> whole story was so lovely because it was true <UNK> was someone's life after all that was shared with us all\n",
      "=============================\n"
     ]
    }
   ],
   "source": [
    "word_index = imdb.get_word_index()\n",
    "# print(\"Word Index:\\n{}\".format(word_index))\n",
    "\n",
    "reverse_word_index = dict(\n",
    "    [(value, key) for (key, value) in word_index.items()])\n",
    "decoded_review = ' '.join([reverse_word_index.get(i - 3, '?') for i in train_data[0]])\n",
    "print('decoded_review:\\n{}'.format(decoded_review))\n",
    "print(\"=============================\")\n",
    "word_index = {k:(v+INDEX_FROM) for k,v in word_index.items()}\n",
    "word_index[\"<PAD>\"] = 0\n",
    "word_index[\"<START>\"] = 1\n",
    "word_index[\"<UNK>\"] = 2\n",
    "\n",
    "id_to_word = {value:key for key, value in word_index.items()}\n",
    "print(' '.join(id_to_word[id] for id in train_data[0] ))\n",
    "print(\"=============================\")"
   ]
  },
  {
   "cell_type": "code",
   "execution_count": 113,
   "metadata": {},
   "outputs": [
    {
     "name": "stdout",
     "output_type": "stream",
     "text": [
      "Len Train Data: 25000\n",
      "train_data[0]: [1, 11, 19, 13, 40, 527, 970, 1619, 1382, 62, 455, 4465, 63, 3938, 1, 170, 33, 253, 2, 22, 97, 40, 835, 109, 47, 667, 2, 6, 32, 477, 281, 2, 147, 1, 169, 109, 164, 2, 333, 382, 36, 1, 169, 4533, 1108, 14, 543, 35, 10, 444, 1, 189, 47, 13, 3, 144, 2022, 16, 11, 19, 1, 1917, 4610, 466, 1, 19, 68, 84, 9, 13, 40, 527, 35, 73, 12, 10, 1244, 1, 19, 14, 512, 14, 9, 13, 623, 15, 2, 2, 59, 383, 9, 5, 313, 5, 103, 2, 1, 2220, 5241, 13, 477, 63, 3782, 30, 1, 127, 9, 13, 35, 616, 2, 22, 121, 48, 33, 132, 45, 22, 1412, 30, 3, 19, 9, 212, 25, 74, 49, 2, 11, 404, 13, 79, 2, 5, 1, 104, 114, 5949, 12, 253, 1, 2, 4, 3763, 2, 720, 33, 68, 40, 527, 473, 23, 397, 314, 43, 4, 1, 2, 1026, 10, 101, 85, 1, 378, 12, 294, 95, 29, 2068, 53, 23, 138, 3, 191, 7483, 15, 1, 223, 19, 18, 131, 473, 23, 477, 2, 141, 27, 5532, 15, 48, 33, 25, 221, 89, 22, 101, 1, 223, 62, 13, 35, 1331, 85, 9, 13, 280, 2, 13, 4469, 110, 100, 29, 12, 13, 5342, 16, 175, 29]\n",
      "x_train[0]: [0. 1. 1. ... 0. 0. 0.]\n"
     ]
    }
   ],
   "source": [
    "import numpy as np\n",
    "\n",
    "def vectorize_sequences(sequences, dimension=10000):\n",
    "    results = np.zeros((len(sequences), dimension))\n",
    "    for i, sequence in enumerate(sequences):\n",
    "        results[i, sequence] = 1\n",
    "    return results\n",
    "\n",
    "x_train = vectorize_sequences(train_data)\n",
    "x_test = vectorize_sequences(test_data)\n",
    "\n",
    "# print(\"train_data[0]: {}\".format(train_data[0]))\n",
    "# print(\"x_train[0]: {}\".format(x_train[0]))\n"
   ]
  },
  {
   "cell_type": "code",
   "execution_count": 59,
   "metadata": {},
   "outputs": [
    {
     "data": {
      "text/plain": [
       "array([0., 1., 1., ..., 0., 0., 0.])"
      ]
     },
     "execution_count": 59,
     "metadata": {},
     "output_type": "execute_result"
    }
   ],
   "source": [
    "x_train[0]"
   ]
  },
  {
   "cell_type": "code",
   "execution_count": 60,
   "metadata": {},
   "outputs": [],
   "source": [
    "y_train = np.asarray(train_labels).astype('float32')\n",
    "y_test = np.asarray(test_labels).astype('float32')"
   ]
  },
  {
   "cell_type": "markdown",
   "metadata": {},
   "source": [
    "#### Building the Model (Network)"
   ]
  },
  {
   "cell_type": "code",
   "execution_count": 61,
   "metadata": {},
   "outputs": [],
   "source": [
    "from keras import models\n",
    "from keras import layers\n",
    "\n",
    "activation = 'relu'  \n",
    "model = models.Sequential()\n",
    "model.add(layers.Dense(16, activation=activation, input_shape=(10000,)))   \n",
    "model.add(layers.Dense(16, activation=activation))\n",
    "model.add(layers.Dense(1, activation='sigmoid'))"
   ]
  },
  {
   "cell_type": "code",
   "execution_count": 62,
   "metadata": {},
   "outputs": [],
   "source": [
    "model.compile(optimizer='rmsprop',\n",
    "              loss='binary_crossentropy',\n",
    "              metrics=['accuracy'])"
   ]
  },
  {
   "cell_type": "markdown",
   "metadata": {},
   "source": [
    "##### Configuring the optimizers"
   ]
  },
  {
   "cell_type": "code",
   "execution_count": 63,
   "metadata": {},
   "outputs": [],
   "source": [
    "from keras import optimizers\n",
    "\n",
    "model.compile(optimizer=optimizers.RMSprop(lr=0.001),\n",
    "              loss='binary_crossentropy',\n",
    "              metrics=['accuracy'])"
   ]
  },
  {
   "cell_type": "code",
   "execution_count": 64,
   "metadata": {},
   "outputs": [],
   "source": [
    "from keras import losses\n",
    "from keras import metrics\n",
    "\n",
    "model.compile(optimizer=optimizers.RMSprop(lr=0.001),\n",
    "              loss=losses.binary_crossentropy,\n",
    "              metrics=[metrics.binary_accuracy])"
   ]
  },
  {
   "cell_type": "markdown",
   "metadata": {},
   "source": [
    "##### Validating the approach"
   ]
  },
  {
   "cell_type": "code",
   "execution_count": 65,
   "metadata": {},
   "outputs": [],
   "source": [
    "x_val = x_train[:10000]\n",
    "partial_x_train = x_train[10000:]\n",
    "\n",
    "y_val = y_train[:10000]\n",
    "partial_y_train = y_train[10000:]"
   ]
  },
  {
   "cell_type": "markdown",
   "metadata": {},
   "source": [
    "#### Let's go train it"
   ]
  },
  {
   "cell_type": "code",
   "execution_count": 66,
   "metadata": {},
   "outputs": [
    {
     "name": "stdout",
     "output_type": "stream",
     "text": [
      "Model: \"sequential_6\"\n",
      "_________________________________________________________________\n",
      "Layer (type)                 Output Shape              Param #   \n",
      "=================================================================\n",
      "dense_16 (Dense)             (None, 16)                160016    \n",
      "_________________________________________________________________\n",
      "dense_17 (Dense)             (None, 16)                272       \n",
      "_________________________________________________________________\n",
      "dense_18 (Dense)             (None, 1)                 17        \n",
      "=================================================================\n",
      "Total params: 160,305\n",
      "Trainable params: 160,305\n",
      "Non-trainable params: 0\n",
      "_________________________________________________________________\n",
      "Train on 15000 samples, validate on 10000 samples\n",
      "Epoch 1/20\n",
      "15000/15000 [==============================] - 7s 434us/step - loss: 0.5751 - acc: 0.7199 - val_loss: 0.4490 - val_acc: 0.8572\n",
      "Epoch 2/20\n",
      "15000/15000 [==============================] - 3s 220us/step - loss: 0.3538 - acc: 0.8947 - val_loss: 0.3251 - val_acc: 0.8864\n",
      "Epoch 3/20\n",
      "15000/15000 [==============================] - 5s 324us/step - loss: 0.2450 - acc: 0.9225 - val_loss: 0.2856 - val_acc: 0.8889\n",
      "Epoch 4/20\n",
      "15000/15000 [==============================] - 5s 322us/step - loss: 0.1898 - acc: 0.9381 - val_loss: 0.2762 - val_acc: 0.8902\n",
      "Epoch 5/20\n",
      "15000/15000 [==============================] - 4s 251us/step - loss: 0.1513 - acc: 0.9509 - val_loss: 0.2799 - val_acc: 0.8888\n",
      "Epoch 6/20\n",
      "15000/15000 [==============================] - 3s 188us/step - loss: 0.1244 - acc: 0.9613 - val_loss: 0.2868 - val_acc: 0.8883\n",
      "Epoch 7/20\n",
      "15000/15000 [==============================] - 2s 164us/step - loss: 0.1014 - acc: 0.9709 - val_loss: 0.3220 - val_acc: 0.8808\n",
      "Epoch 8/20\n",
      "15000/15000 [==============================] - 3s 187us/step - loss: 0.0828 - acc: 0.9769 - val_loss: 0.3225 - val_acc: 0.8825\n",
      "Epoch 9/20\n",
      "15000/15000 [==============================] - 4s 250us/step - loss: 0.0650 - acc: 0.9839 - val_loss: 0.3606 - val_acc: 0.8777\n",
      "Epoch 10/20\n",
      "15000/15000 [==============================] - 3s 179us/step - loss: 0.0534 - acc: 0.9871 - val_loss: 0.3775 - val_acc: 0.8773\n",
      "Epoch 11/20\n",
      "15000/15000 [==============================] - 4s 255us/step - loss: 0.0409 - acc: 0.9903 - val_loss: 0.4330 - val_acc: 0.8687\n",
      "Epoch 12/20\n",
      "15000/15000 [==============================] - 3s 214us/step - loss: 0.0323 - acc: 0.9935 - val_loss: 0.4475 - val_acc: 0.8732\n",
      "Epoch 13/20\n",
      "15000/15000 [==============================] - 4s 288us/step - loss: 0.0250 - acc: 0.9954 - val_loss: 0.4639 - val_acc: 0.8728\n",
      "Epoch 14/20\n",
      "15000/15000 [==============================] - 4s 295us/step - loss: 0.0206 - acc: 0.9961 - val_loss: 0.5011 - val_acc: 0.8718\n",
      "Epoch 15/20\n",
      "15000/15000 [==============================] - 4s 238us/step - loss: 0.0115 - acc: 0.9990 - val_loss: 0.5365 - val_acc: 0.8708\n",
      "Epoch 16/20\n",
      "15000/15000 [==============================] - 3s 232us/step - loss: 0.0115 - acc: 0.9985 - val_loss: 0.5608 - val_acc: 0.8700\n",
      "Epoch 17/20\n",
      "15000/15000 [==============================] - 4s 293us/step - loss: 0.0072 - acc: 0.9995 - val_loss: 0.5952 - val_acc: 0.8693\n",
      "Epoch 18/20\n",
      "15000/15000 [==============================] - 4s 261us/step - loss: 0.0061 - acc: 0.9995 - val_loss: 0.7390 - val_acc: 0.8526\n",
      "Epoch 19/20\n",
      "15000/15000 [==============================] - 4s 254us/step - loss: 0.0034 - acc: 0.9999 - val_loss: 0.6599 - val_acc: 0.8660\n",
      "Epoch 20/20\n",
      "15000/15000 [==============================] - 4s 249us/step - loss: 0.0038 - acc: 0.9993 - val_loss: 0.6913 - val_acc: 0.8670\n"
     ]
    }
   ],
   "source": [
    "model.compile(optimizer='rmsprop',  # mse or rmsprop\n",
    "              loss='binary_crossentropy',\n",
    "              metrics=['acc'])\n",
    "\n",
    "model.summary()\n",
    "\n",
    "history = model.fit(partial_x_train,\n",
    "                    partial_y_train,\n",
    "                    epochs=20,\n",
    "                    batch_size=512,\n",
    "                    validation_data=(x_val, y_val))"
   ]
  },
  {
   "cell_type": "code",
   "execution_count": 67,
   "metadata": {},
   "outputs": [
    {
     "name": "stdout",
     "output_type": "stream",
     "text": [
      "Keys dict_keys(['val_loss', 'val_acc', 'loss', 'acc'])\n"
     ]
    }
   ],
   "source": [
    "history_dict = history.history\n",
    "print(\"Keys {}\".format(history_dict.keys()))\n",
    "\n",
    "acc = history_dict['acc']"
   ]
  },
  {
   "cell_type": "code",
   "execution_count": 68,
   "metadata": {},
   "outputs": [
    {
     "data": {
      "image/png": "[encoded data removed]",
      "text/plain": [
       "<Figure size 432x288 with 1 Axes>"
      ]
     },
     "metadata": {
      "needs_background": "light"
     },
     "output_type": "display_data"
    }
   ],
   "source": [
    "import matplotlib.pyplot as plt\n",
    "\n",
    "history_dict = history.history\n",
    "loss_values = history_dict['loss']\n",
    "val_loss_values = history_dict['val_loss']\n",
    "\n",
    "epochs = range(1, len(acc) + 1)\n",
    "\n",
    "plt.plot(epochs, loss_values, 'bo', label='Training loss')  # 'bo' = \"blue dot\"\n",
    "plt.plot(epochs, val_loss_values, 'b', label='Validation loss')  # 'b' = \"solid blue line\"\n",
    "plt.title('Training and validation loss')\n",
    "plt.xlabel('Epoch')\n",
    "plt.ylabel('Loss')\n",
    "plt.legend()\n",
    "\n",
    "plt.show()"
   ]
  },
  {
   "cell_type": "code",
   "execution_count": 69,
   "metadata": {},
   "outputs": [
    {
     "data": {
      "image/png": "[encoded data removed]",
      "text/plain": [
       "<Figure size 432x288 with 1 Axes>"
      ]
     },
     "metadata": {
      "needs_background": "light"
     },
     "output_type": "display_data"
    }
   ],
   "source": [
    "plt.clf()  # Clear Figure\n",
    "acc_values = history_dict['acc']\n",
    "val_acc_values = history_dict['val_acc']\n",
    "\n",
    "plt.plot(epochs, acc_values, 'bo', label='Training acc')  # 'bo' = \"blue dot\"\n",
    "plt.plot(epochs, val_acc_values, 'b', label='Validation acc')  # 'b' = \"solid blue line\"\n",
    "plt.title('Training and validation accuracy')\n",
    "plt.xlabel('Epoch')\n",
    "plt.ylabel('Loss')\n",
    "plt.legend()\n",
    "\n",
    "plt.show()"
   ]
  },
  {
   "cell_type": "markdown",
   "metadata": {},
   "source": [
    "#### Retraining the model from scratch\n",
    "- Try changing activation type ('relu', 'tanh')\n",
    "- Try changing the number of layers\n",
    "- Tray changing the width of the layers (16, 32, 64)\n",
    "- Tri changing the optimizer ('rmsprop', 'mse')"
   ]
  },
  {
   "cell_type": "code",
   "execution_count": 70,
   "metadata": {},
   "outputs": [
    {
     "name": "stdout",
     "output_type": "stream",
     "text": [
      "Model: \"sequential_7\"\n",
      "_________________________________________________________________\n",
      "Layer (type)                 Output Shape              Param #   \n",
      "=================================================================\n",
      "dense_19 (Dense)             (None, 16)                160016    \n",
      "_________________________________________________________________\n",
      "dense_20 (Dense)             (None, 16)                272       \n",
      "_________________________________________________________________\n",
      "dense_21 (Dense)             (None, 1)                 17        \n",
      "=================================================================\n",
      "Total params: 160,305\n",
      "Trainable params: 160,305\n",
      "Non-trainable params: 0\n",
      "_________________________________________________________________\n",
      "Train on 25000 samples, validate on 10000 samples\n",
      "Epoch 1/20\n",
      "25000/25000 [==============================] - 7s 265us/step - loss: 0.4348 - acc: 0.8252 - val_loss: 0.2699 - val_acc: 0.9168\n",
      "Epoch 2/20\n",
      "25000/25000 [==============================] - 6s 255us/step - loss: 0.2527 - acc: 0.9111 - val_loss: 0.1904 - val_acc: 0.9412\n",
      "Epoch 3/20\n",
      "25000/25000 [==============================] - 6s 254us/step - loss: 0.1965 - acc: 0.9306 - val_loss: 0.1583 - val_acc: 0.9498\n",
      "Epoch 4/20\n",
      "25000/25000 [==============================] - 6s 232us/step - loss: 0.1656 - acc: 0.9411 - val_loss: 0.1437 - val_acc: 0.9532\n",
      "Epoch 5/20\n",
      "25000/25000 [==============================] - 5s 184us/step - loss: 0.1440 - acc: 0.9484 - val_loss: 0.1137 - val_acc: 0.9652\n",
      "Epoch 6/20\n",
      "25000/25000 [==============================] - 5s 204us/step - loss: 0.1264 - acc: 0.9559 - val_loss: 0.1002 - val_acc: 0.9702\n",
      "Epoch 7/20\n",
      "25000/25000 [==============================] - 5s 210us/step - loss: 0.1130 - acc: 0.9611 - val_loss: 0.0847 - val_acc: 0.9763\n",
      "Epoch 8/20\n",
      "25000/25000 [==============================] - 5s 216us/step - loss: 0.0987 - acc: 0.9672 - val_loss: 0.1050 - val_acc: 0.9623\n",
      "Epoch 9/20\n",
      "25000/25000 [==============================] - 4s 160us/step - loss: 0.0904 - acc: 0.9686 - val_loss: 0.0753 - val_acc: 0.9777\n",
      "Epoch 10/20\n",
      "25000/25000 [==============================] - 4s 160us/step - loss: 0.0792 - acc: 0.9738 - val_loss: 0.0623 - val_acc: 0.9814\n",
      "Epoch 11/20\n",
      "25000/25000 [==============================] - 4s 176us/step - loss: 0.0714 - acc: 0.9770 - val_loss: 0.0563 - val_acc: 0.9842\n",
      "Epoch 12/20\n",
      "25000/25000 [==============================] - 4s 166us/step - loss: 0.0638 - acc: 0.9794 - val_loss: 0.0425 - val_acc: 0.9899\n",
      "Epoch 13/20\n",
      "25000/25000 [==============================] - 7s 285us/step - loss: 0.0571 - acc: 0.9824 - val_loss: 0.0411 - val_acc: 0.9907\n",
      "Epoch 14/20\n",
      "25000/25000 [==============================] - 5s 196us/step - loss: 0.0501 - acc: 0.9849 - val_loss: 0.0481 - val_acc: 0.9846\n",
      "Epoch 15/20\n",
      "25000/25000 [==============================] - 5s 185us/step - loss: 0.0453 - acc: 0.9858 - val_loss: 0.0296 - val_acc: 0.9939\n",
      "Epoch 16/20\n",
      "25000/25000 [==============================] - 4s 178us/step - loss: 0.0369 - acc: 0.9894 - val_loss: 0.0226 - val_acc: 0.9955\n",
      "Epoch 17/20\n",
      "25000/25000 [==============================] - 6s 250us/step - loss: 0.0341 - acc: 0.9904 - val_loss: 0.0215 - val_acc: 0.9958\n",
      "Epoch 18/20\n",
      "25000/25000 [==============================] - 5s 204us/step - loss: 0.0282 - acc: 0.9921 - val_loss: 0.0157 - val_acc: 0.9969\n",
      "Epoch 19/20\n",
      "25000/25000 [==============================] - 6s 246us/step - loss: 0.0234 - acc: 0.9938 - val_loss: 0.0159 - val_acc: 0.9973\n",
      "Epoch 20/20\n",
      "25000/25000 [==============================] - 7s 290us/step - loss: 0.0200 - acc: 0.9952 - val_loss: 0.0107 - val_acc: 0.9982\n",
      "25000/25000 [==============================] - 12s 463us/step\n",
      "Evaluation results: [0.8043607292795182, 0.84484]\n",
      "Loss value 0.8043607292795182, metric value 0.84484\n"
     ]
    }
   ],
   "source": [
    "activation = 'relu'    # relu, tanh?\n",
    "optimizer = 'rmsprop'  # 'rmsprop, mse, adam?'\n",
    "width = 16             # 4, 8, 16, 32, 64, ... 512?\n",
    "hidden_layers = 1      # 1, 2, 3?\n",
    "\n",
    "model = models.Sequential()\n",
    "model.add(layers.Dense(width, activation=activation, input_shape=(10000,)))  \n",
    "for i in range(hidden_layers):\n",
    "    model.add(layers.Dense(width, activation=activation))\n",
    "model.add(layers.Dense(1, activation='sigmoid'))\n",
    "\n",
    "model.compile(optimizer=optimizer,\n",
    "              loss='binary_crossentropy',\n",
    "              metrics=['accuracy'])\n",
    "\n",
    "model.summary()\n",
    "\n",
    "epochs = 20\n",
    "history = model.fit(x_train, \n",
    "                    y_train,\n",
    "                    epochs=epochs,  \n",
    "                    batch_size=512,\n",
    "                    validation_data=(x_val, y_val))\n",
    "results = model.evaluate(x_test, y_test)\n",
    "print(\"Evaluation results: {}\".format(results))\n",
    "print(\"Loss value {}, metric value {}\".format(results[0], results[1]))"
   ]
  },
  {
   "cell_type": "markdown",
   "metadata": {},
   "source": [
    "###### Redraw the graphs"
   ]
  },
  {
   "cell_type": "code",
   "execution_count": 71,
   "metadata": {},
   "outputs": [
    {
     "name": "stdout",
     "output_type": "stream",
     "text": [
      "Keys dict_keys(['val_loss', 'val_acc', 'loss', 'acc'])\n"
     ]
    }
   ],
   "source": [
    "history_dict = history.history\n",
    "print(\"Keys {}\".format(history_dict.keys()))\n",
    "\n",
    "acc = history_dict['acc']"
   ]
  },
  {
   "cell_type": "code",
   "execution_count": 72,
   "metadata": {},
   "outputs": [
    {
     "data": {
      "image/png": "[encoded data removed]",
      "text/plain": [
       "<Figure size 432x288 with 1 Axes>"
      ]
     },
     "metadata": {
      "needs_background": "light"
     },
     "output_type": "display_data"
    }
   ],
   "source": [
    "history_dict = history.history\n",
    "\n",
    "loss_values = history_dict['loss']\n",
    "val_loss_values = history_dict['val_loss']\n",
    "\n",
    "epochs = range(1, len(acc) + 1)\n",
    "\n",
    "plt.plot(epochs, loss_values, 'bo', label='Training loss')  # 'bo' = \"blue dot\"\n",
    "plt.plot(epochs, val_loss_values, 'b', label='Validation loss')  # 'b' = \"solid blue line\"\n",
    "plt.title('Training and validation loss')\n",
    "plt.xlabel('Epoch')\n",
    "plt.ylabel('Loss')\n",
    "plt.legend()\n",
    "\n",
    "plt.show()"
   ]
  },
  {
   "cell_type": "code",
   "execution_count": 73,
   "metadata": {},
   "outputs": [
    {
     "data": {
      "image/png": "[encoded data removed]",
      "text/plain": [
       "<Figure size 432x288 with 1 Axes>"
      ]
     },
     "metadata": {
      "needs_background": "light"
     },
     "output_type": "display_data"
    }
   ],
   "source": [
    "plt.clf()  # Clear Figure\n",
    "acc_values = history_dict['acc']\n",
    "val_acc_values = history_dict['val_acc']\n",
    "\n",
    "plt.plot(epochs, acc_values, 'bo', label='Training acc')  # 'bo' = \"blue dot\"\n",
    "plt.plot(epochs, val_acc_values, 'b', label='Validation acc')  # 'b' = \"solid blue line\"\n",
    "plt.title('Training and validation accuracy')\n",
    "plt.xlabel('Epoch')\n",
    "plt.ylabel('Loss')\n",
    "plt.legend()\n",
    "\n",
    "plt.show()"
   ]
  },
  {
   "cell_type": "code",
   "execution_count": 86,
   "metadata": {},
   "outputs": [
    {
     "name": "stdout",
     "output_type": "stream",
     "text": [
      "x_test, 25000 elements, format (25000, 10000) : [[0. 1. 1. ... 0. 0. 0.]\n",
      " [0. 1. 1. ... 0. 0. 0.]\n",
      " [0. 1. 1. ... 0. 0. 0.]\n",
      " ...\n",
      " [0. 1. 1. ... 0. 0. 0.]\n",
      " [0. 1. 1. ... 0. 0. 0.]\n",
      " [0. 1. 1. ... 0. 0. 0.]]\n",
      "x_test[0]=[0. 1. 1. ... 0. 0. 0.]\n",
      "Predictions:\n",
      "[[0.00706011]\n",
      " [0.9999997 ]\n",
      " [0.99636376]\n",
      " ...\n",
      " [0.09425795]\n",
      " [0.00396037]\n",
      " [0.7787603 ]]\n"
     ]
    }
   ],
   "source": [
    "print(\"x_test, {} elements, format {} : {}\".format(len(x_test), x_test.shape, x_test))\n",
    "print(\"x_test[0]={}\".format(x_test[0]))\n",
    "prediction = model.predict(x_test)\n",
    "print(\"Predictions:\\n{}\".format(prediction))"
   ]
  },
  {
   "cell_type": "code",
   "execution_count": 148,
   "metadata": {},
   "outputs": [
    {
     "name": "stdout",
     "output_type": "stream",
     "text": [
      "\t>> No such word agaga, skipping.\n",
      "For comment 'What a holly marvelous beautiful movie I just loved it agaga', feeling is [[0.96036834]]\n",
      "For comment 'Horrible and badly disgusting made me sick', feeling is [[0.07285944]]\n",
      "For comment 'Strongly sucks never again', feeling is [[0.39999363]]\n",
      "For comment 'Very well done and played', feeling is [[0.733908]]\n"
     ]
    }
   ],
   "source": [
    "def predict_feeling(comment):\n",
    "    words = comment.lower().split(' ')\n",
    "    # print(\"Words: {}\".format(words))\n",
    "    tensor = []\n",
    "    for word in words:\n",
    "        try:\n",
    "            # print(\"Word: {}, index: {}\".format(word, word_index[word]))\n",
    "            tensor.append(word_index[word])\n",
    "        except KeyError as keyError:\n",
    "            print(\"\\t>> No such word {}, skipping.\".format(word))\n",
    "    big_tensor = []\n",
    "    idx = 0\n",
    "    while len(big_tensor) < 10000:  # Model takes 10000 words. We repeat them until we reach it.\n",
    "        big_tensor.append(tensor[idx])\n",
    "        idx += 1\n",
    "        if idx >= len(tensor):\n",
    "            idx = 0\n",
    "    the_data =  vectorize_sequences(np.array(big_tensor).reshape((1, 10000)))\n",
    "    # print(\"Tensor Shape: {}\".format(the_data.shape))\n",
    "    prediction = model.predict(the_data)\n",
    "    # print(\"Predictions:\\n{}\".format(prediction))\n",
    "    return prediction\n",
    "\n",
    "comments = [\n",
    "    \"What a holly marvelous beautiful movie I just loved it agaga\",\n",
    "    \"Horrible and badly disgusting made me sick\",\n",
    "    \"Strongly sucks never again\",\n",
    "    \"Very well done and played\"\n",
    "           ]\n",
    "for comment in comments:\n",
    "    print(\"For comment '{}', feeling is {}\".format(comment, predict_feeling(comment)))\n"
   ]
  },
  {
   "cell_type": "code",
   "execution_count": null,
   "metadata": {},
   "outputs": [],
   "source": []
  }
 ],
 "metadata": {
  "kernelspec": {
   "display_name": "Python 3",
   "language": "python",
   "name": "python3"
  },
  "language_info": {
   "codemirror_mode": {
    "name": "ipython",
    "version": 3
   },
   "file_extension": ".py",
   "mimetype": "text/x-python",
   "name": "python",
   "nbconvert_exporter": "python",
   "pygments_lexer": "ipython3",
   "version": "3.7.0"
  }
 },
 "nbformat": 4,
 "nbformat_minor": 2
}
