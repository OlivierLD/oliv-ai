{
 "cells": [
  {
   "cell_type": "markdown",
   "metadata": {},
   "source": [
    "## One neuron, in Python\n",
    "> Note: this one does not have activation function"
   ]
  },
  {
   "cell_type": "code",
   "execution_count": 1,
   "metadata": {},
   "outputs": [],
   "source": [
    "def w_sum(a, b):\n",
    "    assert(len(a) == len(b))\n",
    "    output = 0\n",
    "    for i in range(len(a)):\n",
    "        output += (a[i] * b[i])\n",
    "    return output"
   ]
  },
  {
   "cell_type": "code",
   "execution_count": 2,
   "metadata": {},
   "outputs": [],
   "source": [
    "weights = [0.1, 0.2, 0]\n",
    "def neuron(input, weights, bias):\n",
    "    return bias + w_sum(input, weights)"
   ]
  },
  {
   "cell_type": "code",
   "execution_count": 3,
   "metadata": {},
   "outputs": [
    {
     "name": "stdout",
     "output_type": "stream",
     "text": [
      "Prediction #0: 0.8600000000000001\n",
      "Prediction #1: 0.9900000000000001\n",
      "Prediction #2: 1.0300000000000002\n",
      "Prediction #3: 0.9600000000000001\n"
     ]
    }
   ],
   "source": [
    "tic = [8.5, 9.5, 9.9, 9.0]\n",
    "tac = [0.65, 0.8, 0.8, 0.9]\n",
    "toc = [1.2, 1.3, 0.5, 1.0]\n",
    "\n",
    "bias = -0.12\n",
    "\n",
    "for i in range(4):\n",
    "    input = [tic[i], tac[i], toc[i]]\n",
    "    pred = neuron(input, weights, bias)\n",
    "    print(\"Prediction #{}: {}\".format(i, pred))"
   ]
  },
  {
   "cell_type": "code",
   "execution_count": null,
   "metadata": {},
   "outputs": [],
   "source": []
  }
 ],
 "metadata": {
  "kernelspec": {
   "display_name": "Python 3",
   "language": "python",
   "name": "python3"
  },
  "language_info": {
   "codemirror_mode": {
    "name": "ipython",
    "version": 3
   },
   "file_extension": ".py",
   "mimetype": "text/x-python",
   "name": "python",
   "nbconvert_exporter": "python",
   "pygments_lexer": "ipython3",
   "version": "3.7.0"
  }
 },
 "nbformat": 4,
 "nbformat_minor": 2
}
