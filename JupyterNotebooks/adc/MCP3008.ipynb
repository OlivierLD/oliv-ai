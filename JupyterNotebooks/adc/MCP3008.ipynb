{
 "cells": [
  {
   "cell_type": "markdown",
   "metadata": {},
   "source": [
    "### ADC. MCP3008 in Java\n",
    "Make sure you have compiled and archived the required resources:\n",
    "\n",
    "From the `ADC` folder _on the Raspberry Pi_, make sure you have run\n",
    "```\n",
    " ADC $ ../gradlew shadowJar\n",
    "```\n",
    "This will generate the resources to import later on.\n",
    "\n",
    "Here is the wiring on the Raspberry Pi:\n",
    "\n",
    "![Wiring](./RPi-MCP3008-Pot_bb.png)\n"
   ]
  },
  {
   "cell_type": "markdown",
   "metadata": {},
   "source": [
    "Here is a way to add a `jar` to the classpath:"
   ]
  },
  {
   "cell_type": "code",
   "execution_count": 1,
   "metadata": {},
   "outputs": [],
   "source": [
    "List<String> added = %jars ../../ADC/build/libs/ADC-1.0-all.jar"
   ]
  },
  {
   "cell_type": "markdown",
   "metadata": {},
   "source": [
    "Archive has been created, we can import the required resources:"
   ]
  },
  {
   "cell_type": "code",
   "execution_count": 2,
   "metadata": {},
   "outputs": [],
   "source": [
    "import analogdigitalconverter.mcp3008.MCPReader;\n",
    "import com.pi4j.io.gpio.Pin;\n",
    "import utils.PinUtil;\n",
    "import utils.StringUtils;"
   ]
  },
  {
   "cell_type": "markdown",
   "metadata": {},
   "source": [
    "Identify the Channel to read. We can have up to 8 on an MCP3008."
   ]
  },
  {
   "cell_type": "code",
   "execution_count": 3,
   "metadata": {},
   "outputs": [],
   "source": [
    "// Between 0 and 7, 8 channels on the MCP3008\n",
    "private static int adcChannel = MCP3008Reader.MCP3008_input_channels.CH0.ch(); \n",
    "\n",
    "private final static boolean DEBUG = true;"
   ]
  },
  {
   "cell_type": "markdown",
   "metadata": {},
   "source": [
    "Identify the Pins used on the Raspberry pi to communicate with the `MCP3008`, using the SPI protocol."
   ]
  },
  {
   "cell_type": "code",
   "execution_count": 4,
   "metadata": {},
   "outputs": [],
   "source": [
    "// Default pins\n",
    "Pin miso = PinUtil.GPIOPin.GPIO_4.pin();\n",
    "Pin mosi = PinUtil.GPIOPin.GPIO_5.pin();\n",
    "Pin clk  = PinUtil.GPIOPin.GPIO_1.pin();\n",
    "Pin cs   = PinUtil.GPIOPin.GPIO_6.pin();"
   ]
  },
  {
   "cell_type": "markdown",
   "metadata": {},
   "source": [
    "Let's print out the wiring of the Raspberry Pi and the `MCP3008`, to see if it matches the wiring above:"
   ]
  },
  {
   "cell_type": "code",
   "execution_count": 5,
   "metadata": {},
   "outputs": [
    {
     "name": "stdout",
     "output_type": "stream",
     "text": [
      "Reading MCP3008 on channel 0\n",
      " Wiring of the MCP3008-SPI (without power supply):\n",
      " +---------++-------------------------------------------------+\n",
      " | MCP3008 || Raspberry Pi                                    |\n",
      " +---------++------+--------------+------+---------+----------+\n",
      " |         || Pin# | Name         | Role | GPIO    | wiringPI |\n",
      " |         ||      |              |      | /BCM    | /PI4J    |\n",
      " +---------++------+--------------+------+---------+----------+\n",
      " | CLK (13)|| #12  | PCM_CLK/PWM0 | CLK  | GPIO_18 | 01       |\n",
      " | Din (11)|| #18  | GPIO_5       | MOSI | GPIO_24 | 05       |\n",
      " | Dout(12)|| #16  | GPIO_4       | MISO | GPIO_23 | 04       |\n",
      " | CS  (10)|| #22  | GPIO_6       | CS   | GPIO_25 | 06       |\n",
      " +---------++------+--------------+-----+----------+----------+\n",
      "Raspberry Pi is the Master, MCP3008 is the Slave:\n",
      "- Dout on the MCP3008 goes to MISO on the RPi\n",
      "- Din on the MCP3008 goes to MOSI on the RPi\n",
      "Pins on the MCP3008 are numbered from 1 to 16, beginning top left, counter-clockwise.\n",
      "       +--------+ \n",
      "* CH0 -+  1  16 +- Vdd \n",
      "  CH1 -+  2  15 +- Vref \n",
      "  CH2 -+  3  14 +- aGnd \n",
      "  CH3 -+  4  13 +- CLK \n",
      "  CH4 -+  5  12 +- Dout \n",
      "  CH5 -+  6  11 +- Din \n",
      "  CH6 -+  7  10 +- CS \n",
      "  CH7 -+  8   9 +- dGnd \n",
      "       +--------+ \n",
      "       +-----+-----+--------------+-----++-----+--------------+-----+-----+\n",
      "       | BCM | wPi | Name         |  Physical  |         Name | wPi | BCM |\n",
      "       +-----+-----+--------------+-----++-----+--------------+-----+-----+\n",
      "       |     |     | 3v3          | #01 || #02 |          5v0 |     |     |       \n",
      "       |  02 |  08 | SDA1         | #03 || #04 |          5v0 |     |     |       \n",
      "       |  03 |  09 | SCL1         | #05 || #06 |          GND |     |     |       \n",
      "       |  04 |  07 | GPCLK0       | #07 || #08 |    UART0_TXD | 15  | 14  |       \n",
      "       |     |     | GND          | #09 || #10 |    UART0_RXD | 16  | 15  |       \n",
      "       |  17 |  00 | GPIO_0       | #11 || #12 | PCM_CLK/PWM0 | 01  | 18  | CLK   \n",
      "       |  27 |  02 | GPIO_2       | #13 || #14 |          GND |     |     |       \n",
      "       |  22 |  03 | GPIO_3       | #15 || #16 |       GPIO_4 | 04  | 23  | Dout/MISO \n",
      "       |     |     | 3v3          | #17 || #18 |       GPIO_5 | 05  | 24  | Din/MOSI \n",
      "       |  10 |  12 | SPI0_MOSI    | #19 || #20 |          GND |     |     |       \n",
      "       |  09 |  13 | SPI0_MISO    | #21 || #22 |       GPIO_6 | 06  | 25  | CS    \n",
      "       |  11 |  14 | SPI0_CLK     | #23 || #24 |   SPI0_CS0_N | 10  | 08  |       \n",
      "       |     |     | GND          | #25 || #26 |   SPI0_CS1_N | 11  | 07  |       \n",
      "       |     |  30 | SDA0         | #27 || #28 |         SCL0 | 31  |     |       \n",
      "       |  05 |  21 | GPCLK1       | #29 || #30 |          GND |     |     |       \n",
      "       |  06 |  22 | GPCLK2       | #31 || #32 |         PWM0 | 26  | 12  |       \n",
      "       |  13 |  23 | PWM1         | #33 || #34 |          GND |     |     |       \n",
      "       |  19 |  24 | PCM_FS/PWM1  | #35 || #36 |      GPIO_27 | 27  | 16  |       \n",
      "       |  26 |  25 | GPIO_25      | #37 || #38 |      PCM_DIN | 28  | 20  |       \n",
      "       |     |     | GND          | #39 || #40 |     PCM_DOUT | 29  | 21  |       \n",
      "       +-----+-----+--------------+-----++-----+--------------+-----+-----+\n",
      "       | BCM | wPi | Name         |  Physical  |         Name | wPi | BCM |\n",
      "       +-----+-----+--------------+-----++-----+--------------+-----+-----+\n",
      "\n"
     ]
    }
   ],
   "source": [
    "System.out.println(String.format(\"Reading MCP3008 on channel %d\", adcChannel));\n",
    "System.out.println(\n",
    "            \" Wiring of the MCP3008-SPI (without power supply):\\n\" +\n",
    "            \" +---------++-------------------------------------------------+\\n\" +\n",
    "            \" | MCP3008 || Raspberry Pi                                    |\\n\" +\n",
    "            \" +---------++------+--------------+------+---------+----------+\\n\" +\n",
    "            \" |         || Pin# | Name         | Role | GPIO    | wiringPI |\\n\" +\n",
    "            \" |         ||      |              |      | /BCM    | /PI4J    |\\n\" +\n",
    "            \" +---------++------+--------------+------+---------+----------+\");\n",
    "    System.out.println(String.format(\" | CLK (13)|| #%02d  | %s | CLK  | GPIO_%02d | %02d       |\",\n",
    "        PinUtil.findByPin(clk).pinNumber(),\n",
    "        StringUtils.rpad(PinUtil.findByPin(clk).pinName(), 12, \" \"),\n",
    "        PinUtil.findByPin(clk).gpio(),\n",
    "        PinUtil.findByPin(clk).wiringPi()));\n",
    "    System.out.println(String.format(\" | Din (11)|| #%02d  | %s | MOSI | GPIO_%02d | %02d       |\",\n",
    "        PinUtil.findByPin(mosi).pinNumber(),\n",
    "        StringUtils.rpad(PinUtil.findByPin(mosi).pinName(), 12, \" \"),\n",
    "        PinUtil.findByPin(mosi).gpio(),\n",
    "        PinUtil.findByPin(mosi).wiringPi()));\n",
    "    System.out.println(String.format(\" | Dout(12)|| #%02d  | %s | MISO | GPIO_%02d | %02d       |\",\n",
    "        PinUtil.findByPin(miso).pinNumber(),\n",
    "        StringUtils.rpad(PinUtil.findByPin(miso).pinName(), 12, \" \"),\n",
    "        PinUtil.findByPin(miso).gpio(),\n",
    "        PinUtil.findByPin(miso).wiringPi()));\n",
    "    System.out.println(String.format(\" | CS  (10)|| #%02d  | %s | CS   | GPIO_%02d | %02d       |\",\n",
    "        PinUtil.findByPin(cs).pinNumber(),\n",
    "        StringUtils.rpad(PinUtil.findByPin(cs).pinName(), 12, \" \"),\n",
    "        PinUtil.findByPin(cs).gpio(),\n",
    "        PinUtil.findByPin(cs).wiringPi()));\n",
    "    System.out.println(\" +---------++------+--------------+-----+----------+----------+\");\n",
    "    System.out.println(\"Raspberry Pi is the Master, MCP3008 is the Slave:\");\n",
    "    System.out.println(\"- Dout on the MCP3008 goes to MISO on the RPi\");\n",
    "    System.out.println(\"- Din on the MCP3008 goes to MOSI on the RPi\");\n",
    "    System.out.println(\"Pins on the MCP3008 are numbered from 1 to 16, beginning top left, counter-clockwise.\");\n",
    "    System.out.println(\"       +--------+ \");\n",
    "    System.out.println(String.format(\"%s CH0 -+  1  16 +- Vdd \",  (adcChannel == 0 ? \"*\" : \" \")));\n",
    "    System.out.println(String.format(\"%s CH1 -+  2  15 +- Vref \", (adcChannel == 1 ? \"*\" : \" \")));\n",
    "    System.out.println(String.format(\"%s CH2 -+  3  14 +- aGnd \", (adcChannel == 2 ? \"*\" : \" \")));\n",
    "    System.out.println(String.format(\"%s CH3 -+  4  13 +- CLK \",  (adcChannel == 3 ? \"*\" : \" \")));\n",
    "    System.out.println(String.format(\"%s CH4 -+  5  12 +- Dout \", (adcChannel == 4 ? \"*\" : \" \")));\n",
    "    System.out.println(String.format(\"%s CH5 -+  6  11 +- Din \",  (adcChannel == 5 ? \"*\" : \" \")));\n",
    "    System.out.println(String.format(\"%s CH6 -+  7  10 +- CS \",   (adcChannel == 6 ? \"*\" : \" \")));\n",
    "    System.out.println(String.format(\"%s CH7 -+  8   9 +- dGnd \", (adcChannel == 7 ? \"*\" : \" \")));\n",
    "    System.out.println(\"       +--------+ \");\n",
    "\n",
    "    // Compose mapping for PinUtil\n",
    "    String[] map = new String[4];\n",
    "    map[0] = String.valueOf(PinUtil.findByPin(clk).pinNumber()) + \":\" + \"CLK\";\n",
    "    map[1] = String.valueOf(PinUtil.findByPin(miso).pinNumber()) + \":\" + \"Dout/MISO\";\n",
    "    map[2] = String.valueOf(PinUtil.findByPin(mosi).pinNumber()) + \":\" + \"Din/MOSI\";\n",
    "    map[3] = String.valueOf(PinUtil.findByPin(cs).pinNumber()) + \":\" + \"CS\";\n",
    "\n",
    "    PinUtil.print(map);"
   ]
  },
  {
   "cell_type": "markdown",
   "metadata": {},
   "source": [
    "All seems to be good, let us initialize the `MCP3008`:"
   ]
  },
  {
   "cell_type": "code",
   "execution_count": 6,
   "metadata": {},
   "outputs": [
    {
     "name": "stderr",
     "output_type": "stream",
     "text": [
      "Not on a RPi?\n"
     ]
    }
   ],
   "source": [
    "try {\n",
    "    MCP3008Reader.initMCP3008(miso, mosi, clk, cs);\n",
    "} catch (Throwable error) {\n",
    "    System.err.println(\"Not on a RPi?\");\n",
    "}"
   ]
  },
  {
   "cell_type": "markdown",
   "metadata": {},
   "source": [
    "The 3 values below are used to display the values on change only:"
   ]
  },
  {
   "cell_type": "code",
   "execution_count": 7,
   "metadata": {},
   "outputs": [],
   "source": [
    "int lastRead = 0;\n",
    "int tolerance = 5;\n",
    "boolean first = true;"
   ]
  },
  {
   "cell_type": "markdown",
   "metadata": {},
   "source": [
    "Here is a loop, used to read the values returned by the `MCP3008`. \n",
    "\n",
    "When the program is looping, tune the potentiometer to make the values change:"
   ]
  },
  {
   "cell_type": "code",
   "execution_count": 8,
   "metadata": {},
   "outputs": [
    {
     "name": "stdout",
     "output_type": "stream",
     "text": [
      "readAdc (simulating):49 (0x31, 0&00110001)\n",
      "Volume:   4% (0049) => 0.158 V\n",
      "readAdc (simulating):971 (0x3CB, 0&1111001011)\n",
      "Volume:  94% (0971) => 3.132 V\n",
      "readAdc (simulating):126 (0x7E, 0&01111110)\n",
      "Volume:  12% (0126) => 0.406 V\n",
      "readAdc (simulating):500 (0x1F4, 0&111110100)\n",
      "Volume:  48% (0500) => 1.613 V\n",
      "readAdc (simulating):109 (0x6D, 0&01101101)\n",
      "Volume:  10% (0109) => 0.352 V\n",
      "readAdc (simulating):339 (0x153, 0&101010011)\n",
      "Volume:  33% (0339) => 1.094 V\n",
      "readAdc (simulating):903 (0x387, 0&1110000111)\n",
      "Volume:  88% (0903) => 2.913 V\n",
      "readAdc (simulating):393 (0x189, 0&110001001)\n",
      "Volume:  38% (0393) => 1.268 V\n",
      "readAdc (simulating):163 (0xA3, 0&10100011)\n",
      "Volume:  15% (0163) => 0.526 V\n",
      "readAdc (simulating):89 (0x59, 0&01011001)\n",
      "Volume:   8% (0089) => 0.287 V\n"
     ]
    }
   ],
   "source": [
    "// Reading loop\n",
    "for (int i=0; i<10; i++) {\n",
    "  // System.out.println(\"Reading channel \" + adcChannel);\n",
    "  boolean simulating = false;\n",
    "  int adc = 0;\n",
    "  try { \n",
    "      adc = MCP3008Reader.readMCP3008(adcChannel);\n",
    "  } catch (NullPointerException npe) {\n",
    "      simulating = true;\n",
    "      adc = (int)Math.round(1_024D * Math.random());\n",
    "  } catch (Throwable error) {\n",
    "      error.printStackTrace();\n",
    "  }\n",
    "  // System.out.println(String.format(\"From ch %d: %d\", adcChannel, adc));\n",
    "  int postAdjust = Math.abs(adc - lastRead);\n",
    "  if (first || postAdjust > tolerance) {\n",
    "    int volume = (int) (adc / 10.23); // [0, 1023] ~ [0x0000, 0x03FF] ~ [0&0, 0&1111111111]\n",
    "    if (DEBUG) {\n",
    "      System.out.println(\"readAdc\" + (simulating ? \" (simulating)\" : \"\") + \":\" + Integer.toString(adc) +\n",
    "          \" (0x\" + StringUtils.lpad(Integer.toString(adc, 16).toUpperCase(), 2, \"0\") +\n",
    "          \", 0&\" + StringUtils.lpad(Integer.toString(adc, 2), 8, \"0\") + \")\");\n",
    "    }\n",
    "    System.out.println(String.format(\"Volume: %s%% (%04d) => %.03f V\",\n",
    "        StringUtils.lpad(String.format(\"%d\", volume), 3, \" \"),\n",
    "        adc,\n",
    "        (3.3 * (adc / 1023.0))));  // Volts\n",
    "    lastRead = adc;\n",
    "    first = false;\n",
    "  }\n",
    "  try {\n",
    "    synchronized (Thread.currentThread()) {\n",
    "      Thread.currentThread().wait(1_000L); // in milliseconds\n",
    "    }\n",
    "  } catch (InterruptedException ie) {\n",
    "    Thread.currentThread().interrupt();\n",
    "  }\n",
    "}"
   ]
  },
  {
   "cell_type": "markdown",
   "metadata": {},
   "source": [
    "And finally, we free the resources:"
   ]
  },
  {
   "cell_type": "code",
   "execution_count": 9,
   "metadata": {},
   "outputs": [
    {
     "name": "stdout",
     "output_type": "stream",
     "text": [
      "Bye, freeing resources.\n"
     ]
    },
    {
     "name": "stderr",
     "output_type": "stream",
     "text": [
      "Oops\n"
     ]
    }
   ],
   "source": [
    "System.out.println(\"Bye, freeing resources.\");\n",
    "try {\n",
    "    MCP3008Reader.shutdownMCP3008();\n",
    "} catch (NullPointerException npe) {\n",
    "    System.err.println(\"Oops\");\n",
    "}"
   ]
  },
  {
   "cell_type": "code",
   "execution_count": null,
   "metadata": {},
   "outputs": [],
   "source": []
  }
 ],
 "metadata": {
  "kernelspec": {
   "display_name": "Java",
   "language": "java",
   "name": "java"
  },
  "language_info": {
   "codemirror_mode": "java",
   "file_extension": ".java",
   "mimetype": "text/x-java-source",
   "name": "Java",
   "pygments_lexer": "java",
   "version": "9.0.1+11"
  }
 },
 "nbformat": 4,
 "nbformat_minor": 2
}
