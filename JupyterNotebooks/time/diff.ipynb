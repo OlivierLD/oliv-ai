{
 "cells": [
  {
   "cell_type": "markdown",
   "metadata": {},
   "source": [
    "# Date, Time, and Calendars..."
   ]
  },
  {
   "cell_type": "code",
   "execution_count": 1,
   "metadata": {},
   "outputs": [],
   "source": [
    "Calendar calOne = Calendar.getInstance();"
   ]
  },
  {
   "cell_type": "code",
   "execution_count": 2,
   "metadata": {},
   "outputs": [],
   "source": [
    "Calendar calTwo = Calendar.getInstance();"
   ]
  },
  {
   "cell_type": "markdown",
   "metadata": {},
   "source": [
    "How many days between 02-Sep-1999 and 18-Apr-2019 ? "
   ]
  },
  {
   "cell_type": "code",
   "execution_count": 3,
   "metadata": {},
   "outputs": [
    {
     "name": "stdout",
     "output_type": "stream",
     "text": [
      "Thu Sep 02 00:00:00 PDT 1999\n"
     ]
    }
   ],
   "source": [
    "calOne.set(Calendar.YEAR, 1999);\n",
    "calOne.set(Calendar.MONTH, Calendar.SEPTEMBER);\n",
    "calOne.set(Calendar.DAY_OF_MONTH, 2);\n",
    "calOne.set(Calendar.HOUR_OF_DAY, 0);\n",
    "calOne.set(Calendar.MINUTE, 0);\n",
    "calOne.set(Calendar.SECOND, 0);\n",
    "System.out.println(calOne.getTime().toString());"
   ]
  },
  {
   "cell_type": "code",
   "execution_count": 4,
   "metadata": {},
   "outputs": [
    {
     "name": "stdout",
     "output_type": "stream",
     "text": [
      "Thu Apr 18 00:00:00 PDT 2019\n"
     ]
    }
   ],
   "source": [
    "calTwo.set(Calendar.YEAR, 2019);\n",
    "calTwo.set(Calendar.MONTH, Calendar.APRIL);\n",
    "calTwo.set(Calendar.DAY_OF_MONTH, 18);\n",
    "calTwo.set(Calendar.HOUR_OF_DAY, 0);\n",
    "calTwo.set(Calendar.MINUTE, 0);\n",
    "calTwo.set(Calendar.SECOND, 0);\n",
    "System.out.println(calTwo.getTime().toString());"
   ]
  },
  {
   "cell_type": "code",
   "execution_count": 5,
   "metadata": {},
   "outputs": [],
   "source": [
    "import java.time.Duration;"
   ]
  },
  {
   "cell_type": "code",
   "execution_count": 6,
   "metadata": {},
   "outputs": [
    {
     "name": "stdout",
     "output_type": "stream",
     "text": [
      "Diff: 7168 day(s) (0x1C00 0&1110000000000).\n"
     ]
    }
   ],
   "source": [
    "long days = Duration.between(calOne.toInstant(), calTwo.toInstant()).toDays();\n",
    "System.out.println(String.format(\"Diff: %s day(s) (0x%s 0&%s).\", \n",
    "                                 String.valueOf(days), \n",
    "                                 Long.toHexString(days).toUpperCase(),\n",
    "                                 Long.toBinaryString(days)));"
   ]
  },
  {
   "cell_type": "markdown",
   "metadata": {},
   "source": [
    "### Add Days to a date"
   ]
  },
  {
   "cell_type": "code",
   "execution_count": 7,
   "metadata": {},
   "outputs": [
    {
     "name": "stdout",
     "output_type": "stream",
     "text": [
      "Thu Apr 18 00:00:00 PDT 2019\n"
     ]
    }
   ],
   "source": [
    "calOne.add(Calendar.DATE, (int)days);\n",
    "System.out.println(calOne.getTime().toString());"
   ]
  },
  {
   "cell_type": "code",
   "execution_count": null,
   "metadata": {},
   "outputs": [],
   "source": []
  }
 ],
 "metadata": {
  "kernelspec": {
   "display_name": "Java",
   "language": "java",
   "name": "java"
  },
  "language_info": {
   "codemirror_mode": "java",
   "file_extension": ".java",
   "mimetype": "text/x-java-source",
   "name": "Java",
   "pygments_lexer": "java",
   "version": "9.0.1+11"
  }
 },
 "nbformat": 4,
 "nbformat_minor": 2
}
