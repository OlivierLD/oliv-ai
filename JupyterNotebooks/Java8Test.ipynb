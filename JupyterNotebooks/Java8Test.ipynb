{
 "cells": [
  {
   "cell_type": "markdown",
   "metadata": {},
   "source": [
    "### Jupyter and Java 101\n",
    "For tutorial and doc, see https://github.com/SpencerPark/IJava\n",
    "\n",
    "For external dependencies, see https://hub.mybinder.org/user/spencerpark-ijava-binder-rgilka4w/lab"
   ]
  },
  {
   "cell_type": "markdown",
   "metadata": {},
   "source": [
    "To the classpath of the notebook:\n",
    "```\n",
    "python3 install.py -h\n",
    "usage: install.py [-h] [--user | --sys-prefix | --prefix PREFIX] [--replace]\n",
    "                  [--classpath ENV] [--comp-opts ENV]\n",
    "                  [--startup-scripts-path ENV] [--startup-script ENV]\n",
    "                  [--timeout ENV]\n",
    "\n",
    "Install the java kernel.\n",
    "\n",
    "optional arguments:\n",
    "  -h, --help            show this help message and exit\n",
    "  --user                Install to the per-user kernel registry.\n",
    "  --sys-prefix          Install to Python's sys.prefix. Useful in\n",
    "                        conda/virtual environments.\n",
    "  --prefix PREFIX       Specify a prefix to install to, e.g. an env. The\n",
    "                        kernelspec will be installed in\n",
    "                        PREFIX/share/jupyter/kernels/\n",
    "  --replace             Replace any existing kernel spec with this name.\n",
    "  --classpath ENV       A file path separator delimited list of classpath\n",
    "                        entries that should be available to the user code.\n",
    "                        **Important:** no matter what OS, this should use\n",
    "                        forward slash \"/\" as the file separator. Also each\n",
    "                        path may actually be a simple glob.\n",
    "  --comp-opts ENV       A space delimited list of command line options that\n",
    "                        would be passed to the `javac` command when compiling\n",
    "                        a project. For example `-parameters` to enable\n",
    "                        retaining parameter names for reflection.\n",
    "  --startup-scripts-path ENV\n",
    "                        A file path seperator delimited list of `.jshell`\n",
    "                        scripts to run on startup. This includes ijava-jshell-\n",
    "                        init.jshell and ijava-display-init.jshell.\n",
    "                        **Important:** no matter what OS, this should use\n",
    "                        forward slash \"/\" as the file separator. Also each\n",
    "                        path may actually be a simple glob.\n",
    "  --startup-script ENV  A block of java code to run when the kernel starts up.\n",
    "                        This may be something like `import my.utils;` to setup\n",
    "                        some default imports or even `void sleep(long time) {\n",
    "                        try {Thread.sleep(time); } catch (InterruptedException\n",
    "                        e) { throw new RuntimeException(e); }}` to declare a\n",
    "                        default utility method to use in the notebook.\n",
    "  --timeout ENV         A duration specifying a timeout (in milliseconds by\n",
    "                        default) for a _single top level statement_. If less\n",
    "                        than `1` then there is no timeout. If desired a time\n",
    "                        may be specified with a `TimeUnit` may be given\n",
    "                        following the duration number (ex `\"30 SECONDS\"`).\n",
    "```\n",
    "See above."
   ]
  },
  {
   "cell_type": "markdown",
   "metadata": {},
   "source": [
    "##### Java 8 Generic types"
   ]
  },
  {
   "cell_type": "code",
   "execution_count": 1,
   "metadata": {},
   "outputs": [],
   "source": [
    "public class GenericHandler<X> {\n",
    "\n",
    "  private X storage;\n",
    "\n",
    "  public void put(X object) {\n",
    "    this.storage = object;\n",
    "  }\n",
    "\n",
    "  public X get() {\n",
    "    return this.storage;\n",
    "  }\n",
    "\n",
    "  public static <T> GenericHandler<T> of(T... obj) {\n",
    "    GenericHandler gh = new GenericHandler<T>();\n",
    "    for (T o : obj) {\n",
    "      gh.put(o);\n",
    "    }\n",
    "    return gh;\n",
    "  }\n",
    "}\n"
   ]
  },
  {
   "cell_type": "code",
   "execution_count": 2,
   "metadata": {},
   "outputs": [],
   "source": [
    "import java.util.HashMap;\n",
    "import java.util.Map;\n"
   ]
  },
  {
   "cell_type": "code",
   "execution_count": 3,
   "metadata": {},
   "outputs": [
    {
     "name": "stdout",
     "output_type": "stream",
     "text": [
      "First handler:That's a string\n",
      "Second handler:{ONE=one, TWO=two}\n"
     ]
    }
   ],
   "source": [
    "GenericHandler<String> strHandler = GenericHandler.of(\"That's a string\");\n",
    "\n",
    "Map<String, String> map = new HashMap<>();\n",
    "map.put(\"ONE\", \"one\");\n",
    "map.put(\"TWO\", \"two\");\n",
    "GenericHandler mapHandler = GenericHandler.of(map);\n",
    "\n",
    "System.out.println(\"First handler:\" + strHandler.get());\n",
    "System.out.println(\"Second handler:\" + mapHandler.get());\n",
    "        "
   ]
  },
  {
   "cell_type": "code",
   "execution_count": 4,
   "metadata": {
    "scrolled": true
   },
   "outputs": [
    {
     "name": "stdout",
     "output_type": "stream",
     "text": [
      "-- listing properties --\n",
      "gopherProxySet=false\n",
      "awt.toolkit=sun.lwawt.macosx.LWCToolkit\n",
      "java.specification.version=9\n",
      "file.encoding.pkg=sun.io\n",
      "sun.cpu.isalist=\n",
      "sun.jnu.encoding=UTF-8\n",
      "java.class.path=/Users/olediour/Library/Jupyter/kerne...\n",
      "java.vm.vendor=Oracle Corporation\n",
      "sun.arch.data.model=64\n",
      "java.vendor.url=http://java.oracle.com/\n",
      "user.timezone=America/Los_Angeles\n",
      "os.name=Mac OS X\n",
      "java.vm.specification.version=9\n",
      "sun.java.launcher=SUN_STANDARD\n",
      "user.country=US\n",
      "sun.boot.library.path=/Library/Java/JavaVirtualMachines/jdk...\n",
      "sun.java.command=/Users/olediour/Library/Jupyter/kerne...\n",
      "http.nonProxyHosts=local|*.local|169.254/16|*.169.254/16\n",
      "jdk.debug=release\n",
      "sun.cpu.endian=little\n",
      "user.home=/Users/olediour\n",
      "user.language=en\n",
      "java.specification.vendor=Oracle Corporation\n",
      "java.home=/Library/Java/JavaVirtualMachines/jdk...\n",
      "file.separator=/\n",
      "java.vm.compressedOopsMode=Zero based\n",
      "line.separator=\n",
      "\n",
      "java.specification.name=Java Platform API Specification\n",
      "java.vm.specification.vendor=Oracle Corporation\n",
      "java.awt.graphicsenv=sun.awt.CGraphicsEnvironment\n",
      "sun.management.compiler=HotSpot 64-Bit Tiered Compilers\n",
      "ftp.nonProxyHosts=local|*.local|169.254/16|*.169.254/16\n",
      "java.runtime.version=9.0.1+11\n",
      "user.name=olediour\n",
      "path.separator=:\n",
      "os.version=10.13.6\n",
      "java.runtime.name=Java(TM) SE Runtime Environment\n",
      "file.encoding=UTF-8\n",
      "java.vm.name=Java HotSpot(TM) 64-Bit Server VM\n",
      "java.vendor.url.bug=http://bugreport.java.com/bugreport/\n",
      "java.io.tmpdir=/var/folders/x4/l4ndqsqs0xb2gfdj99fl9...\n",
      "java.version=9.0.1\n",
      "user.dir=/Users/olediour/repos/raspberry-pi4j-...\n",
      "os.arch=x86_64\n",
      "java.vm.specification.name=Java Virtual Machine Specification\n",
      "java.awt.printerjob=sun.lwawt.macosx.CPrinterJob\n",
      "sun.os.patch.level=unknown\n",
      "java.library.path=/Users/olediour/Library/Java/Extensio...\n",
      "java.vm.info=mixed mode\n",
      "java.vendor=Oracle Corporation\n",
      "java.vm.version=9.0.1+11\n",
      "sun.io.unicode.encoding=UnicodeBig\n",
      "java.class.version=53.0\n",
      "socksNonProxyHosts=local|*.local|169.254/16|*.169.254/16\n"
     ]
    }
   ],
   "source": [
    "Properties properties = System.getProperties();\n",
    "properties.list(System.out);"
   ]
  },
  {
   "cell_type": "markdown",
   "metadata": {},
   "source": [
    "### Example: How to add resources in your classpath"
   ]
  },
  {
   "cell_type": "code",
   "execution_count": 5,
   "metadata": {},
   "outputs": [],
   "source": [
    "List<String> added = %jars ../common-utils/build/libs/common-utils-1.0.jar"
   ]
  },
  {
   "cell_type": "code",
   "execution_count": 6,
   "metadata": {},
   "outputs": [
    {
     "name": "stdout",
     "output_type": "stream",
     "text": [
      "Sun EoT in hours: 20.212288\n"
     ]
    }
   ],
   "source": [
    "import calc.calculation.AstroComputer;\n",
    "\n",
    "Calendar date = Calendar.getInstance(TimeZone.getTimeZone(\"Etc/UTC\")); // Now\n",
    "AstroComputer.calculate(\n",
    "  date.get(Calendar.YEAR),\n",
    "  date.get(Calendar.MONTH) + 1,\n",
    "  date.get(Calendar.DAY_OF_MONTH),\n",
    "  date.get(Calendar.HOUR_OF_DAY), // and not just HOUR !!!!\n",
    "  date.get(Calendar.MINUTE),\n",
    "  date.get(Calendar.SECOND));\n",
    "\n",
    "  // SF Home\n",
    "  double lat = 37.7489;\n",
    "  double lng = -122.5070;\n",
    "\n",
    "  double sunMeridianPassageTime = AstroComputer.getSunMeridianPassageTime(lat, lng);\n",
    "  System.out.println(String.format(\"Sun EoT in hours: %f\", sunMeridianPassageTime));\n",
    "        "
   ]
  },
  {
   "cell_type": "markdown",
   "metadata": {},
   "source": [
    "> Note: to set a proxy, start the server:\n",
    "\n",
    "```\n",
    " $ http_proxy=http://www-proxy.us.oracle.com:80 https_proxy=http://www-proxy.us.oracle.com:80 jupyter notebook\n",
    "```\n",
    "(To verify)"
   ]
  },
  {
   "cell_type": "code",
   "execution_count": 1,
   "metadata": {},
   "outputs": [],
   "source": [
    "%maven org.knowm.xchart:xchart:3.5.2\n",
    "import org.knowm.xchart.*;"
   ]
  },
  {
   "cell_type": "code",
   "execution_count": 3,
   "metadata": {},
   "outputs": [
    {
     "data": {
      "image/png": "[encoded data removed]",
      "text/plain": [
       "BufferedImage@5a250a92: type = 1 DirectColorModel: rmask=ff0000 gmask=ff00 bmask=ff amask=0 IntegerInterleavedRaster: width = 600 height = 400 #Bands = 3 xOff = 0 yOff = 0 dataOffset[0] 0"
      ]
     },
     "execution_count": 3,
     "metadata": {},
     "output_type": "execute_result"
    }
   ],
   "source": [
    "double[] xData = new double[] { 0.0, 1.0, 2.0, 3.0 };\n",
    "double[] yData = new double[] { 2.0, 1.3, 0.1, 2.5 };\n",
    "\n",
    "XYChart chart = QuickChart.getChart(\"Sample Chart\", \"X\", \"Y\", \"y(x)\", xData, yData);\n",
    "// Render the chart\n",
    "BitmapEncoder.getBufferedImage(chart);"
   ]
  }
 ],
 "metadata": {
  "kernelspec": {
   "display_name": "Java",
   "language": "java",
   "name": "java"
  },
  "language_info": {
   "codemirror_mode": "java",
   "file_extension": ".java",
   "mimetype": "text/x-java-source",
   "name": "Java",
   "pygments_lexer": "java",
   "version": "9.0.1+11"
  }
 },
 "nbformat": 4,
 "nbformat_minor": 2
}
