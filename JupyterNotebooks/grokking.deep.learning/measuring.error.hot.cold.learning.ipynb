{
 "cells": [
  {
   "cell_type": "markdown",
   "metadata": {},
   "source": [
    "### Measuring Error"
   ]
  },
  {
   "cell_type": "code",
   "execution_count": 29,
   "metadata": {},
   "outputs": [
    {
     "name": "stdout",
     "output_type": "stream",
     "text": [
      "Error: 0.30250000000000005\n"
     ]
    }
   ],
   "source": [
    "knob_weight = 0.5\n",
    "input = 0.5\n",
    "goal_prediction = 0.8\n",
    "\n",
    "pred = input * knob_weight\n",
    "error = (pred - goal_prediction) ** 2\n",
    "print(\"Error: {}\".format(error))"
   ]
  },
  {
   "cell_type": "markdown",
   "metadata": {},
   "source": [
    "### Iterating. Hot & Cold learning"
   ]
  },
  {
   "cell_type": "code",
   "execution_count": 30,
   "metadata": {},
   "outputs": [],
   "source": [
    "knob_weight = 0.5\n",
    "input = 0.5\n",
    "goal_prediction = 0.8"
   ]
  },
  {
   "cell_type": "code",
   "execution_count": 31,
   "metadata": {},
   "outputs": [],
   "source": [
    "step_amount = 0.001"
   ]
  },
  {
   "cell_type": "code",
   "execution_count": 32,
   "metadata": {},
   "outputs": [
    {
     "name": "stdout",
     "output_type": "stream",
     "text": [
      "Iteration #0, weight:0.5, Error: 0.30250000000000005, Prediction: 0.25\n",
      "Iteration #1, weight:0.501, Error: 0.3019502500000001, Prediction: 0.2505\n",
      "Iteration #2, weight:0.502, Error: 0.30140100000000003, Prediction: 0.251\n",
      "Iteration #3, weight:0.503, Error: 0.30085225, Prediction: 0.2515\n",
      "Iteration #4, weight:0.504, Error: 0.30030400000000007, Prediction: 0.252\n",
      "Iteration #5, weight:0.505, Error: 0.2997562500000001, Prediction: 0.2525\n",
      "Iteration #6, weight:0.506, Error: 0.29920900000000006, Prediction: 0.253\n",
      "Iteration #7, weight:0.507, Error: 0.29866224999999996, Prediction: 0.2535\n",
      "Iteration #8, weight:0.508, Error: 0.29811600000000005, Prediction: 0.254\n",
      "Iteration #9, weight:0.509, Error: 0.2975702500000001, Prediction: 0.2545\n",
      ". . .\n",
      "Iteration #1091, weight:1.5909999999999354, Error: 2.0250000000291302e-05, Prediction: 0.7954999999999677\n",
      "Iteration #1092, weight:1.5919999999999352, Error: 1.6000000000259378e-05, Prediction: 0.7959999999999676\n",
      "Iteration #1093, weight:1.5929999999999351, Error: 1.225000000022734e-05, Prediction: 0.7964999999999676\n",
      "Iteration #1094, weight:1.593999999999935, Error: 9.000000000195194e-06, Prediction: 0.7969999999999675\n",
      "Iteration #1095, weight:1.594999999999935, Error: 6.250000000162936e-06, Prediction: 0.7974999999999675\n",
      "Iteration #1096, weight:1.5959999999999348, Error: 4.000000000130569e-06, Prediction: 0.7979999999999674\n",
      "Iteration #1097, weight:1.5969999999999347, Error: 2.2500000000980924e-06, Prediction: 0.7984999999999673\n",
      "Iteration #1098, weight:1.5979999999999346, Error: 1.000000000065505e-06, Prediction: 0.7989999999999673\n",
      "Iteration #1099, weight:1.5989999999999345, Error: 2.5000000003280753e-07, Prediction: 0.7994999999999672\n",
      "Iteration #1100, weight:1.5999999999999344, Error: 1.0799505792475652e-27, Prediction: 0.7999999999999672\n"
     ]
    }
   ],
   "source": [
    "for iteration in range(1101):\n",
    "    prediction = input * knob_weight\n",
    "    error = (prediction - goal_prediction) ** 2   # MSE (Mean Squarred)\n",
    "    \n",
    "    if iteration < 10 or iteration > 1090:\n",
    "        print(\"Iteration #{}, weight:{}, Error: {}, Prediction: {}\".format(iteration, knob_weight, error, prediction))\n",
    "    \n",
    "    if iteration == 10:\n",
    "        print(\". . .\")\n",
    "    \n",
    "    up_prediction = input * (knob_weight + step_amount)   # Try up\n",
    "    up_error = (goal_prediction - up_prediction) ** 2  # MSE up\n",
    "    \n",
    "    down_prediction = input * (knob_weight - step_amount) # Try down\n",
    "    down_error = (goal_prediction - down_prediction) ** 2  # MSE down\n",
    "    \n",
    "    if (down_error < up_error):\n",
    "        knob_weight -= step_amount # Better going down\n",
    "        \n",
    "    if (down_error > up_error):\n",
    "        knob_weight += step_amount # Better going up"
   ]
  },
  {
   "cell_type": "code",
   "execution_count": null,
   "metadata": {},
   "outputs": [],
   "source": []
  }
 ],
 "metadata": {
  "kernelspec": {
   "display_name": "Python 3",
   "language": "python",
   "name": "python3"
  },
  "language_info": {
   "codemirror_mode": {
    "name": "ipython",
    "version": 3
   },
   "file_extension": ".py",
   "mimetype": "text/x-python",
   "name": "python",
   "nbconvert_exporter": "python",
   "pygments_lexer": "ipython3",
   "version": "3.7.0"
  }
 },
 "nbformat": 4,
 "nbformat_minor": 2
}
