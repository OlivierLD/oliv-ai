{
 "cells": [
  {
   "cell_type": "code",
   "execution_count": 8,
   "metadata": {},
   "outputs": [
    {
     "name": "stdout",
     "output_type": "stream",
     "text": [
      "---- Input = 0.5 -----\n",
      "Error: 0.30250000000000005, Prediction: 0.25\n",
      "Error: 0.17015625000000004, Prediction: 0.3875\n",
      "Error: 0.095712890625, Prediction: 0.49062500000000003\n",
      "Error: 0.05383850097656251, Prediction: 0.56796875\n",
      "Error: 0.03028415679931642, Prediction: 0.6259765625\n",
      "Error: 0.0170348381996155, Prediction: 0.669482421875\n",
      "Error: 0.00958209648728372, Prediction: 0.70211181640625\n",
      "Error: 0.005389929274097089, Prediction: 0.7265838623046875\n",
      "Error: 0.0030318352166796153, Prediction: 0.7449378967285156\n",
      "Error: 0.0017054073093822882, Prediction: 0.7587034225463867\n",
      "Error: 0.0009592916115275371, Prediction: 0.76902756690979\n",
      "Error: 0.0005396015314842384, Prediction: 0.7767706751823426\n",
      "Error: 0.000303525861459885, Prediction: 0.7825780063867569\n",
      "Error: 0.00017073329707118678, Prediction: 0.7869335047900676\n",
      "Error: 9.603747960254256e-05, Prediction: 0.7902001285925507\n",
      "Error: 5.402108227642978e-05, Prediction: 0.7926500964444131\n",
      "Error: 3.038685878049206e-05, Prediction: 0.7944875723333098\n",
      "Error: 1.7092608064027242e-05, Prediction: 0.7958656792499823\n",
      "Error: 9.614592036015323e-06, Prediction: 0.7968992594374867\n",
      "Error: 5.408208020258491e-06, Prediction: 0.7976744445781151\n"
     ]
    }
   ],
   "source": [
    "goal_pred = 0.8\n",
    "weight = 0.5\n",
    "input = 0.5\n",
    "\n",
    "print(\"---- Input = {} -----\".format(input))\n",
    "for iteration in range(20):\n",
    "    pred = input * weight\n",
    "    error = (pred - goal_pred) ** 2\n",
    "    delta = pred - goal_pred\n",
    "    weight_delta = input * delta\n",
    "    weight -= weight_delta\n",
    "    print(\"Error: {}, Prediction: {}\".format(error, pred))\n"
   ]
  },
  {
   "cell_type": "markdown",
   "metadata": {},
   "source": [
    "Good!"
   ]
  },
  {
   "cell_type": "code",
   "execution_count": 9,
   "metadata": {},
   "outputs": [
    {
     "name": "stdout",
     "output_type": "stream",
     "text": [
      "---- Input = 2 -----\n",
      "Error: 0.03999999999999998, Prediction: 1.0\n",
      "Error: 0.3599999999999998, Prediction: 0.20000000000000018\n",
      "Error: 3.2399999999999984, Prediction: 2.5999999999999996\n",
      "Error: 29.159999999999986, Prediction: -4.599999999999999\n",
      "Error: 262.4399999999999, Prediction: 16.999999999999996\n",
      "Error: 2361.959999999998, Prediction: -47.79999999999998\n",
      "Error: 21257.639999999978, Prediction: 146.59999999999994\n",
      "Error: 191318.75999999983, Prediction: -436.5999999999998\n",
      "Error: 1721868.839999999, Prediction: 1312.9999999999995\n",
      "Error: 15496819.559999991, Prediction: -3935.799999999999\n",
      "Error: 139471376.03999993, Prediction: 11810.599999999997\n",
      "Error: 1255242384.3599997, Prediction: -35428.59999999999\n",
      "Error: 11297181459.239996, Prediction: 106288.99999999999\n",
      "Error: 101674633133.15994, Prediction: -318863.79999999993\n",
      "Error: 915071698198.4395, Prediction: 956594.5999999997\n",
      "Error: 8235645283785.954, Prediction: -2869780.599999999\n",
      "Error: 74120807554073.56, Prediction: 8609344.999999996\n",
      "Error: 667087267986662.1, Prediction: -25828031.799999986\n",
      "Error: 6003785411879960.0, Prediction: 77484098.59999996\n",
      "Error: 5.403406870691965e+16, Prediction: -232452292.5999999\n"
     ]
    }
   ],
   "source": [
    "input = 2\n",
    "weight = 0.5\n",
    "print(\"---- Input = {} -----\".format(input))\n",
    "for iteration in range(20):\n",
    "    pred = input * weight\n",
    "    error = (pred - goal_pred) ** 2\n",
    "    delta = pred - goal_pred\n",
    "    weight_delta = input * delta\n",
    "    weight -= weight_delta\n",
    "    print(\"Error: {}, Prediction: {}\".format(error, pred))\n"
   ]
  },
  {
   "cell_type": "markdown",
   "metadata": {},
   "source": [
    "Wow! This is *not* good..."
   ]
  },
  {
   "cell_type": "markdown",
   "metadata": {},
   "source": [
    "### Introducing `alpha`"
   ]
  },
  {
   "cell_type": "code",
   "execution_count": 10,
   "metadata": {},
   "outputs": [
    {
     "name": "stdout",
     "output_type": "stream",
     "text": [
      "---- Input = 2 -----\n",
      "Error: 0.03999999999999998, Prediction: 1.0\n",
      "Error: 0.0144, Prediction: 0.92\n",
      "Error: 0.005183999999999993, Prediction: 0.872\n",
      "Error: 0.0018662400000000014, Prediction: 0.8432000000000001\n",
      "Error: 0.0006718464000000028, Prediction: 0.8259200000000001\n",
      "Error: 0.00024186470400000033, Prediction: 0.815552\n",
      "Error: 8.70712934399997e-05, Prediction: 0.8093312\n",
      "Error: 3.134566563839939e-05, Prediction: 0.80559872\n",
      "Error: 1.1284439629823931e-05, Prediction: 0.803359232\n",
      "Error: 4.062398266736526e-06, Prediction: 0.8020155392\n",
      "Error: 1.4624633760252567e-06, Prediction: 0.8012093235200001\n",
      "Error: 5.264868153690924e-07, Prediction: 0.8007255941120001\n",
      "Error: 1.8953525353291194e-07, Prediction: 0.8004353564672001\n",
      "Error: 6.82326912718715e-08, Prediction: 0.8002612138803201\n",
      "Error: 2.456376885786678e-08, Prediction: 0.8001567283281921\n",
      "Error: 8.842956788836216e-09, Prediction: 0.8000940369969153\n",
      "Error: 3.1834644439835434e-09, Prediction: 0.8000564221981492\n",
      "Error: 1.1460471998340758e-09, Prediction: 0.8000338533188895\n",
      "Error: 4.125769919393652e-10, Prediction: 0.8000203119913337\n",
      "Error: 1.485277170987127e-10, Prediction: 0.8000121871948003\n"
     ]
    }
   ],
   "source": [
    "input = 2\n",
    "weight = 0.5\n",
    "alpha = 0.1\n",
    "print(\"---- Input = {} -----\".format(input))\n",
    "for iteration in range(20):\n",
    "    pred = input * weight\n",
    "    error = (pred - goal_pred) ** 2\n",
    "    derivative = input * (pred - goal_pred)\n",
    "    weight -= (alpha * derivative)\n",
    "    print(\"Error: {}, Prediction: {}\".format(error, pred))"
   ]
  },
  {
   "cell_type": "code",
   "execution_count": null,
   "metadata": {},
   "outputs": [],
   "source": []
  }
 ],
 "metadata": {
  "kernelspec": {
   "display_name": "Python 3",
   "language": "python",
   "name": "python3"
  },
  "language_info": {
   "codemirror_mode": {
    "name": "ipython",
    "version": 3
   },
   "file_extension": ".py",
   "mimetype": "text/x-python",
   "name": "python",
   "nbconvert_exporter": "python",
   "pygments_lexer": "ipython3",
   "version": "3.7.0"
  }
 },
 "nbformat": 4,
 "nbformat_minor": 2
}
