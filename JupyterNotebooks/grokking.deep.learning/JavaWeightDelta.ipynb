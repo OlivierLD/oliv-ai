{
 "cells": [
  {
   "cell_type": "markdown",
   "metadata": {},
   "source": [
    "### Weight Delta, in Java"
   ]
  },
  {
   "cell_type": "code",
   "execution_count": 16,
   "metadata": {},
   "outputs": [],
   "source": [
    "double weight = 0.5;\n",
    "double goalPred = 0.8;\n",
    "double input = 0.5;"
   ]
  },
  {
   "cell_type": "code",
   "execution_count": 17,
   "metadata": {},
   "outputs": [],
   "source": [
    "double previousError = Double.MAX_VALUE;"
   ]
  },
  {
   "cell_type": "code",
   "execution_count": 18,
   "metadata": {},
   "outputs": [
    {
     "name": "stdout",
     "output_type": "stream",
     "text": [
      "Iteration #0 \t=> Error: 0.30250000000000005, \tPrediction: 0.25\n",
      "Iteration #1 \t=> Error: 0.17015625000000004, \tPrediction: 0.3875\n",
      "Iteration #2 \t=> Error: 0.095712890625, \tPrediction: 0.49062500000000003\n",
      "Iteration #3 \t=> Error: 0.05383850097656251, \tPrediction: 0.56796875\n",
      "Iteration #4 \t=> Error: 0.03028415679931642, \tPrediction: 0.6259765625\n",
      "Iteration #5 \t=> Error: 0.0170348381996155, \tPrediction: 0.669482421875\n",
      "Iteration #6 \t=> Error: 0.00958209648728372, \tPrediction: 0.70211181640625\n",
      "Iteration #7 \t=> Error: 0.005389929274097089, \tPrediction: 0.7265838623046875\n",
      "Iteration #8 \t=> Error: 0.0030318352166796153, \tPrediction: 0.7449378967285156\n",
      "Iteration #9 \t=> Error: 0.0017054073093822882, \tPrediction: 0.7587034225463867\n",
      "Iteration #10 \t=> Error: 9.592916115275371E-4, \tPrediction: 0.76902756690979\n",
      "Iteration #11 \t=> Error: 5.396015314842384E-4, \tPrediction: 0.7767706751823426\n",
      "Iteration #12 \t=> Error: 3.03525861459885E-4, \tPrediction: 0.7825780063867569\n",
      "Iteration #13 \t=> Error: 1.7073329707118678E-4, \tPrediction: 0.7869335047900676\n",
      "Iteration #14 \t=> Error: 9.603747960254256E-5, \tPrediction: 0.7902001285925507\n",
      "Iteration #15 \t=> Error: 5.402108227642978E-5, \tPrediction: 0.7926500964444131\n",
      "Iteration #16 \t=> Error: 3.038685878049206E-5, \tPrediction: 0.7944875723333098\n",
      "Iteration #17 \t=> Error: 1.7092608064027242E-5, \tPrediction: 0.7958656792499823\n",
      "Iteration #18 \t=> Error: 9.614592036015323E-6, \tPrediction: 0.7968992594374867\n",
      "Iteration #19 \t=> Error: 5.408208020258491E-6, \tPrediction: 0.7976744445781151\n",
      "Iteration #20 \t=> Error: 3.0421170113954975E-6, \tPrediction: 0.7982558334335863\n",
      "Iteration #21 \t=> Error: 1.7111908189101127E-6, \tPrediction: 0.7986918750751897\n",
      "Iteration #22 \t=> Error: 9.625448356369383E-7, \tPrediction: 0.7990189063063923\n",
      "Iteration #23 \t=> Error: 5.41431470045737E-7, \tPrediction: 0.7992641797297942\n",
      "Iteration #24 \t=> Error: 3.045552019007577E-7, \tPrediction: 0.7994481347973457\n",
      "Iteration #25 \t=> Error: 1.7131230106922215E-7, \tPrediction: 0.7995861010980092\n",
      "Iteration #26 \t=> Error: 9.636316935140299E-8, \tPrediction: 0.799689575823507\n",
      "Iteration #27 \t=> Error: 5.420428276019003E-8, \tPrediction: 0.7997671818676302\n",
      "Iteration #28 \t=> Error: 3.048990905260689E-8, \tPrediction: 0.7998253864007226\n",
      "Iteration #29 \t=> Error: 1.715057384208411E-8, \tPrediction: 0.799869039800542\n",
      "Iteration #30 \t=> Error: 9.647197786166859E-9, \tPrediction: 0.7999017798504066\n",
      "Iteration #31 \t=> Error: 5.426548754714769E-9, \tPrediction: 0.799926334887805\n",
      "Iteration #32 \t=> Error: 3.0524336745270573E-9, \tPrediction: 0.7999447511658537\n",
      "Iteration #33 \t=> Error: 1.71699394192147E-9, \tPrediction: 0.7999585633743903\n",
      "Iteration #34 \t=> Error: 9.658090923291016E-10, \tPrediction: 0.7999689225307928\n",
      "Iteration #35 \t=> Error: 5.432676144338258E-10, \tPrediction: 0.7999766918980946\n",
      "Iteration #36 \t=> Error: 3.05588033119027E-10, \tPrediction: 0.799982518923571\n",
      "Iteration #37 \t=> Error: 1.718932686294527E-10, \tPrediction: 0.7999868891926782\n",
      "Iteration #38 \t=> Error: 9.668996360515884E-11, \tPrediction: 0.7999901668945086\n",
      "Iteration #39 \t=> Error: 5.4388104527083076E-11, \tPrediction: 0.7999926251708815\n"
     ]
    }
   ],
   "source": [
    "for (int i=0; i<40; i++) {\n",
    "  double pred = input * weight;\n",
    "  double error = Math.pow((pred - goalPred), 2);\n",
    "  double directionAndAmount = (pred - goalPred) * input;\n",
    "  weight -= directionAndAmount;\n",
    "  System.out.println(String.format(\"Iteration #%d \\t=> Error: %s, \\tPrediction: %s\", i, error, pred));\n",
    "  if (error < previousError) {\n",
    "    previousError = error;\n",
    "  } else {\n",
    "    break;\n",
    "  }\n",
    "}"
   ]
  },
  {
   "cell_type": "code",
   "execution_count": null,
   "metadata": {},
   "outputs": [],
   "source": []
  }
 ],
 "metadata": {
  "kernelspec": {
   "display_name": "Java",
   "language": "java",
   "name": "java"
  },
  "language_info": {
   "codemirror_mode": "java",
   "file_extension": ".java",
   "mimetype": "text/x-java-source",
   "name": "Java",
   "pygments_lexer": "java",
   "version": "9.0.1+11"
  }
 },
 "nbformat": 4,
 "nbformat_minor": 2
}
