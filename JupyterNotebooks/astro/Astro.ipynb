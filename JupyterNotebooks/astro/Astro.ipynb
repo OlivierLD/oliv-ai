{
 "cells": [
  {
   "cell_type": "markdown",
   "metadata": {},
   "source": [
    "# Astro Computer\n",
    "### How to use it\n",
    "Examples illustrating the way to use it.\n",
    "\n",
    "Make sure you have built the `common-utils` project."
   ]
  },
  {
   "cell_type": "code",
   "execution_count": 1,
   "metadata": {},
   "outputs": [],
   "source": [
    "List<String> added = %jars ../../common-utils/build/libs/common-utils-1.0.jar"
   ]
  },
  {
   "cell_type": "markdown",
   "metadata": {},
   "source": [
    "Initialize the `AstroComputer` with a UTC Time.\n",
    "\n",
    "The `DeltaT` parameter can be provided s a System variable named `deltaT`.\n",
    "\n",
    "> Note: This can be set at runtime, from the command line, using `-DdeltaT=12.3456`"
   ]
  },
  {
   "cell_type": "code",
   "execution_count": 4,
   "metadata": {},
   "outputs": [
    {
     "name": "stdout",
     "output_type": "stream",
     "text": [
      "DeltaT:66.474900\n"
     ]
    }
   ],
   "source": [
    "import calc.calculation.AstroComputer;\n",
    "\n",
    "double deltaT = AstroComputer.getDeltaT();\n",
    "System.out.println(String.format(\"Default DeltaT is %f\", deltaT));"
   ]
  },
  {
   "cell_type": "markdown",
   "metadata": {},
   "source": [
    "For DeltaT, see [here](http://maia.usno.navy.mil/ser7/deltat.data)."
   ]
  },
  {
   "cell_type": "code",
   "execution_count": 6,
   "metadata": {},
   "outputs": [],
   "source": [
    "System.setProperty(\"deltaT\", String.valueOf(69.2201)); //  01-Jan-2019\n",
    "\n",
    "Calendar date = Calendar.getInstance(TimeZone.getTimeZone(\"Etc/UTC\")); // Now\n",
    "AstroComputer.calculate(\n",
    "  date.get(Calendar.YEAR),\n",
    "  date.get(Calendar.MONTH) + 1,   // Yes, based on 1, in [1..12], not [0..11]\n",
    "  date.get(Calendar.DAY_OF_MONTH),\n",
    "  date.get(Calendar.HOUR_OF_DAY), // and not just HOUR !!!!\n",
    "  date.get(Calendar.MINUTE),\n",
    "  date.get(Calendar.SECOND));\n",
    "\n",
    "// SF Home, for further use\n",
    "double lat =   37.7489;\n",
    "double lng = -122.5070;"
   ]
  },
  {
   "cell_type": "markdown",
   "metadata": {},
   "source": [
    "Get the Sun Meridian Passage time, in **_decimal hours_**."
   ]
  },
  {
   "cell_type": "code",
   "execution_count": 7,
   "metadata": {},
   "outputs": [
    {
     "name": "stdout",
     "output_type": "stream",
     "text": [
      "Sun EoT in hours: 20.197108\n"
     ]
    }
   ],
   "source": [
    "double sunMeridianPassageTime = AstroComputer.getSunMeridianPassageTime(lat, lng);\n",
    "System.out.println(String.format(\"Sun EoT in hours: %f\", sunMeridianPassageTime));"
   ]
  },
  {
   "cell_type": "markdown",
   "metadata": {},
   "source": [
    "Get the Sun Transit Time (aka meridian passage time...) as an `epoch`."
   ]
  },
  {
   "cell_type": "code",
   "execution_count": 8,
   "metadata": {},
   "outputs": [
    {
     "name": "stdout",
     "output_type": "stream",
     "text": [
      "Transit Time:Tue Apr 09 13:11:49 PDT 2019\n"
     ]
    }
   ],
   "source": [
    "long sunTransit = AstroComputer.getSunTransitTime(lat, lng);\n",
    "Date tt = new Date(sunTransit);\n",
    "System.out.println(\"Transit Time:\" + tt.toString());"
   ]
  },
  {
   "cell_type": "markdown",
   "metadata": {},
   "source": [
    "Sun Rise and Set, with time in decimal hours, and azimuth (deprecated):"
   ]
  },
  {
   "cell_type": "code",
   "execution_count": 9,
   "metadata": {},
   "outputs": [
    {
     "name": "stdout",
     "output_type": "stream",
     "text": [
      "Time Rise: 13.794364, Time Set: 26.599852, ZRise: 79.964288º, ZSet: 280.035712º\n"
     ]
    }
   ],
   "source": [
    "double[] riseAndSet = AstroComputer.sunRiseAndSet(lat, lng); // Deprecated\n",
    "System.out.println(String.format(\"Time Rise: %f, Time Set: %f, ZRise: %f\\272, ZSet: %f\\272\", riseAndSet[0], riseAndSet[1], riseAndSet[2], riseAndSet[3]));"
   ]
  },
  {
   "cell_type": "markdown",
   "metadata": {},
   "source": [
    "Sun rise and set, as `epoch` (the one to use):"
   ]
  },
  {
   "cell_type": "code",
   "execution_count": 11,
   "metadata": {},
   "outputs": [
    {
     "name": "stdout",
     "output_type": "stream",
     "text": [
      "\n",
      "With epochs\n",
      "Rise Date: Tue Apr 09 06:47:58 PDT 2019 (Z:80.37º)\n",
      "Set Date : Tue Apr 09 19:35:54 PDT 2019 (Z:279.88º)\n"
     ]
    }
   ],
   "source": [
    "AstroComputer.EpochAndZ[] epochAndZs = AstroComputer.sunRiseAndSetEpoch(lat, lng);\n",
    "\n",
    "System.out.println(\"\\nWith epochs\");\n",
    "System.out.println(String.format(\"Rise Date: %s (Z:%.02f\\272)\\nSet Date : %s (Z:%.02f\\272)\",\n",
    "  new Date(epochAndZs[0].getEpoch()).toString(),\n",
    "  epochAndZs[0].getZ(),\n",
    "  new Date(epochAndZs[1].getEpoch()).toString(),\n",
    "  epochAndZs[1].getZ()));"
   ]
  },
  {
   "cell_type": "code",
   "execution_count": null,
   "metadata": {},
   "outputs": [],
   "source": []
  }
 ],
 "metadata": {
  "kernelspec": {
   "display_name": "Java",
   "language": "java",
   "name": "java"
  },
  "language_info": {
   "codemirror_mode": "java",
   "file_extension": ".java",
   "mimetype": "text/x-java-source",
   "name": "Java",
   "pygments_lexer": "java",
   "version": "9.0.1+11"
  }
 },
 "nbformat": 4,
 "nbformat_minor": 2
}
