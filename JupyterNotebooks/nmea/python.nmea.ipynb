{
 "cells": [
  {
   "cell_type": "markdown",
   "metadata": {},
   "source": [
    "# NMEA Parsing, in Python"
   ]
  },
  {
   "cell_type": "markdown",
   "metadata": {},
   "source": [
    "## Full Sample, RMC Parsing, from scratch. \n",
    "### Reading the serial port to displaying readable data"
   ]
  },
  {
   "cell_type": "markdown",
   "metadata": {},
   "source": [
    "#### Reading the Serial port\n",
    "Make sure you have `pyserial` installed\n",
    "```\n",
    "$ pip3 install pyserial\n",
    "```"
   ]
  },
  {
   "cell_type": "code",
   "execution_count": 1,
   "metadata": {},
   "outputs": [],
   "source": [
    "import serial"
   ]
  },
  {
   "cell_type": "markdown",
   "metadata": {},
   "source": [
    "> *Important*: Modify the port name below, so it matches what the Jupyter server can see."
   ]
  },
  {
   "cell_type": "code",
   "execution_count": 2,
   "metadata": {},
   "outputs": [],
   "source": [
    "port_name = \"/dev/tty.usbmodem14201\"\n",
    "# port_name = \"/dev/ttyS80\"\n",
    "baud_rate = 4800\n",
    "port = serial.Serial(port_name, baudrate=baud_rate, timeout=3.0)"
   ]
  },
  {
   "cell_type": "markdown",
   "metadata": {},
   "source": [
    "Let us try to read the serial port\n",
    "> Note: We limit the read to 200 characters"
   ]
  },
  {
   "cell_type": "code",
   "execution_count": 3,
   "metadata": {},
   "outputs": [
    {
     "name": "stdout",
     "output_type": "stream",
     "text": [
      "24 47 4e 52 4d 43 2c 30 30 32 34 30 32 2e 30 30 2c 41 2c 33 37 34 35 2e 31 32 39 32 31 2c 4e 2c 31 32 32 32 38 2e 36 31 39 34 35 2c 57 2c 30 2e 34 36 32 2c 2c 32 32 31 31 31 39 2c 2c 2c 41 2a 37 38 0d 0a 24 47 4e 56 54 47 2c 2c 54 2c 2c 4d 2c 30 2e 34 36 32 2c 4e 2c 30 2e 38 35 35 2c 4b 2c 41 2a 33 35 0d 0a 24 47 4e 47 47 41 2c 30 30 32 34 30 32 2e 30 30 2c 33 37 34 35 2e 31 32 39 32 31 2c 4e 2c 31 32 32 32 38 2e 36 31 39 34 35 2c 57 2c 31 2c 30 37 2c 31 2e 34 37 2c 31 33 39 2e 37 2c 4d 2c 2d 32 39 2e 38 2c 4d 2c 2c 2a 37 42 0d 0a 24 47 4e 47 53 41 2c 41 2c 33 2c 32 33 2c 31 36 2c 30 33 2c 32 36 \n",
      "\n",
      "\t\tDone reading, exiting.\n",
      "Bye.\n"
     ]
    }
   ],
   "source": [
    "nb_read = 0\n",
    "while True:\n",
    "    try:\n",
    "        ch = port.read()\n",
    "        print(\"{:02x} \".format(ord(ch)), end='', flush=True)\n",
    "        nb_read += 1\n",
    "        if nb_read > 200:\n",
    "            break\n",
    "    except KeyboardInterrupt as ki:\n",
    "        break\n",
    "    except Exception as ex:\n",
    "        print(\"Argh! {}\".format(ex))\n",
    "\n",
    "print(\"\\n\\n\\t\\tDone reading, exiting.\")\n",
    "port.close()\n",
    "\n",
    "print(\"Bye.\")"
   ]
  },
  {
   "cell_type": "markdown",
   "metadata": {},
   "source": [
    "We can see that data are being read from the Serial port. Now let us try to make some sense out of them.\n",
    "\n",
    "We know that NMEA Sentences begin with a `$` sign, and end with `\\r\\n` (Carriage Return, New Line).\n",
    "Let us try to extract the NMEA Sentences from the continuous serial flow.\n",
    "We will stop when 20 sentences are read."
   ]
  },
  {
   "cell_type": "code",
   "execution_count": 4,
   "metadata": {},
   "outputs": [
    {
     "name": "stdout",
     "output_type": "stream",
     "text": [
      "\n",
      "New sentence?\n",
      "24 47 4e 52 4d 43 2c 30 30 33 30 34 30 2e 30 30 2c 41 2c 33 37 34 35 2e 31 32 37 36 30 2c 4e 2c 31 32 32 32 38 2e 36 32 31 38 32 2c 57 2c 30 2e 37 34 39 2c 2c 32 32 31 31 31 39 2c 2c 2c 41 2a 37 41 0d 0a \n",
      "End of sentence $GNRMC,003040.00,A,3745.12760,N,12228.62182,W,0.749,,221119,,,A*7A\n",
      "\n",
      "\n",
      "New sentence?\n",
      "24 47 4e 56 54 47 2c 2c 54 2c 2c 4d 2c 30 2e 37 34 39 2c 4e 2c 31 2e 33 38 38 2c 4b 2c 41 2a 33 35 0d 0a \n",
      "End of sentence $GNVTG,,T,,M,0.749,N,1.388,K,A*35\n",
      "\n",
      "\n",
      "New sentence?\n",
      "24 47 4e 47 47 41 2c 30 30 33 30 34 30 2e 30 30 2c 33 37 34 35 2e 31 32 37 36 30 2c 4e 2c 31 32 32 32 38 2e 36 32 31 38 32 2c 57 2c 31 2c 30 38 2c 31 2e 30 39 2c 38 36 2e 33 2c 4d 2c 2d 32 39 2e 38 2c 4d 2c 2c 2a 34 37 0d 0a \n",
      "End of sentence $GNGGA,003040.00,3745.12760,N,12228.62182,W,1,08,1.09,86.3,M,-29.8,M,,*47\n",
      "\n",
      "\n",
      "New sentence?\n",
      "24 47 4e 47 53 41 2c 41 2c 33 2c 32 33 2c 30 39 2c 31 36 2c 30 33 2c 30 37 2c 32 36 2c 30 36 2c 2c 2c 2c 2c 2c 31 2e 38 30 2c 31 2e 30 39 2c 31 2e 34 33 2a 31 32 0d 0a \n",
      "End of sentence $GNGSA,A,3,23,09,16,03,07,26,06,,,,,,1.80,1.09,1.43*12\n",
      "\n",
      "\n",
      "New sentence?\n",
      "24 47 4e 47 53 41 2c 41 2c 33 2c 37 31 2c 2c 2c 2c 2c 2c 2c 2c 2c 2c 2c 2c 31 2e 38 30 2c 31 2e 30 39 2c 31 2e 34 33 2a 31 44 0d 0a \n",
      "End of sentence $GNGSA,A,3,71,,,,,,,,,,,,1.80,1.09,1.43*1D\n",
      "\n",
      "\n",
      "New sentence?\n",
      "24 47 50 47 53 56 2c 34 2c 31 2c 31 35 2c 30 32 2c 30 32 2c 33 31 31 2c 32 31 2c 30 33 2c 33 37 2c 31 37 36 2c 32 30 2c 30 34 2c 36 36 2c 33 33 35 2c 31 34 2c 30 36 2c 31 30 2c 32 37 33 2c 31 34 2a 37 44 0d 0a \n",
      "End of sentence $GPGSV,4,1,15,02,02,311,21,03,37,176,20,04,66,335,14,06,10,273,14*7D\n",
      "\n",
      "\n",
      "New sentence?\n",
      "24 47 50 47 53 56 2c 34 2c 32 2c 31 35 2c 30 37 2c 34 32 2c 32 36 31 2c 31 37 2c 30 38 2c 30 34 2c 31 34 30 2c 2c 30 39 2c 36 33 2c 33 32 37 2c 32 34 2c 31 36 2c 34 32 2c 30 36 30 2c 31 35 2a 37 46 0d 0a \n",
      "End of sentence $GPGSV,4,2,15,07,42,261,17,08,04,140,,09,63,327,24,16,42,060,15*7F\n",
      "\n",
      "\n",
      "New sentence?\n",
      "24 47 50 47 53 56 2c 34 2c 33 2c 31 35 2c 32 32 2c 31 38 2c 31 36 38 2c 31 32 2c 32 33 2c 37 34 2c 30 35 38 2c 31 34 2c 32 36 2c 32 30 2c 30 34 34 2c 32 32 2c 32 37 2c 31 30 2c 31 30 38 2c 2a 37 45 0d 0a \n",
      "End of sentence $GPGSV,4,3,15,22,18,168,12,23,74,058,14,26,20,044,22,27,10,108,*7E\n",
      "\n",
      "\n",
      "New sentence?\n",
      "24 47 50 47 53 56 2c 34 2c 34 2c 31 35 2c 33 30 2c 31 31 2c 32 34 39 2c 2c 34 36 2c 34 36 2c 31 39 31 2c 2c 35 31 2c 34 33 2c 31 35 36 2c 2a 34 39 0d 0a \n",
      "End of sentence $GPGSV,4,4,15,30,11,249,,46,46,191,,51,43,156,*49\n",
      "\n",
      "\n",
      "New sentence?\n",
      "24 47 4c 47 53 56 2c 32 2c 31 2c 30 36 2c 36 39 2c 31 30 2c 31 34 31 2c 2c 37 30 2c 36 38 2c 31 33 32 2c 2c 37 31 2c 35 34 2c 33 33 31 2c 31 37 2c 37 32 2c 30 36 2c 33 32 34 2c 2a 36 35 0d 0a \n",
      "End of sentence $GLGSV,2,1,06,69,10,141,,70,68,132,,71,54,331,17,72,06,324,*65\n",
      "\n",
      "\n",
      "New sentence?\n",
      "24 47 4c 47 53 56 2c 32 2c 32 2c 30 36 2c 37 33 2c 36 31 2c 32 33 35 2c 2c 38 30 2c 35 30 2c 30 32 39 2c 2a 36 32 0d 0a \n",
      "End of sentence $GLGSV,2,2,06,73,61,235,,80,50,029,*62\n",
      "\n",
      "\n",
      "New sentence?\n",
      "24 47 4e 47 4c 4c 2c 33 37 34 35 2e 31 32 37 36 30 2c 4e 2c 31 32 32 32 38 2e 36 32 31 38 32 2c 57 2c 30 30 33 30 34 30 2e 30 30 2c 41 2c 41 2a 36 31 0d 0a \n",
      "End of sentence $GNGLL,3745.12760,N,12228.62182,W,003040.00,A,A*61\n",
      "\n",
      "\n",
      "New sentence?\n",
      "24 47 4e 54 58 54 2c 30 31 2c 30 31 2c 30 32 2c 75 2d 62 6c 6f 78 20 41 47 20 2d 20 77 77 77 2e 75 2d 62 6c 6f 78 2e 63 6f 6d 2a 34 45 0d 0a \n",
      "End of sentence $GNTXT,01,01,02,u-blox AG - www.u-blox.com*4E\n",
      "\n",
      "\n",
      "New sentence?\n",
      "24 47 4e 54 58 54 2c 30 31 2c 30 31 2c 30 32 2c 48 57 20 55 42 58 2d 4d 38 30 33 30 20 30 30 30 38 30 30 30 30 2a 36 30 0d 0a \n",
      "End of sentence $GNTXT,01,01,02,HW UBX-M8030 00080000*60\n",
      "\n",
      "\n",
      "New sentence?\n",
      "24 47 4e 54 58 54 2c 30 31 2c 30 31 2c 30 32 2c 52 4f 4d 20 43 4f 52 45 20 33 2e 30 31 20 28 31 30 37 38 38 38 29 2a 32 42 0d 0a \n",
      "End of sentence $GNTXT,01,01,02,ROM CORE 3.01 (107888)*2B\n",
      "\n",
      "\n",
      "New sentence?\n",
      "24 47 4e 54 58 54 2c 30 31 2c 30 31 2c 30 32 2c 46 57 56 45 52 3d 53 50 47 20 33 2e 30 31 2a 34 36 0d 0a \n",
      "End of sentence $GNTXT,01,01,02,FWVER=SPG 3.01*46\n",
      "\n",
      "\n",
      "New sentence?\n",
      "24 47 4e 54 58 54 2c 30 31 2c 30 31 2c 30 32 2c 50 52 4f 54 56 45 52 3d 31 38 2e 30 30 2a 31 31 0d 0a \n",
      "End of sentence $GNTXT,01,01,02,PROTVER=18.00*11\n",
      "\n",
      "\n",
      "New sentence?\n",
      "24 47 4e 54 58 54 2c 30 31 2c 30 31 2c 30 32 2c 47 50 53 3b 47 4c 4f 3b 47 41 4c 3b 42 44 53 2a 37 37 0d 0a \n",
      "End of sentence $GNTXT,01,01,02,GPS;GLO;GAL;BDS*77\n",
      "\n",
      "\n",
      "New sentence?\n",
      "24 47 4e 54 58 54 2c 30 31 2c 30 31 2c 30 32 2c 53 42 41 53 3b 49 4d 45 53 3b 51 5a 53 53 2a 34 39 0d 0a \n",
      "End of sentence $GNTXT,01,01,02,SBAS;IMES;QZSS*49\n",
      "\n",
      "\n",
      "New sentence?\n",
      "24 47 4e 54 58 54 2c 30 31 2c 30 31 2c 30 32 2c 47 4e 53 53 20 4f 54 50 3d 47 50 53 3b 47 4c 4f 2a 33 37 0d 0a \n",
      "End of sentence $GNTXT,01,01,02,GNSS OTP=GPS;GLO*37\n",
      "\n",
      "\n",
      "New sentence?\n",
      "24 47 4e 54 58 54 2c 30 31 2c 30 31 2c 30 32 2c 4c 4c 43 3d 46 46 46 46 46 46 46 46 2d 46 46 46 46 46 46 46 46 2d 46 46 46 46 46 46 46 46 2d 46 46 46 46 46 46 46 46 2d 46 46 46 46 46 46 46 44 2a 32 46 0d 0a \n",
      "End of sentence $GNTXT,01,01,02,LLC=FFFFFFFF-FFFFFFFF-FFFFFFFF-FFFFFFFF-FFFFFFFD*2F\n",
      "\n",
      "\n",
      "\n",
      "\t\tDone reading, exiting.\n",
      "Bye.\n"
     ]
    }
   ],
   "source": [
    "port = serial.Serial(port_name, baudrate=baud_rate, timeout=3.0)\n",
    "previous_char = ''\n",
    "nb_sentences = 0\n",
    "rv = []\n",
    "#\n",
    "while True:\n",
    "    try:\n",
    "        ch = port.read()\n",
    "        if ord(ch) == ord('$'):\n",
    "            print(\"\\nNew sentence?\")\n",
    "        print(\"{:02x} \".format(ord(ch)), end='', flush=True)\n",
    "        rv.append(ch)\n",
    "        if ord(ch) == 0x0A and ord(previous_char) == 0x0D:\n",
    "            string = \"\".join(map(bytes.decode, rv))\n",
    "            print(\"\\nEnd of sentence {}\".format(string))\n",
    "            nb_sentences += 1\n",
    "            rv = []\n",
    "            if nb_sentences > 20:\n",
    "                break\n",
    "        previous_char = ch\n",
    "    except KeyboardInterrupt as ki:\n",
    "        break\n",
    "    except Exception as ex:\n",
    "            print(\"Argh! {}\".format(ex))\n",
    "            nb_sentence += 1  # Not to end up in infinite loop...\n",
    "            \n",
    "print(\"\\n\\n\\t\\tDone reading, exiting.\")\n",
    "port.close()\n",
    "\n",
    "print(\"Bye.\")"
   ]
  },
  {
   "cell_type": "markdown",
   "metadata": {},
   "source": [
    "So, now we can extract NMEA sentences from the Serial flow. Let's move on, and try to extract the data conveyed by those sentences.\n",
    "\n",
    "\n",
    "#### Validation. Example: RMC sentence\n",
    "Set the data string to validate"
   ]
  },
  {
   "cell_type": "code",
   "execution_count": 10,
   "metadata": {},
   "outputs": [],
   "source": [
    "rmc_data = \"$GPRMC,183333.000,A,4047.7034,N,07247.9938,W,0.66,196.21,150912,,,A*7C\\r\\n\""
   ]
  },
  {
   "cell_type": "markdown",
   "metadata": {},
   "source": [
    "Will keep going as long as good"
   ]
  },
  {
   "cell_type": "code",
   "execution_count": 11,
   "metadata": {},
   "outputs": [],
   "source": [
    "valid = True"
   ]
  },
  {
   "cell_type": "markdown",
   "metadata": {},
   "source": [
    "Validate start of the string"
   ]
  },
  {
   "cell_type": "code",
   "execution_count": 12,
   "metadata": {},
   "outputs": [
    {
     "name": "stdout",
     "output_type": "stream",
     "text": [
      "Start of String OK, moving on.\n"
     ]
    }
   ],
   "source": [
    "if rmc_data[0] != '$':\n",
    "    valid = False\n",
    "    print(\"String does not begin with '$', not valid\")\n",
    "else:\n",
    "    print(\"Start of String OK, moving on.\")"
   ]
  },
  {
   "cell_type": "markdown",
   "metadata": {},
   "source": [
    "Validate the end"
   ]
  },
  {
   "cell_type": "code",
   "execution_count": 13,
   "metadata": {},
   "outputs": [
    {
     "name": "stdout",
     "output_type": "stream",
     "text": [
      "String termination OK, moving on.\n"
     ]
    }
   ],
   "source": [
    "if valid:\n",
    "    if rmc_data[-2:] != \"\\r\\n\":\n",
    "        valid = False\n",
    "        print(\"Bad string termination\")\n",
    "    else:\n",
    "        print(\"String termination OK, moving on.\")"
   ]
  },
  {
   "cell_type": "markdown",
   "metadata": {},
   "source": [
    "Now, the checksum"
   ]
  },
  {
   "cell_type": "code",
   "execution_count": 16,
   "metadata": {},
   "outputs": [
    {
     "name": "stdout",
     "output_type": "stream",
     "text": [
      "Data to validate: GPRMC,183333.000,A,4047.7034,N,07247.9938,W,0.66,196.21,150912,,,A against 7C\n"
     ]
    }
   ],
   "source": [
    "if valid:\n",
    "    string_to_validate = rmc_data[1:-5]\n",
    "    checksum = rmc_data[-4:-2]\n",
    "    print(\"Data to validate: {} against {}\".format(string_to_validate, checksum))"
   ]
  },
  {
   "cell_type": "code",
   "execution_count": 17,
   "metadata": {},
   "outputs": [
    {
     "name": "stdout",
     "output_type": "stream",
     "text": [
      "Char G (0x47 0b01000111) -> CheckSum now 0x47 0b01000111\n",
      "Char P (0x50 0b01010000) -> CheckSum now 0x17 0b00010111\n",
      "Char R (0x52 0b01010010) -> CheckSum now 0x45 0b01000101\n",
      "Char M (0x4d 0b01001101) -> CheckSum now 0x08 0b00001000\n",
      "Char C (0x43 0b01000011) -> CheckSum now 0x4b 0b01001011\n",
      "Char , (0x2c 0b00101100) -> CheckSum now 0x67 0b01100111\n",
      "Char 1 (0x31 0b00110001) -> CheckSum now 0x56 0b01010110\n",
      "Char 8 (0x38 0b00111000) -> CheckSum now 0x6e 0b01101110\n",
      "Char 3 (0x33 0b00110011) -> CheckSum now 0x5d 0b01011101\n",
      "Char 3 (0x33 0b00110011) -> CheckSum now 0x6e 0b01101110\n",
      "Char 3 (0x33 0b00110011) -> CheckSum now 0x5d 0b01011101\n",
      "Char 3 (0x33 0b00110011) -> CheckSum now 0x6e 0b01101110\n",
      "Char . (0x2e 0b00101110) -> CheckSum now 0x40 0b01000000\n",
      "Char 0 (0x30 0b00110000) -> CheckSum now 0x70 0b01110000\n",
      "Char 0 (0x30 0b00110000) -> CheckSum now 0x40 0b01000000\n",
      "Char 0 (0x30 0b00110000) -> CheckSum now 0x70 0b01110000\n",
      "Char , (0x2c 0b00101100) -> CheckSum now 0x5c 0b01011100\n",
      "Char A (0x41 0b01000001) -> CheckSum now 0x1d 0b00011101\n",
      "Char , (0x2c 0b00101100) -> CheckSum now 0x31 0b00110001\n",
      "Char 4 (0x34 0b00110100) -> CheckSum now 0x05 0b00000101\n",
      "Char 0 (0x30 0b00110000) -> CheckSum now 0x35 0b00110101\n",
      "Char 4 (0x34 0b00110100) -> CheckSum now 0x01 0b00000001\n",
      "Char 7 (0x37 0b00110111) -> CheckSum now 0x36 0b00110110\n",
      "Char . (0x2e 0b00101110) -> CheckSum now 0x18 0b00011000\n",
      "Char 7 (0x37 0b00110111) -> CheckSum now 0x2f 0b00101111\n",
      "Char 0 (0x30 0b00110000) -> CheckSum now 0x1f 0b00011111\n",
      "Char 3 (0x33 0b00110011) -> CheckSum now 0x2c 0b00101100\n",
      "Char 4 (0x34 0b00110100) -> CheckSum now 0x18 0b00011000\n",
      "Char , (0x2c 0b00101100) -> CheckSum now 0x34 0b00110100\n",
      "Char N (0x4e 0b01001110) -> CheckSum now 0x7a 0b01111010\n",
      "Char , (0x2c 0b00101100) -> CheckSum now 0x56 0b01010110\n",
      "Char 0 (0x30 0b00110000) -> CheckSum now 0x66 0b01100110\n",
      "Char 7 (0x37 0b00110111) -> CheckSum now 0x51 0b01010001\n",
      "Char 2 (0x32 0b00110010) -> CheckSum now 0x63 0b01100011\n",
      "Char 4 (0x34 0b00110100) -> CheckSum now 0x57 0b01010111\n",
      "Char 7 (0x37 0b00110111) -> CheckSum now 0x60 0b01100000\n",
      "Char . (0x2e 0b00101110) -> CheckSum now 0x4e 0b01001110\n",
      "Char 9 (0x39 0b00111001) -> CheckSum now 0x77 0b01110111\n",
      "Char 9 (0x39 0b00111001) -> CheckSum now 0x4e 0b01001110\n",
      "Char 3 (0x33 0b00110011) -> CheckSum now 0x7d 0b01111101\n",
      "Char 8 (0x38 0b00111000) -> CheckSum now 0x45 0b01000101\n",
      "Char , (0x2c 0b00101100) -> CheckSum now 0x69 0b01101001\n",
      "Char W (0x57 0b01010111) -> CheckSum now 0x3e 0b00111110\n",
      "Char , (0x2c 0b00101100) -> CheckSum now 0x12 0b00010010\n",
      "Char 0 (0x30 0b00110000) -> CheckSum now 0x22 0b00100010\n",
      "Char . (0x2e 0b00101110) -> CheckSum now 0x0c 0b00001100\n",
      "Char 6 (0x36 0b00110110) -> CheckSum now 0x3a 0b00111010\n",
      "Char 6 (0x36 0b00110110) -> CheckSum now 0x0c 0b00001100\n",
      "Char , (0x2c 0b00101100) -> CheckSum now 0x20 0b00100000\n",
      "Char 1 (0x31 0b00110001) -> CheckSum now 0x11 0b00010001\n",
      "Char 9 (0x39 0b00111001) -> CheckSum now 0x28 0b00101000\n",
      "Char 6 (0x36 0b00110110) -> CheckSum now 0x1e 0b00011110\n",
      "Char . (0x2e 0b00101110) -> CheckSum now 0x30 0b00110000\n",
      "Char 2 (0x32 0b00110010) -> CheckSum now 0x02 0b00000010\n",
      "Char 1 (0x31 0b00110001) -> CheckSum now 0x33 0b00110011\n",
      "Char , (0x2c 0b00101100) -> CheckSum now 0x1f 0b00011111\n",
      "Char 1 (0x31 0b00110001) -> CheckSum now 0x2e 0b00101110\n",
      "Char 5 (0x35 0b00110101) -> CheckSum now 0x1b 0b00011011\n",
      "Char 0 (0x30 0b00110000) -> CheckSum now 0x2b 0b00101011\n",
      "Char 9 (0x39 0b00111001) -> CheckSum now 0x12 0b00010010\n",
      "Char 1 (0x31 0b00110001) -> CheckSum now 0x23 0b00100011\n",
      "Char 2 (0x32 0b00110010) -> CheckSum now 0x11 0b00010001\n",
      "Char , (0x2c 0b00101100) -> CheckSum now 0x3d 0b00111101\n",
      "Char , (0x2c 0b00101100) -> CheckSum now 0x11 0b00010001\n",
      "Char , (0x2c 0b00101100) -> CheckSum now 0x3d 0b00111101\n",
      "Char A (0x41 0b01000001) -> CheckSum now 0x7c 0b01111100\n",
      "Checksum OK, moving on\n"
     ]
    }
   ],
   "source": [
    "if valid:\n",
    "    cs = 0\n",
    "    char_array = list(string_to_validate)\n",
    "    for c in range(len(string_to_validate)):\n",
    "        cs = cs ^ ord(char_array[c])\n",
    "        print (\"Char {} (0x{:02x} 0b{}) -> CheckSum now 0x{:02x} 0b{}\".format(\n",
    "            char_array[c], \n",
    "            ord(char_array[c]), \n",
    "            str(bin(ord(char_array[c])))[2:].rjust(8, '0'), \n",
    "            cs,\n",
    "            str(bin(cs))[2:].rjust(8, '0')))\n",
    "    original_cs = int(checksum, 16)\n",
    "    if original_cs != cs:\n",
    "        valid = False\n",
    "        print(\"Invalid Checksum: Found {:02x}, expected {:02x}\".format(cs, original_cs))\n",
    "    else:\n",
    "        print(\"Checksum OK, moving on\")\n",
    "    "
   ]
  },
  {
   "cell_type": "markdown",
   "metadata": {},
   "source": [
    "### Validations OK\n",
    "Now splitting the data"
   ]
  },
  {
   "cell_type": "code",
   "execution_count": 18,
   "metadata": {},
   "outputs": [
    {
     "name": "stdout",
     "output_type": "stream",
     "text": [
      "We have 13 members:\n",
      "GPRMC\n",
      "183333.000\n",
      "A\n",
      "4047.7034\n",
      "N\n",
      "07247.9938\n",
      "W\n",
      "0.66\n",
      "196.21\n",
      "150912\n",
      "-\n",
      "-\n",
      "A\n"
     ]
    }
   ],
   "source": [
    "if valid:\n",
    "    members = string_to_validate.split(',')\n",
    "    print(\"We have {} members:\".format(len(members)))\n",
    "    for item in members:\n",
    "        print(item if len(item) > 0 else '-')"
   ]
  },
  {
   "cell_type": "code",
   "execution_count": 20,
   "metadata": {},
   "outputs": [
    {
     "name": "stdout",
     "output_type": "stream",
     "text": [
      "Device Prefix is GP, Sentence ID is RMC\n"
     ]
    }
   ],
   "source": [
    "if valid:\n",
    "    if len(members[0]) != 5:\n",
    "        print(\"Bad length for sentence prefix and ID\")\n",
    "    else:\n",
    "        device_prefix = members[0][0:2]\n",
    "        sentence_id = members[0][-3:]\n",
    "        print(\"Device Prefix is {}, Sentence ID is {}\".format(device_prefix, sentence_id))"
   ]
  },
  {
   "cell_type": "markdown",
   "metadata": {},
   "source": [
    "#### Quick utility: `Decimal to Sexagesimal` and vice-versa"
   ]
  },
  {
   "cell_type": "code",
   "execution_count": 21,
   "metadata": {},
   "outputs": [],
   "source": [
    "import math\n",
    "\n",
    "NS = 0\n",
    "EW = 1\n",
    "\n",
    "def dec_to_sex(value, type):\n",
    "    abs_val = abs(value)  # (-value) if (value < 0) else value\n",
    "    int_value = math.floor(abs_val)\n",
    "    i = int(int_value)\n",
    "    dec = abs_val - int_value\n",
    "    dec *= 60\n",
    "    sign = \"N\"\n",
    "    if type == NS:\n",
    "        if value < 0:\n",
    "            sign = \"S\"\n",
    "    else:\n",
    "        if value < 0:\n",
    "            sign = \"W\"\n",
    "        else:\n",
    "            sign = \"E\"\n",
    "    formatted = \"{} {}\\272{:0.2f}'\".format(sign, i, dec)\n",
    "    return formatted\n",
    "\n",
    "\n",
    "def sex_to_dec(deg_str, min_str):\n",
    "    \"\"\"\n",
    "    Sexagesimal to decimal\n",
    "    :param deg_str: degrees value (as string containing an int) like '12'\n",
    "    :param min_str: minutes value (as a string containing a float) like '45.00'\n",
    "    :return: decimal value, like 12.75 here.\n",
    "    \"\"\"\n",
    "    try:\n",
    "        degrees = float(deg_str)\n",
    "        minutes = float(min_str)\n",
    "        minutes *= (10.0 / 6.0)\n",
    "        ret = degrees + minutes / 100.0\n",
    "        return ret\n",
    "    except ValueError:\n",
    "        raise Exception(\"Bad numbers [{}] [{}]\".format(deg_str, min_str))\n"
   ]
  },
  {
   "cell_type": "code",
   "execution_count": 14,
   "metadata": {},
   "outputs": [
    {
     "name": "stdout",
     "output_type": "stream",
     "text": [
      "-122.5069175 becomes W 122º30.42'\n",
      "37.748837 becomes N 37º44.93'\n"
     ]
    }
   ],
   "source": [
    "sample_one = -122.5069175      \n",
    "sample_two = 37.748837\n",
    "print(\"{} becomes {}\".format(sample_one, dec_to_sex(sample_one, EW)))\n",
    "print(\"{} becomes {}\".format(sample_two, dec_to_sex(sample_two, NS)))"
   ]
  },
  {
   "cell_type": "code",
   "execution_count": 15,
   "metadata": {},
   "outputs": [
    {
     "name": "stdout",
     "output_type": "stream",
     "text": [
      "122º30.42' becomes 122.507\n"
     ]
    }
   ],
   "source": [
    "deg_1 = '122'\n",
    "min_1 = '30.42'\n",
    "print(\"{} becomes {}\".format(deg_1 + '\\272' + min_1 + \"'\", sex_to_dec(deg_1, min_1)))"
   ]
  },
  {
   "cell_type": "markdown",
   "metadata": {},
   "source": [
    "### A note about Latitude and Longitude\n",
    "In the `RMC` String above, the position is represented by\n",
    "```\n",
    " 4047.7034,N,07247.9938,W\n",
    "```\n",
    "- The latitude `4047.7034` must be read `40` degrees and `47.7034` minutes.\n",
    "- The longitude `07247.9938` means `72` degrees and `47.9938` minutes.\n",
    "\n",
    "In the `RMC` case:\n",
    "- Element with index `3` holds the latitude's value (absolute)\n",
    "- Element with index `4` holds the latitude's sign (`N` or `S`)\n",
    "- Element with index `5` holds the longitude's value (absolute)\n",
    "- Element with index `6` holds the longitude's sign (`E` or `W`)\n",
    "\n",
    "```\n",
    "                                                                    12\n",
    "  0      1      2 3        4 5         6 7     8     9      10    11\n",
    "  $GPRMC,123519,A,4807.038,N,01131.000,E,022.4,084.4,230394,003.1,W,A*6A\n",
    "         |      | |        | |         | |     |     |      |     | |\n",
    "         |      | |        | |         | |     |     |      |     | Type: A=autonomous,\n",
    "         |      | |        | |         | |     |     |      |     |       D=differential,\n",
    "         |      | |        | |         | |     |     |      |     |       E=Estimated,\n",
    "         |      | |        | |         | |     |     |      |     |       N=not valid,\n",
    "         |      | |        | |         | |     |     |      |     |       S=Simulator\n",
    "         |      | |        | |         | |     |     |      |     Variation sign\n",
    "         |      | |        | |         | |     |     |      Variation value\n",
    "         |      | |        | |         | |     |     Date DDMMYY\n",
    "         |      | |        | |         | |     COG\n",
    "         |      | |        | |         | SOG\n",
    "         |      | |        | |         Longitude Sign\n",
    "         |      | |        | Longitude Value\n",
    "         |      | |        Latitude Sign\n",
    "         |      | Latitude value\n",
    "         |      Active or Void\n",
    "         UTC\n",
    "```\n",
    "Let's re-display the array of data with the labels:"
   ]
  },
  {
   "cell_type": "code",
   "execution_count": 23,
   "metadata": {},
   "outputs": [
    {
     "name": "stdout",
     "output_type": "stream",
     "text": [
      "                 Key: GPRMC\n",
      "                 UTC: 183333.000\n",
      "                 Act: A\n",
      "           Lat Value: 4047.7034\n",
      "            Lat Sign: N\n",
      "          Long Value: 07247.9938\n",
      "           Long Sign: W\n",
      "                 SOG: 0.66\n",
      "                 COG: 196.21\n",
      "            UTC Date: 150912\n",
      "     Variation value: -\n",
      "      Variation Sign: -\n",
      "                Type: A\n"
     ]
    }
   ],
   "source": [
    "rmc_labels = [\n",
    "    \"Key\",\n",
    "    \"UTC\",\n",
    "    \"Act\",\n",
    "    \"Lat Value\",\n",
    "    \"Lat Sign\",\n",
    "    \"Long Value\",\n",
    "    \"Long Sign\",\n",
    "    \"SOG\",\n",
    "    \"COG\",\n",
    "    \"UTC Date\",\n",
    "    \"Variation value\",\n",
    "    \"Variation Sign\",\n",
    "    \"Type\"\n",
    "]\n",
    "for i in range(len(members)):\n",
    "    try:\n",
    "        val = members[i]\n",
    "    except IndexError:\n",
    "        val = '-'\n",
    "    print(\"{}: {}\".format(rmc_labels[i].rjust(20, ' '), val if len(val) > 0 else '-'))\n"
   ]
  },
  {
   "cell_type": "markdown",
   "metadata": {},
   "source": [
    "Now, extract position:"
   ]
  },
  {
   "cell_type": "code",
   "execution_count": 25,
   "metadata": {},
   "outputs": [
    {
     "name": "stdout",
     "output_type": "stream",
     "text": [
      "Abs Lat: 40.477033999999996, Lat Deg: 40, Lat Min: 47.70339999999962 \n",
      "Latitude 40.79505666666666\n"
     ]
    }
   ],
   "source": [
    "# Extract Latitude\n",
    "abs_lat = float(members[3]) / 100\n",
    "lat_deg = int(abs_lat)\n",
    "lat_min = (abs_lat - lat_deg) * 100\n",
    "print(\"Abs Lat: {}, Lat Deg: {}, Lat Min: {} \".format(abs_lat, lat_deg, lat_min))\n",
    "decimal_lat = sex_to_dec(str(lat_deg), str(lat_min))\n",
    "decimal_lat *= (1 if members[4] == 'N' else -1)\n",
    "print(\"Latitude {}\".format(decimal_lat))"
   ]
  },
  {
   "cell_type": "code",
   "execution_count": 26,
   "metadata": {},
   "outputs": [
    {
     "name": "stdout",
     "output_type": "stream",
     "text": [
      "Abs Lng: 72.479938, Lng Deg: 72, Lng Min: 47.99380000000042 \n",
      "Longitude -72.79989666666667\n"
     ]
    }
   ],
   "source": [
    "# Extract Longitude\n",
    "abs_lng = float(members[5]) / 100\n",
    "lng_deg = int(abs_lng)\n",
    "lng_min = (abs_lng - lng_deg) * 100\n",
    "print(\"Abs Lng: {}, Lng Deg: {}, Lng Min: {} \".format(abs_lng, lng_deg, lng_min))\n",
    "decimal_lng = sex_to_dec(str(lng_deg), str(lng_min))\n",
    "decimal_lng *= (1 if members[6] == 'E' else -1)\n",
    "print(\"Longitude {}\".format(decimal_lng))"
   ]
  },
  {
   "cell_type": "markdown",
   "metadata": {},
   "source": [
    "### Using the `nmea_parser.py`"
   ]
  },
  {
   "cell_type": "code",
   "execution_count": 27,
   "metadata": {},
   "outputs": [
    {
     "name": "stdout",
     "output_type": "stream",
     "text": [
      "---------------------\n",
      "nmea_parser NOT running as main, probably imported.\n",
      "---------------------\n"
     ]
    }
   ],
   "source": [
    "import json\n",
    "import nmea_parser as NMEAParser"
   ]
  },
  {
   "cell_type": "code",
   "execution_count": 28,
   "metadata": {},
   "outputs": [],
   "source": [
    "samples = [\n",
    "    \"$IIRMC,092551,A,1036.145,S,15621.845,W,04.8,317,,10,E,A*0D\\r\\n\",\n",
    "    \"$IIMWV,088,T,14.34,N,A*27\\r\\n\",\n",
    "    \"$IIVWR,148.,L,02.4,N,01.2,M,04.4,K*XX\\r\\n\",\n",
    "    \"$IIVTG,054.7,T,034.4,M,005.5,N,010.2,K,A*XX\\r\\n\",\n",
    "    \"$GPTXT,01,01,02,u-blox ag - www.u-blox.com*50\\r\\n\",\n",
    "    \"$GPRMC,183333.000,A,4047.7034,N,07247.9938,W,0.66,196.21,150912,,,A*7C\\r\\n\",\n",
    "    \"$IIGLL,3739.854,N,12222.812,W,014003,A,A*49\\r\\n\"\n",
    "]"
   ]
  },
  {
   "cell_type": "code",
   "execution_count": 29,
   "metadata": {},
   "outputs": [
    {
     "name": "stdout",
     "output_type": "stream",
     "text": [
      "Parsing $IIRMC,092551,A,1036.145,S,15621.845,W,04.8,317,,10,E,A*0D\r\n",
      "\n",
      "Parsed Object: {\n",
      "  \"type\": \"rmc\",\n",
      "  \"parsed\": {\n",
      "    \"valid\": \"true\",\n",
      "    \"position\": {\n",
      "      \"latitude\": -10.602416666666667,\n",
      "      \"longitude\": -156.36408333333333\n",
      "    },\n",
      "    \"sog\": 4.8,\n",
      "    \"cog\": 317.0,\n",
      "    \"declination\": 10.0,\n",
      "    \"type\": \"autonomous\"\n",
      "  }\n",
      "}\n",
      "----------------------------------\n",
      "Parsing $IIMWV,088,T,14.34,N,A*27\r\n",
      "\n",
      "Ooops! <class 'nmea_parser.NoParserException'>, No parser exists (yet) for MWV\n",
      "----------------------------------\n",
      "Parsing $IIVWR,148.,L,02.4,N,01.2,M,04.4,K*XX\r\n",
      "\n",
      "Ooops! <class 'nmea_parser.InvalidChecksumException'>, Invalid checksum for $IIVWR,148.,L,02.4,N,01.2,M,04.4,K*XX\n",
      "----------------------------------\n",
      "Parsing $IIVTG,054.7,T,034.4,M,005.5,N,010.2,K,A*XX\r\n",
      "\n",
      "Ooops! <class 'nmea_parser.InvalidChecksumException'>, Invalid checksum for $IIVTG,054.7,T,034.4,M,005.5,N,010.2,K,A*XX\n",
      "----------------------------------\n",
      "Parsing $GPTXT,01,01,02,u-blox ag - www.u-blox.com*50\r\n",
      "\n",
      "Parsed Object: {\n",
      "  \"type\": \"txt\",\n",
      "  \"parsed\": {\n",
      "    \"content\": \"u-blox ag - www.u-blox.com\"\n",
      "  }\n",
      "}\n",
      "----------------------------------\n",
      "Parsing $GPRMC,183333.000,A,4047.7034,N,07247.9938,W,0.66,196.21,150912,,,A*7C\r\n",
      "\n",
      "Parsed Object: {\n",
      "  \"type\": \"rmc\",\n",
      "  \"parsed\": {\n",
      "    \"valid\": \"true\",\n",
      "    \"utc-date-itemized\": {\n",
      "      \"year\": 2012,\n",
      "      \"month\": 9,\n",
      "      \"day\": 15,\n",
      "      \"hours\": 18,\n",
      "      \"minutes\": 33,\n",
      "      \"seconds\": 33\n",
      "    },\n",
      "    \"position\": {\n",
      "      \"latitude\": 40.79505666666667,\n",
      "      \"longitude\": -72.79989666666667\n",
      "    },\n",
      "    \"sog\": 0.66,\n",
      "    \"cog\": 196.21,\n",
      "    \"type\": \"autonomous\"\n",
      "  }\n",
      "}\n",
      "----------------------------------\n",
      "Parsing $IIGLL,3739.854,N,12222.812,W,014003,A,A*49\r\n",
      "\n",
      "Parsed Object: {\n",
      "  \"type\": \"gll\",\n",
      "  \"parsed\": {\n",
      "    \"valid\": \"true\",\n",
      "    \"position\": {\n",
      "      \"latitude\": 37.664233333333335,\n",
      "      \"longitude\": -122.3802\n",
      "    },\n",
      "    \"gll-time-itemized\": {\n",
      "      \"hours\": 1,\n",
      "      \"minutes\": 40,\n",
      "      \"seconds\": 3\n",
      "    }\n",
      "  }\n",
      "}\n",
      "----------------------------------\n"
     ]
    }
   ],
   "source": [
    "for sentence in samples:\n",
    "    print(\"Parsing {}\".format(sentence))\n",
    "    try:\n",
    "        nmea_obj = NMEAParser.parse_nmea_sentence(sentence)\n",
    "        try:\n",
    "            print('Parsed Object: {}'.format(json.dumps(nmea_obj, indent=2)))\n",
    "        except TypeError as type_error:\n",
    "            print('TypeError: {}'.format(type_error))\n",
    "            print('Parsed Object (raw): {}'.format(nmea_obj))\n",
    "    except Exception as ex:\n",
    "        print(\"Ooops! {}, {}\".format(type(ex), ex))\n",
    "    print(\"----------------------------------\")\n"
   ]
  },
  {
   "cell_type": "code",
   "execution_count": null,
   "metadata": {},
   "outputs": [],
   "source": []
  }
 ],
 "metadata": {
  "kernelspec": {
   "display_name": "Python 3",
   "language": "python",
   "name": "python3"
  },
  "language_info": {
   "codemirror_mode": {
    "name": "ipython",
    "version": 3
   },
   "file_extension": ".py",
   "mimetype": "text/x-python",
   "name": "python",
   "nbconvert_exporter": "python",
   "pygments_lexer": "ipython3",
   "version": "3.7.0"
  }
 },
 "nbformat": 4,
 "nbformat_minor": 2
}
